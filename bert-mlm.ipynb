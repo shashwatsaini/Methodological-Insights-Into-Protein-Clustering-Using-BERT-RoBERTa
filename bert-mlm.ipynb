{
 "cells": [
  {
   "cell_type": "code",
   "execution_count": null,
   "id": "454182db",
   "metadata": {
    "_cell_guid": "b1076dfc-b9ad-4769-8c92-a6c4dae69d19",
    "_uuid": "8f2839f25d086af736a60e9eeb907d3b93b6e0e5",
    "papermill": {
     "duration": 5.517382,
     "end_time": "2023-12-27T11:07:25.880197",
     "exception": false,
     "start_time": "2023-12-27T11:07:20.362815",
     "status": "completed"
    },
    "tags": []
   },
   "outputs": [],
   "source": [
    "import numpy as np # For mathematical operations\n",
    "import pandas as pd # For tabular data structures\n",
    "import os"
   ]
  },
  {
   "cell_type": "code",
   "execution_count": null,
   "id": "20651adf",
   "metadata": {
    "papermill": {
     "duration": 0.027649,
     "end_time": "2023-12-27T11:07:25.921674",
     "exception": false,
     "start_time": "2023-12-27T11:07:25.894025",
     "status": "completed"
    },
    "tags": []
   },
   "outputs": [],
   "source": [
    "# Creating directories\n",
    "model_mlm_dir = '/working/mlm_model'\n",
    "padded_states_dir = '/working/padded_states'\n",
    "hidden_states_dir = '/working/hidden_states'\n",
    "model_dir = '/working/model'\n",
    "tokenizer_dir = '/working/tokenizer_dir'\n",
    "txt_files_dir = '/working/sequence_files'\n",
    "\n",
    "if not os.path.exists(txt_files_dir):\n",
    "    os.makedirs(txt_files_dir)\n",
    "\n",
    "if not os.path.exists(tokenizer_dir):\n",
    "    os.makedirs(tokenizer_dir)\n",
    "\n",
    "if not os.path.exists(model_dir):\n",
    "    os.makedirs(model_dir)\n",
    "\n",
    "if not os.path.exists(hidden_states_dir):\n",
    "    os.makedirs(hidden_states_dir)\n",
    "    \n",
    "if not os.path.exists(padded_states_dir):\n",
    "    os.makedirs(padded_states_dir)\n",
    "\n",
    "if not os.path.exists(model_mlm_dir):\n",
    "    os.makedirs(model_mlm_dir)"
   ]
  },
  {
   "cell_type": "code",
   "execution_count": null,
   "id": "22b568fd",
   "metadata": {
    "papermill": {
     "duration": 0.018637,
     "end_time": "2023-12-27T11:07:25.983583",
     "exception": false,
     "start_time": "2023-12-27T11:07:25.964946",
     "status": "completed"
    },
    "tags": []
   },
   "outputs": [],
   "source": [
    "# Defining variables\n",
    "max_position_embeddings = 2048 # For roberta tokenizer and model\n",
    "max_sequence_length = 2000 # Cannot exceed max_position_embeddings\n",
    "min_sequence_length = 400\n",
    "num_sequence = 4000\n",
    "vocab_size = 50265\n",
    "gene_ontology_unique = -1 # Will be assigned later\n",
    "gene_ontology_filter_threshold = 50 # Model will only take proteins with more than n common gene ontology ids\n",
    "\n",
    "from collections import defaultdict\n",
    "def def_value():\n",
    "    return 0\n",
    "gene_ontology_counts = defaultdict(def_value) # Default dictionary for gene ontology ids\n",
    "filtered_gene_ontology_counts = defaultdict(def_value) # Default dictionary after gene ontology ids have been filtered\n",
    "\n",
    "if max_sequence_length > max_position_embeddings:\n",
    "    print('Sequence length exceeds position embeddings')\n",
    "    exit()"
   ]
  },
  {
   "cell_type": "code",
   "execution_count": null,
   "id": "5823615e",
   "metadata": {
    "papermill": {
     "duration": 44.254676,
     "end_time": "2023-12-27T11:08:10.247787",
     "exception": false,
     "start_time": "2023-12-27T11:07:25.993111",
     "status": "completed"
    },
    "tags": []
   },
   "outputs": [],
   "source": [
    "uniprot = pd.read_csv('/data.csv')"
   ]
  },
  {
   "cell_type": "markdown",
   "id": "2e774c71",
   "metadata": {
    "papermill": {
     "duration": 0.009588,
     "end_time": "2023-12-27T11:08:10.267153",
     "exception": false,
     "start_time": "2023-12-27T11:08:10.257565",
     "status": "completed"
    },
    "tags": []
   },
   "source": [
    "Filtering data:"
   ]
  },
  {
   "cell_type": "code",
   "execution_count": null,
   "id": "c3e39bc9",
   "metadata": {
    "papermill": {
     "duration": 0.82096,
     "end_time": "2023-12-27T11:08:11.097641",
     "exception": false,
     "start_time": "2023-12-27T11:08:10.276681",
     "status": "completed"
    },
    "tags": []
   },
   "outputs": [],
   "source": [
    "# Filtering out specific columns\n",
    "uniprot = uniprot[['Sequence', 'Length', 'Organism', 'Gene Ontology IDs']]\n",
    "# Filtering out proteins associated with humans, and with a specific sequence length\n",
    "uniprot = uniprot[(uniprot['Length'] < max_sequence_length) & (uniprot['Length'] > min_sequence_length)]\n",
    "# Picking first n proteins\n",
    "uniprot = uniprot.dropna()\n",
    "uniprot = uniprot.head(num_sequence)\n",
    "uniprot = uniprot.reset_index(drop=True)"
   ]
  },
  {
   "cell_type": "markdown",
   "id": "ab37ceab",
   "metadata": {
    "papermill": {
     "duration": 0.009328,
     "end_time": "2023-12-27T11:08:11.117101",
     "exception": false,
     "start_time": "2023-12-27T11:08:11.107773",
     "status": "completed"
    },
    "tags": []
   },
   "source": [
    "Preprocessing Gene Ontology IDs for fine-tuning:"
   ]
  },
  {
   "cell_type": "code",
   "execution_count": null,
   "id": "02392323",
   "metadata": {
    "papermill": {
     "duration": 0.019656,
     "end_time": "2023-12-27T11:08:11.146272",
     "exception": false,
     "start_time": "2023-12-27T11:08:11.126616",
     "status": "completed"
    },
    "tags": []
   },
   "outputs": [],
   "source": [
    "def preprocess_gene_ontology(id):\n",
    "    ids = id.split(';')\n",
    "    gene_ontology_id = 0\n",
    "    found = False\n",
    "    \n",
    "    for gene_ontology_id in ids:\n",
    "        if gene_ontology_id in gene_ontology_counts.keys():\n",
    "            found = True\n",
    "            break\n",
    "            \n",
    "    if not found:\n",
    "        gene_ontology_id = ids[0]\n",
    "        \n",
    "    gene_ontology_counts[gene_ontology_id] += 1\n",
    "    return gene_ontology_id"
   ]
  },
  {
   "cell_type": "code",
   "execution_count": null,
   "id": "6c78ff94",
   "metadata": {
    "papermill": {
     "duration": 0.028554,
     "end_time": "2023-12-27T11:08:11.184677",
     "exception": false,
     "start_time": "2023-12-27T11:08:11.156123",
     "status": "completed"
    },
    "tags": []
   },
   "outputs": [],
   "source": [
    "uniprot['Gene_ontology_id'] = uniprot['Gene Ontology IDs'].apply(lambda id: preprocess_gene_ontology(id))\n",
    "gene_ontology_unique = len(gene_ontology_counts.values())\n",
    "print('Number of unique Gene Ontology IDs: {}'.format(gene_ontology_unique))"
   ]
  },
  {
   "cell_type": "code",
   "execution_count": null,
   "id": "b33876c2",
   "metadata": {
    "papermill": {
     "duration": 0.030849,
     "end_time": "2023-12-27T11:08:11.225113",
     "exception": false,
     "start_time": "2023-12-27T11:08:11.194264",
     "status": "completed"
    },
    "tags": []
   },
   "outputs": [],
   "source": [
    "uniprot"
   ]
  },
  {
   "cell_type": "code",
   "execution_count": null,
   "id": "2d010f67",
   "metadata": {
    "papermill": {
     "duration": 0.019378,
     "end_time": "2023-12-27T11:08:11.254747",
     "exception": false,
     "start_time": "2023-12-27T11:08:11.235369",
     "status": "completed"
    },
    "tags": []
   },
   "outputs": [],
   "source": [
    "def filter_by_gene_ontology_counts(df, gene_ontology_filter_threshold):\n",
    "    \n",
    "    count = 0\n",
    "    \n",
    "    for i in range(df.shape[0]):\n",
    "        if(gene_ontology_counts[df.at[i, 'Gene_ontology_id']] > gene_ontology_filter_threshold):\n",
    "            if df.at[i, 'Gene_ontology_id'] in filtered_gene_ontology_counts.keys():\n",
    "                filtered_gene_ontology_counts[df.at[i, 'Gene_ontology_id']] += 1\n",
    "            else:\n",
    "                filtered_gene_ontology_counts[df.at[i, 'Gene_ontology_id']] = 1\n",
    "            count += 1\n",
    "            continue\n",
    "        else:\n",
    "            df = df.drop(i)\n",
    "    \n",
    "    print('Number of Proteins after Gene Ontology Filtering: {}'.format(count))\n",
    "    \n",
    "    return df"
   ]
  },
  {
   "cell_type": "code",
   "execution_count": null,
   "id": "4ba32370",
   "metadata": {
    "papermill": {
     "duration": 1.977767,
     "end_time": "2023-12-27T11:08:13.242317",
     "exception": false,
     "start_time": "2023-12-27T11:08:11.264550",
     "status": "completed"
    },
    "tags": []
   },
   "outputs": [],
   "source": [
    "uniprot = filter_by_gene_ontology_counts(uniprot, gene_ontology_filter_threshold)"
   ]
  },
  {
   "cell_type": "code",
   "execution_count": null,
   "id": "6de66e78",
   "metadata": {
    "papermill": {
     "duration": 0.018721,
     "end_time": "2023-12-27T11:08:13.271226",
     "exception": false,
     "start_time": "2023-12-27T11:08:13.252505",
     "status": "completed"
    },
    "tags": []
   },
   "outputs": [],
   "source": [
    "print('Filtered Gene Ontology Dictionary:{}'.format(filtered_gene_ontology_counts.items()))"
   ]
  },
  {
   "cell_type": "code",
   "execution_count": null,
   "id": "d57a293a",
   "metadata": {
    "papermill": {
     "duration": 0.027796,
     "end_time": "2023-12-27T11:08:13.309031",
     "exception": false,
     "start_time": "2023-12-27T11:08:13.281235",
     "status": "completed"
    },
    "tags": []
   },
   "outputs": [],
   "source": [
    "uniprot"
   ]
  },
  {
   "cell_type": "code",
   "execution_count": null,
   "id": "20aa125f",
   "metadata": {
    "papermill": {
     "duration": 0.018771,
     "end_time": "2023-12-27T11:08:13.338882",
     "exception": false,
     "start_time": "2023-12-27T11:08:13.320111",
     "status": "completed"
    },
    "tags": []
   },
   "outputs": [],
   "source": [
    "def preprocess_sequence(df):\n",
    "    for index, row in df.iterrows():\n",
    "        tokens = list(row['Sequence'])\n",
    "        df.at[index, 'Sequence'] = str(tokens[0] + \" \".join(tokens[1:-1]) + \" \" + tokens[-1])\n",
    "    return df"
   ]
  },
  {
   "cell_type": "code",
   "execution_count": null,
   "id": "0f8b2979",
   "metadata": {
    "papermill": {
     "duration": 0.159181,
     "end_time": "2023-12-27T11:08:13.509195",
     "exception": false,
     "start_time": "2023-12-27T11:08:13.350014",
     "status": "completed"
    },
    "tags": []
   },
   "outputs": [],
   "source": [
    "uniprot = preprocess_sequence(uniprot)"
   ]
  },
  {
   "cell_type": "code",
   "execution_count": null,
   "id": "89bf5cbf",
   "metadata": {
    "papermill": {
     "duration": 0.024818,
     "end_time": "2023-12-27T11:08:13.544894",
     "exception": false,
     "start_time": "2023-12-27T11:08:13.520076",
     "status": "completed"
    },
    "tags": []
   },
   "outputs": [],
   "source": [
    "uniprot.head()"
   ]
  },
  {
   "cell_type": "code",
   "execution_count": null,
   "id": "a5715490",
   "metadata": {
    "papermill": {
     "duration": 0.721842,
     "end_time": "2023-12-27T11:08:14.277417",
     "exception": false,
     "start_time": "2023-12-27T11:08:13.555575",
     "status": "completed"
    },
    "tags": []
   },
   "outputs": [],
   "source": [
    "from sklearn.preprocessing import OrdinalEncoder\n",
    "\n",
    "gene_ontology_encoder = OrdinalEncoder()\n",
    "uniprot['Gene_ontology_id_encoded'] = gene_ontology_encoder.fit_transform(np.array(uniprot['Gene_ontology_id']).reshape(-1,1))"
   ]
  },
  {
   "cell_type": "code",
   "execution_count": null,
   "id": "f99b5db5",
   "metadata": {
    "papermill": {
     "duration": 0.030498,
     "end_time": "2023-12-27T11:08:14.318939",
     "exception": false,
     "start_time": "2023-12-27T11:08:14.288441",
     "status": "completed"
    },
    "tags": []
   },
   "outputs": [],
   "source": [
    "uniprot"
   ]
  },
  {
   "cell_type": "code",
   "execution_count": null,
   "id": "da01ecc3",
   "metadata": {
    "papermill": {
     "duration": 0.020363,
     "end_time": "2023-12-27T11:08:14.350404",
     "exception": false,
     "start_time": "2023-12-27T11:08:14.330041",
     "status": "completed"
    },
    "tags": []
   },
   "outputs": [],
   "source": [
    "preds = uniprot['Gene_ontology_id_encoded']\n",
    "\n",
    "# 20% for testing:\n",
    "train = uniprot.head(int(num_sequence * 0.8))\n",
    "train.reset_index(drop=True, inplace=True)\n",
    "train_y = preds.head(int(num_sequence * 0.8))\n",
    "train_y.reset_index(drop=True, inplace=True)\n",
    "\n",
    "test = uniprot.tail(int(num_sequence * 0.2))\n",
    "test.reset_index(drop=True, inplace=True)\n",
    "test_y = preds.tail(int(num_sequence * 0.2))\n",
    "test_y.reset_index(drop=True, inplace=True)"
   ]
  },
  {
   "cell_type": "code",
   "execution_count": null,
   "id": "61a2eae6",
   "metadata": {
    "papermill": {
     "duration": 0.042434,
     "end_time": "2023-12-27T11:08:14.403654",
     "exception": false,
     "start_time": "2023-12-27T11:08:14.361220",
     "status": "completed"
    },
    "tags": []
   },
   "outputs": [],
   "source": [
    "train"
   ]
  },
  {
   "cell_type": "code",
   "execution_count": null,
   "id": "9f186f61",
   "metadata": {
    "papermill": {
     "duration": 0.029013,
     "end_time": "2023-12-27T11:08:14.446344",
     "exception": false,
     "start_time": "2023-12-27T11:08:14.417331",
     "status": "completed"
    },
    "tags": []
   },
   "outputs": [],
   "source": [
    "train_y"
   ]
  },
  {
   "cell_type": "markdown",
   "id": "8cb8518a",
   "metadata": {
    "papermill": {
     "duration": 0.011337,
     "end_time": "2023-12-27T11:08:14.469172",
     "exception": false,
     "start_time": "2023-12-27T11:08:14.457835",
     "status": "completed"
    },
    "tags": []
   },
   "source": [
    "Initializing the language model for MLM:"
   ]
  },
  {
   "cell_type": "code",
   "execution_count": null,
   "id": "63e2269c",
   "metadata": {
    "papermill": {
     "duration": 15.354076,
     "end_time": "2023-12-27T11:08:29.837690",
     "exception": false,
     "start_time": "2023-12-27T11:08:14.483614",
     "status": "completed"
    },
    "tags": []
   },
   "outputs": [],
   "source": [
    "from transformers import BertConfig\n",
    "from transformers import BertForMaskedLM\n",
    "\n",
    "# Set a configuration for the model\n",
    "config = BertConfig(\n",
    "    vocab_size=vocab_size,\n",
    "    max_position_embeddings=max_position_embeddings,\n",
    "    num_attention_heads=12,\n",
    "    num_hidden_layers=6,\n",
    "    type_vocab_size=1\n",
    ")\n",
    "\n",
    "# Initialize the model from a configuration without pretrained weights\n",
    "model_mlm = BertForMaskedLM.from_pretrained('bert-base-uncased', config=config, ignore_mismatched_sizes=True)\n",
    "print('Number of parameters: ',model_mlm.num_parameters())"
   ]
  },
  {
   "cell_type": "markdown",
   "id": "f6516691",
   "metadata": {
    "papermill": {
     "duration": 0.011648,
     "end_time": "2023-12-27T11:08:29.861445",
     "exception": false,
     "start_time": "2023-12-27T11:08:29.849797",
     "status": "completed"
    },
    "tags": []
   },
   "source": [
    "Initializing the tokenizer from the previous configuration:"
   ]
  },
  {
   "cell_type": "code",
   "execution_count": null,
   "id": "9375c1d2",
   "metadata": {
    "papermill": {
     "duration": 1.705402,
     "end_time": "2023-12-27T11:08:31.578590",
     "exception": false,
     "start_time": "2023-12-27T11:08:29.873188",
     "status": "completed"
    },
    "tags": []
   },
   "outputs": [],
   "source": [
    "from transformers import AutoTokenizer\n",
    "\n",
    "tokenizer = AutoTokenizer.from_pretrained('bert-base-uncased', \n",
    "    max_len=max_sequence_length,\n",
    "    truncation=True,\n",
    "    padding='max_length',\n",
    "    return_tensors='pt',\n",
    "    )"
   ]
  },
  {
   "cell_type": "code",
   "execution_count": null,
   "id": "77f801c3",
   "metadata": {
    "papermill": {
     "duration": 0.020096,
     "end_time": "2023-12-27T11:08:31.611709",
     "exception": false,
     "start_time": "2023-12-27T11:08:31.591613",
     "status": "completed"
    },
    "tags": []
   },
   "outputs": [],
   "source": [
    "TRAIN_EPOCHS = 100\n",
    "LEARNING_RATE = 1e-4\n",
    "TRAIN_BATCH_SIZE = 2"
   ]
  },
  {
   "cell_type": "markdown",
   "id": "321abf67",
   "metadata": {
    "papermill": {
     "duration": 0.012358,
     "end_time": "2023-12-27T11:08:31.636605",
     "exception": false,
     "start_time": "2023-12-27T11:08:31.624247",
     "status": "completed"
    },
    "tags": []
   },
   "source": [
    "Building the dataset for masked language modelling:"
   ]
  },
  {
   "cell_type": "code",
   "execution_count": null,
   "id": "eebba078",
   "metadata": {
    "papermill": {
     "duration": 0.026234,
     "end_time": "2023-12-27T11:08:31.675195",
     "exception": false,
     "start_time": "2023-12-27T11:08:31.648961",
     "status": "completed"
    },
    "tags": []
   },
   "outputs": [],
   "source": [
    "import torch\n",
    "from torch.utils.data import Dataset, DataLoader\n",
    "\n",
    "class MLMDataset(Dataset):\n",
    "    def __init__(self, sequences, tokenizer, max_length=max_position_embeddings, mask_prob=0.15):\n",
    "        self.sequences = sequences\n",
    "        self.tokenizer = tokenizer\n",
    "        self.mask_prob = mask_prob\n",
    "        self.max_length = max_length\n",
    "\n",
    "    def __len__(self):\n",
    "        return len(self.sequences)\n",
    "\n",
    "    def __getitem__(self, idx):\n",
    "        assert 0 <= idx < len(self.sequences), f\"Index {idx} is out of bounds for sequences\"\n",
    "\n",
    "        sequence = self.sequences[idx]\n",
    "\n",
    "        # Tokenize the sentence\n",
    "        input_ids, labels = self.mask_and_encode_tokens(sequence)\n",
    "\n",
    "        # Create attention mask\n",
    "        attention_mask = [1] * len(input_ids)\n",
    "\n",
    "        # Convert labels to tensor\n",
    "        labels = torch.tensor(labels)\n",
    "\n",
    "        return {\n",
    "            'input_ids': torch.tensor(input_ids),\n",
    "            'attention_mask': torch.tensor(attention_mask),\n",
    "            'labels': labels\n",
    "        }\n",
    "\n",
    "    def mask_and_encode_tokens(self, tokens):\n",
    "        \n",
    "        encoding = self.tokenizer.encode_plus(\n",
    "            text=tokens,\n",
    "            padding='max_length',\n",
    "            max_length = self.max_length,\n",
    "            return_tensors='pt',\n",
    "        )\n",
    "\n",
    "        # Extract input IDs\n",
    "        tokens = encoding['input_ids'].squeeze().tolist()\n",
    "\n",
    "        # Initialize labels with -100 (ignore index)\n",
    "        labels = [-100] * len(tokens)\n",
    "\n",
    "        for i, token in enumerate(tokens):\n",
    "            # Randomly decide whether to mask the token\n",
    "            if torch.rand(1).item() < self.mask_prob:\n",
    "                # Mask the token\n",
    "                tokens[i] = self.tokenizer.mask_token_id\n",
    "                labels[i] = token\n",
    "\n",
    "        return tokens, labels"
   ]
  },
  {
   "cell_type": "code",
   "execution_count": null,
   "id": "b252a72b",
   "metadata": {
    "papermill": {
     "duration": 0.020052,
     "end_time": "2023-12-27T11:08:31.707631",
     "exception": false,
     "start_time": "2023-12-27T11:08:31.687579",
     "status": "completed"
    },
    "tags": []
   },
   "outputs": [],
   "source": [
    "mlm_dataset = MLMDataset(train['Sequence'], tokenizer)\n",
    "mlm_dataloader = DataLoader(mlm_dataset, batch_size=TRAIN_BATCH_SIZE, shuffle=True)"
   ]
  },
  {
   "cell_type": "code",
   "execution_count": null,
   "id": "573cfe6e",
   "metadata": {
    "papermill": {
     "duration": 0.028111,
     "end_time": "2023-12-27T11:08:31.779463",
     "exception": false,
     "start_time": "2023-12-27T11:08:31.751352",
     "status": "completed"
    },
    "tags": []
   },
   "outputs": [],
   "source": [
    "import torch\n",
    "import sys\n",
    "from transformers import AdamW\n",
    "\n",
    "def train_model_mlm(model, train_dataloader, optimizer, model_dir, num_epochs=5, save_every=1):\n",
    "    device = torch.device('cuda' if torch.cuda.is_available() else 'cpu')\n",
    "    \n",
    "    model.to(device)\n",
    "    model.train()\n",
    "\n",
    "    print('Starting RoBERTa MLM Training')\n",
    "    \n",
    "    losses = []\n",
    "    prev_loss = sys.float_info.max\n",
    "    early_stop_threshold = 0.1\n",
    "    \n",
    "    for epoch in range(num_epochs):\n",
    "        total_loss = 0.0\n",
    "        for batch in train_dataloader:\n",
    "            input_ids = batch['input_ids'].to(device)\n",
    "            labels = batch['labels'].to(device)\n",
    "            attention_mask = batch['attention_mask'].to(device)\n",
    "\n",
    "            optimizer.zero_grad()\n",
    "            outputs = model(input_ids=input_ids, labels=labels, attention_mask=attention_mask)\n",
    "            loss = outputs.loss\n",
    "            loss.backward()\n",
    "            optimizer.step()\n",
    "\n",
    "            total_loss += loss.item()\n",
    "\n",
    "        average_loss = total_loss / len(train_dataloader)\n",
    "        losses.append(average_loss)\n",
    "        print(f'Epoch {epoch + 1}/{num_epochs}, Average Loss: {average_loss:.4f}')\n",
    "        \n",
    "        # For early stopping\n",
    "        if (prev_loss > average_loss):\n",
    "            prev_loss = average_loss\n",
    "            # Save the model every 'save_every' epochs\n",
    "            if (epoch + 1) % save_every == 0:\n",
    "                model.save_pretrained(model_dir)\n",
    "                print('Saved model at Epoch: {}'.format(epoch+1))\n",
    "        elif(prev_loss < average_loss and average_loss - prev_loss <= early_stop_threshold * average_loss):\n",
    "            prev_loss = average_loss\n",
    "            if (epoch + 1) % save_every == 0:\n",
    "                model.save_pretrained(model_dir)\n",
    "                print('Saved model at Epoch: {}'.format(epoch+1))\n",
    "        else:\n",
    "            print('Early stopping at Epoch: {}'.format(epoch+1))\n",
    "            break\n",
    "        \n",
    "        # Saving the loss\n",
    "        losses_np = np.array(losses)\n",
    "        np.save('/working/losses.npy', losses_np)\n",
    "\n",
    "    print(\"Training complete.\")\n",
    "    return model, losses"
   ]
  },
  {
   "cell_type": "code",
   "execution_count": null,
   "id": "f547d56f",
   "metadata": {
    "papermill": {
     "duration": 6405.211872,
     "end_time": "2023-12-27T12:55:17.003712",
     "exception": false,
     "start_time": "2023-12-27T11:08:31.791840",
     "status": "completed"
    },
    "tags": []
   },
   "outputs": [],
   "source": [
    "# Initialize the optimizer and the loss function\n",
    "optimizer = AdamW(model_mlm.parameters(), lr=LEARNING_RATE)\n",
    "\n",
    "model_mlm, losses = train_model_mlm(model_mlm, mlm_dataloader, optimizer, model_mlm_dir, num_epochs=TRAIN_EPOCHS)"
   ]
  },
  {
   "cell_type": "code",
   "execution_count": null,
   "id": "c8ef3210",
   "metadata": {
    "papermill": {
     "duration": 0.340278,
     "end_time": "2023-12-27T12:55:17.359479",
     "exception": false,
     "start_time": "2023-12-27T12:55:17.019201",
     "status": "completed"
    },
    "tags": []
   },
   "outputs": [],
   "source": [
    "import matplotlib.pyplot as plt\n",
    "\n",
    "plt.plot(losses, label='Training Loss')\n",
    "plt.title('Training Loss Over Epochs')\n",
    "plt.xlabel('Epoch')\n",
    "plt.ylabel('Loss')\n",
    "plt.legend()\n",
    "plt.show()"
   ]
  },
  {
   "cell_type": "code",
   "execution_count": null,
   "id": "859e2bd6",
   "metadata": {
    "papermill": {
     "duration": 0.758173,
     "end_time": "2023-12-27T12:55:18.133969",
     "exception": false,
     "start_time": "2023-12-27T12:55:17.375796",
     "status": "completed"
    },
    "tags": []
   },
   "outputs": [],
   "source": [
    "# Save the pre-trained model\n",
    "model_mlm.save_pretrained(model_mlm_dir)"
   ]
  },
  {
   "cell_type": "code",
   "execution_count": null,
   "id": "1cde9ca1",
   "metadata": {
    "papermill": {
     "duration": 0.015702,
     "end_time": "2023-12-27T12:55:18.166138",
     "exception": false,
     "start_time": "2023-12-27T12:55:18.150436",
     "status": "completed"
    },
    "tags": []
   },
   "outputs": [],
   "source": []
  }
 ],
 "metadata": {
  "kaggle": {
   "accelerator": "gpu",
   "dataSources": [
    {
     "datasetId": 2391538,
     "sourceId": 4036668,
     "sourceType": "datasetVersion"
    }
   ],
   "dockerImageVersionId": 30559,
   "isGpuEnabled": true,
   "isInternetEnabled": true,
   "language": "python",
   "sourceType": "notebook"
  },
  "kernelspec": {
   "display_name": "Python 3 (ipykernel)",
   "language": "python",
   "name": "python3"
  },
  "language_info": {
   "codemirror_mode": {
    "name": "ipython",
    "version": 3
   },
   "file_extension": ".py",
   "mimetype": "text/x-python",
   "name": "python",
   "nbconvert_exporter": "python",
   "pygments_lexer": "ipython3",
   "version": "3.10.12"
  },
  "papermill": {
   "default_parameters": {},
   "duration": 6484.094658,
   "end_time": "2023-12-27T12:55:21.151032",
   "environment_variables": {},
   "exception": null,
   "input_path": "__notebook__.ipynb",
   "output_path": "__notebook__.ipynb",
   "parameters": {},
   "start_time": "2023-12-27T11:07:17.056374",
   "version": "2.4.0"
  },
  "widgets": {
   "application/vnd.jupyter.widget-state+json": {
    "state": {
     "0a22c548c98f44639a282e309374a4a4": {
      "model_module": "@jupyter-widgets/controls",
      "model_module_version": "1.5.0",
      "model_name": "HTMLModel",
      "state": {
       "_dom_classes": [],
       "_model_module": "@jupyter-widgets/controls",
       "_model_module_version": "1.5.0",
       "_model_name": "HTMLModel",
       "_view_count": null,
       "_view_module": "@jupyter-widgets/controls",
       "_view_module_version": "1.5.0",
       "_view_name": "HTMLView",
       "description": "",
       "description_tooltip": null,
       "layout": "IPY_MODEL_4e06be5f836f4b8192951423d22e2608",
       "placeholder": "​",
       "style": "IPY_MODEL_0a598d406ceb43459542566cf8160b99",
       "value": "Downloading model.safetensors: 100%"
      }
     },
     "0a598d406ceb43459542566cf8160b99": {
      "model_module": "@jupyter-widgets/controls",
      "model_module_version": "1.5.0",
      "model_name": "DescriptionStyleModel",
      "state": {
       "_model_module": "@jupyter-widgets/controls",
       "_model_module_version": "1.5.0",
       "_model_name": "DescriptionStyleModel",
       "_view_count": null,
       "_view_module": "@jupyter-widgets/base",
       "_view_module_version": "1.2.0",
       "_view_name": "StyleView",
       "description_width": ""
      }
     },
     "0b47024f988e4428bfa4f738820b32e0": {
      "model_module": "@jupyter-widgets/controls",
      "model_module_version": "1.5.0",
      "model_name": "DescriptionStyleModel",
      "state": {
       "_model_module": "@jupyter-widgets/controls",
       "_model_module_version": "1.5.0",
       "_model_name": "DescriptionStyleModel",
       "_view_count": null,
       "_view_module": "@jupyter-widgets/base",
       "_view_module_version": "1.2.0",
       "_view_name": "StyleView",
       "description_width": ""
      }
     },
     "0ccfa9a2f348436498a68d83b5df1812": {
      "model_module": "@jupyter-widgets/base",
      "model_module_version": "1.2.0",
      "model_name": "LayoutModel",
      "state": {
       "_model_module": "@jupyter-widgets/base",
       "_model_module_version": "1.2.0",
       "_model_name": "LayoutModel",
       "_view_count": null,
       "_view_module": "@jupyter-widgets/base",
       "_view_module_version": "1.2.0",
       "_view_name": "LayoutView",
       "align_content": null,
       "align_items": null,
       "align_self": null,
       "border": null,
       "bottom": null,
       "display": null,
       "flex": null,
       "flex_flow": null,
       "grid_area": null,
       "grid_auto_columns": null,
       "grid_auto_flow": null,
       "grid_auto_rows": null,
       "grid_column": null,
       "grid_gap": null,
       "grid_row": null,
       "grid_template_areas": null,
       "grid_template_columns": null,
       "grid_template_rows": null,
       "height": null,
       "justify_content": null,
       "justify_items": null,
       "left": null,
       "margin": null,
       "max_height": null,
       "max_width": null,
       "min_height": null,
       "min_width": null,
       "object_fit": null,
       "object_position": null,
       "order": null,
       "overflow": null,
       "overflow_x": null,
       "overflow_y": null,
       "padding": null,
       "right": null,
       "top": null,
       "visibility": null,
       "width": null
      }
     },
     "17eed670aa654946b21aa784ca5d0990": {
      "model_module": "@jupyter-widgets/base",
      "model_module_version": "1.2.0",
      "model_name": "LayoutModel",
      "state": {
       "_model_module": "@jupyter-widgets/base",
       "_model_module_version": "1.2.0",
       "_model_name": "LayoutModel",
       "_view_count": null,
       "_view_module": "@jupyter-widgets/base",
       "_view_module_version": "1.2.0",
       "_view_name": "LayoutView",
       "align_content": null,
       "align_items": null,
       "align_self": null,
       "border": null,
       "bottom": null,
       "display": null,
       "flex": null,
       "flex_flow": null,
       "grid_area": null,
       "grid_auto_columns": null,
       "grid_auto_flow": null,
       "grid_auto_rows": null,
       "grid_column": null,
       "grid_gap": null,
       "grid_row": null,
       "grid_template_areas": null,
       "grid_template_columns": null,
       "grid_template_rows": null,
       "height": null,
       "justify_content": null,
       "justify_items": null,
       "left": null,
       "margin": null,
       "max_height": null,
       "max_width": null,
       "min_height": null,
       "min_width": null,
       "object_fit": null,
       "object_position": null,
       "order": null,
       "overflow": null,
       "overflow_x": null,
       "overflow_y": null,
       "padding": null,
       "right": null,
       "top": null,
       "visibility": null,
       "width": null
      }
     },
     "1c2e1e56bcb54197becf1b90833f1a3a": {
      "model_module": "@jupyter-widgets/base",
      "model_module_version": "1.2.0",
      "model_name": "LayoutModel",
      "state": {
       "_model_module": "@jupyter-widgets/base",
       "_model_module_version": "1.2.0",
       "_model_name": "LayoutModel",
       "_view_count": null,
       "_view_module": "@jupyter-widgets/base",
       "_view_module_version": "1.2.0",
       "_view_name": "LayoutView",
       "align_content": null,
       "align_items": null,
       "align_self": null,
       "border": null,
       "bottom": null,
       "display": null,
       "flex": null,
       "flex_flow": null,
       "grid_area": null,
       "grid_auto_columns": null,
       "grid_auto_flow": null,
       "grid_auto_rows": null,
       "grid_column": null,
       "grid_gap": null,
       "grid_row": null,
       "grid_template_areas": null,
       "grid_template_columns": null,
       "grid_template_rows": null,
       "height": null,
       "justify_content": null,
       "justify_items": null,
       "left": null,
       "margin": null,
       "max_height": null,
       "max_width": null,
       "min_height": null,
       "min_width": null,
       "object_fit": null,
       "object_position": null,
       "order": null,
       "overflow": null,
       "overflow_x": null,
       "overflow_y": null,
       "padding": null,
       "right": null,
       "top": null,
       "visibility": null,
       "width": null
      }
     },
     "241ec6e71e6b4a548890e45439b3974e": {
      "model_module": "@jupyter-widgets/base",
      "model_module_version": "1.2.0",
      "model_name": "LayoutModel",
      "state": {
       "_model_module": "@jupyter-widgets/base",
       "_model_module_version": "1.2.0",
       "_model_name": "LayoutModel",
       "_view_count": null,
       "_view_module": "@jupyter-widgets/base",
       "_view_module_version": "1.2.0",
       "_view_name": "LayoutView",
       "align_content": null,
       "align_items": null,
       "align_self": null,
       "border": null,
       "bottom": null,
       "display": null,
       "flex": null,
       "flex_flow": null,
       "grid_area": null,
       "grid_auto_columns": null,
       "grid_auto_flow": null,
       "grid_auto_rows": null,
       "grid_column": null,
       "grid_gap": null,
       "grid_row": null,
       "grid_template_areas": null,
       "grid_template_columns": null,
       "grid_template_rows": null,
       "height": null,
       "justify_content": null,
       "justify_items": null,
       "left": null,
       "margin": null,
       "max_height": null,
       "max_width": null,
       "min_height": null,
       "min_width": null,
       "object_fit": null,
       "object_position": null,
       "order": null,
       "overflow": null,
       "overflow_x": null,
       "overflow_y": null,
       "padding": null,
       "right": null,
       "top": null,
       "visibility": null,
       "width": null
      }
     },
     "276197fdb9ae48fcb8f3ad6e9a6e3e6e": {
      "model_module": "@jupyter-widgets/controls",
      "model_module_version": "1.5.0",
      "model_name": "ProgressStyleModel",
      "state": {
       "_model_module": "@jupyter-widgets/controls",
       "_model_module_version": "1.5.0",
       "_model_name": "ProgressStyleModel",
       "_view_count": null,
       "_view_module": "@jupyter-widgets/base",
       "_view_module_version": "1.2.0",
       "_view_name": "StyleView",
       "bar_color": null,
       "description_width": ""
      }
     },
     "2f743966620f452c816ebd25279e7d90": {
      "model_module": "@jupyter-widgets/base",
      "model_module_version": "1.2.0",
      "model_name": "LayoutModel",
      "state": {
       "_model_module": "@jupyter-widgets/base",
       "_model_module_version": "1.2.0",
       "_model_name": "LayoutModel",
       "_view_count": null,
       "_view_module": "@jupyter-widgets/base",
       "_view_module_version": "1.2.0",
       "_view_name": "LayoutView",
       "align_content": null,
       "align_items": null,
       "align_self": null,
       "border": null,
       "bottom": null,
       "display": null,
       "flex": null,
       "flex_flow": null,
       "grid_area": null,
       "grid_auto_columns": null,
       "grid_auto_flow": null,
       "grid_auto_rows": null,
       "grid_column": null,
       "grid_gap": null,
       "grid_row": null,
       "grid_template_areas": null,
       "grid_template_columns": null,
       "grid_template_rows": null,
       "height": null,
       "justify_content": null,
       "justify_items": null,
       "left": null,
       "margin": null,
       "max_height": null,
       "max_width": null,
       "min_height": null,
       "min_width": null,
       "object_fit": null,
       "object_position": null,
       "order": null,
       "overflow": null,
       "overflow_x": null,
       "overflow_y": null,
       "padding": null,
       "right": null,
       "top": null,
       "visibility": null,
       "width": null
      }
     },
     "32b9b7c259d74e0984168f7ecb1e3e5e": {
      "model_module": "@jupyter-widgets/controls",
      "model_module_version": "1.5.0",
      "model_name": "FloatProgressModel",
      "state": {
       "_dom_classes": [],
       "_model_module": "@jupyter-widgets/controls",
       "_model_module_version": "1.5.0",
       "_model_name": "FloatProgressModel",
       "_view_count": null,
       "_view_module": "@jupyter-widgets/controls",
       "_view_module_version": "1.5.0",
       "_view_name": "ProgressView",
       "bar_style": "success",
       "description": "",
       "description_tooltip": null,
       "layout": "IPY_MODEL_cad85eab99664889af0a3499df44ae4b",
       "max": 440449768,
       "min": 0,
       "orientation": "horizontal",
       "style": "IPY_MODEL_9d176b9e0a0e4aab80d7eae8b9e8791c",
       "value": 440449768
      }
     },
     "330c183752664339afe6340ee5b81241": {
      "model_module": "@jupyter-widgets/controls",
      "model_module_version": "1.5.0",
      "model_name": "HTMLModel",
      "state": {
       "_dom_classes": [],
       "_model_module": "@jupyter-widgets/controls",
       "_model_module_version": "1.5.0",
       "_model_name": "HTMLModel",
       "_view_count": null,
       "_view_module": "@jupyter-widgets/controls",
       "_view_module_version": "1.5.0",
       "_view_name": "HTMLView",
       "description": "",
       "description_tooltip": null,
       "layout": "IPY_MODEL_1c2e1e56bcb54197becf1b90833f1a3a",
       "placeholder": "​",
       "style": "IPY_MODEL_4d82aae7728e44fe9a11210dc1fb7d34",
       "value": " 28.0/28.0 [00:00&lt;00:00, 2.47kB/s]"
      }
     },
     "34dce2d899e741a5bd2b0be20a6a651a": {
      "model_module": "@jupyter-widgets/controls",
      "model_module_version": "1.5.0",
      "model_name": "HTMLModel",
      "state": {
       "_dom_classes": [],
       "_model_module": "@jupyter-widgets/controls",
       "_model_module_version": "1.5.0",
       "_model_name": "HTMLModel",
       "_view_count": null,
       "_view_module": "@jupyter-widgets/controls",
       "_view_module_version": "1.5.0",
       "_view_name": "HTMLView",
       "description": "",
       "description_tooltip": null,
       "layout": "IPY_MODEL_3f9a795e9e5a4401a3754cb677a12223",
       "placeholder": "​",
       "style": "IPY_MODEL_7f55bde61b354071b441ca8f94961081",
       "value": " 440M/440M [00:01&lt;00:00, 385MB/s]"
      }
     },
     "355fd393e4c546029fe7b2aadd40c063": {
      "model_module": "@jupyter-widgets/base",
      "model_module_version": "1.2.0",
      "model_name": "LayoutModel",
      "state": {
       "_model_module": "@jupyter-widgets/base",
       "_model_module_version": "1.2.0",
       "_model_name": "LayoutModel",
       "_view_count": null,
       "_view_module": "@jupyter-widgets/base",
       "_view_module_version": "1.2.0",
       "_view_name": "LayoutView",
       "align_content": null,
       "align_items": null,
       "align_self": null,
       "border": null,
       "bottom": null,
       "display": null,
       "flex": null,
       "flex_flow": null,
       "grid_area": null,
       "grid_auto_columns": null,
       "grid_auto_flow": null,
       "grid_auto_rows": null,
       "grid_column": null,
       "grid_gap": null,
       "grid_row": null,
       "grid_template_areas": null,
       "grid_template_columns": null,
       "grid_template_rows": null,
       "height": null,
       "justify_content": null,
       "justify_items": null,
       "left": null,
       "margin": null,
       "max_height": null,
       "max_width": null,
       "min_height": null,
       "min_width": null,
       "object_fit": null,
       "object_position": null,
       "order": null,
       "overflow": null,
       "overflow_x": null,
       "overflow_y": null,
       "padding": null,
       "right": null,
       "top": null,
       "visibility": null,
       "width": null
      }
     },
     "3f9a795e9e5a4401a3754cb677a12223": {
      "model_module": "@jupyter-widgets/base",
      "model_module_version": "1.2.0",
      "model_name": "LayoutModel",
      "state": {
       "_model_module": "@jupyter-widgets/base",
       "_model_module_version": "1.2.0",
       "_model_name": "LayoutModel",
       "_view_count": null,
       "_view_module": "@jupyter-widgets/base",
       "_view_module_version": "1.2.0",
       "_view_name": "LayoutView",
       "align_content": null,
       "align_items": null,
       "align_self": null,
       "border": null,
       "bottom": null,
       "display": null,
       "flex": null,
       "flex_flow": null,
       "grid_area": null,
       "grid_auto_columns": null,
       "grid_auto_flow": null,
       "grid_auto_rows": null,
       "grid_column": null,
       "grid_gap": null,
       "grid_row": null,
       "grid_template_areas": null,
       "grid_template_columns": null,
       "grid_template_rows": null,
       "height": null,
       "justify_content": null,
       "justify_items": null,
       "left": null,
       "margin": null,
       "max_height": null,
       "max_width": null,
       "min_height": null,
       "min_width": null,
       "object_fit": null,
       "object_position": null,
       "order": null,
       "overflow": null,
       "overflow_x": null,
       "overflow_y": null,
       "padding": null,
       "right": null,
       "top": null,
       "visibility": null,
       "width": null
      }
     },
     "45543b2484da4839a3499a01ac39030d": {
      "model_module": "@jupyter-widgets/controls",
      "model_module_version": "1.5.0",
      "model_name": "HBoxModel",
      "state": {
       "_dom_classes": [],
       "_model_module": "@jupyter-widgets/controls",
       "_model_module_version": "1.5.0",
       "_model_name": "HBoxModel",
       "_view_count": null,
       "_view_module": "@jupyter-widgets/controls",
       "_view_module_version": "1.5.0",
       "_view_name": "HBoxView",
       "box_style": "",
       "children": [
        "IPY_MODEL_0a22c548c98f44639a282e309374a4a4",
        "IPY_MODEL_32b9b7c259d74e0984168f7ecb1e3e5e",
        "IPY_MODEL_34dce2d899e741a5bd2b0be20a6a651a"
       ],
       "layout": "IPY_MODEL_dd66dacfaa6948519108b1beafb5f98f"
      }
     },
     "4871341e14fe4f34b630dbba88b0015e": {
      "model_module": "@jupyter-widgets/controls",
      "model_module_version": "1.5.0",
      "model_name": "DescriptionStyleModel",
      "state": {
       "_model_module": "@jupyter-widgets/controls",
       "_model_module_version": "1.5.0",
       "_model_name": "DescriptionStyleModel",
       "_view_count": null,
       "_view_module": "@jupyter-widgets/base",
       "_view_module_version": "1.2.0",
       "_view_name": "StyleView",
       "description_width": ""
      }
     },
     "4d82aae7728e44fe9a11210dc1fb7d34": {
      "model_module": "@jupyter-widgets/controls",
      "model_module_version": "1.5.0",
      "model_name": "DescriptionStyleModel",
      "state": {
       "_model_module": "@jupyter-widgets/controls",
       "_model_module_version": "1.5.0",
       "_model_name": "DescriptionStyleModel",
       "_view_count": null,
       "_view_module": "@jupyter-widgets/base",
       "_view_module_version": "1.2.0",
       "_view_name": "StyleView",
       "description_width": ""
      }
     },
     "4dc6409e9d70411ea73658d0bf428471": {
      "model_module": "@jupyter-widgets/controls",
      "model_module_version": "1.5.0",
      "model_name": "FloatProgressModel",
      "state": {
       "_dom_classes": [],
       "_model_module": "@jupyter-widgets/controls",
       "_model_module_version": "1.5.0",
       "_model_name": "FloatProgressModel",
       "_view_count": null,
       "_view_module": "@jupyter-widgets/controls",
       "_view_module_version": "1.5.0",
       "_view_name": "ProgressView",
       "bar_style": "success",
       "description": "",
       "description_tooltip": null,
       "layout": "IPY_MODEL_0ccfa9a2f348436498a68d83b5df1812",
       "max": 466062,
       "min": 0,
       "orientation": "horizontal",
       "style": "IPY_MODEL_276197fdb9ae48fcb8f3ad6e9a6e3e6e",
       "value": 466062
      }
     },
     "4e06be5f836f4b8192951423d22e2608": {
      "model_module": "@jupyter-widgets/base",
      "model_module_version": "1.2.0",
      "model_name": "LayoutModel",
      "state": {
       "_model_module": "@jupyter-widgets/base",
       "_model_module_version": "1.2.0",
       "_model_name": "LayoutModel",
       "_view_count": null,
       "_view_module": "@jupyter-widgets/base",
       "_view_module_version": "1.2.0",
       "_view_name": "LayoutView",
       "align_content": null,
       "align_items": null,
       "align_self": null,
       "border": null,
       "bottom": null,
       "display": null,
       "flex": null,
       "flex_flow": null,
       "grid_area": null,
       "grid_auto_columns": null,
       "grid_auto_flow": null,
       "grid_auto_rows": null,
       "grid_column": null,
       "grid_gap": null,
       "grid_row": null,
       "grid_template_areas": null,
       "grid_template_columns": null,
       "grid_template_rows": null,
       "height": null,
       "justify_content": null,
       "justify_items": null,
       "left": null,
       "margin": null,
       "max_height": null,
       "max_width": null,
       "min_height": null,
       "min_width": null,
       "object_fit": null,
       "object_position": null,
       "order": null,
       "overflow": null,
       "overflow_x": null,
       "overflow_y": null,
       "padding": null,
       "right": null,
       "top": null,
       "visibility": null,
       "width": null
      }
     },
     "4f164274700541f889630ed54dae8272": {
      "model_module": "@jupyter-widgets/controls",
      "model_module_version": "1.5.0",
      "model_name": "FloatProgressModel",
      "state": {
       "_dom_classes": [],
       "_model_module": "@jupyter-widgets/controls",
       "_model_module_version": "1.5.0",
       "_model_name": "FloatProgressModel",
       "_view_count": null,
       "_view_module": "@jupyter-widgets/controls",
       "_view_module_version": "1.5.0",
       "_view_name": "ProgressView",
       "bar_style": "success",
       "description": "",
       "description_tooltip": null,
       "layout": "IPY_MODEL_797d075e96044fb4aef004e78c36e43a",
       "max": 28,
       "min": 0,
       "orientation": "horizontal",
       "style": "IPY_MODEL_ed5d4251237b47d1a19c119fac559c84",
       "value": 28
      }
     },
     "5385cfc0d96543b699418d659b3d21af": {
      "model_module": "@jupyter-widgets/controls",
      "model_module_version": "1.5.0",
      "model_name": "HTMLModel",
      "state": {
       "_dom_classes": [],
       "_model_module": "@jupyter-widgets/controls",
       "_model_module_version": "1.5.0",
       "_model_name": "HTMLModel",
       "_view_count": null,
       "_view_module": "@jupyter-widgets/controls",
       "_view_module_version": "1.5.0",
       "_view_name": "HTMLView",
       "description": "",
       "description_tooltip": null,
       "layout": "IPY_MODEL_61e8557c43eb4cda93645e053cf84079",
       "placeholder": "​",
       "style": "IPY_MODEL_a57b637dba2a417ab52cf8fe224bf5d7",
       "value": "Downloading tokenizer_config.json: 100%"
      }
     },
     "5b453f17829d491a8a108f3aaf257316": {
      "model_module": "@jupyter-widgets/controls",
      "model_module_version": "1.5.0",
      "model_name": "DescriptionStyleModel",
      "state": {
       "_model_module": "@jupyter-widgets/controls",
       "_model_module_version": "1.5.0",
       "_model_name": "DescriptionStyleModel",
       "_view_count": null,
       "_view_module": "@jupyter-widgets/base",
       "_view_module_version": "1.2.0",
       "_view_name": "StyleView",
       "description_width": ""
      }
     },
     "5c9b42800ebc4489b00f3d48e541bc33": {
      "model_module": "@jupyter-widgets/base",
      "model_module_version": "1.2.0",
      "model_name": "LayoutModel",
      "state": {
       "_model_module": "@jupyter-widgets/base",
       "_model_module_version": "1.2.0",
       "_model_name": "LayoutModel",
       "_view_count": null,
       "_view_module": "@jupyter-widgets/base",
       "_view_module_version": "1.2.0",
       "_view_name": "LayoutView",
       "align_content": null,
       "align_items": null,
       "align_self": null,
       "border": null,
       "bottom": null,
       "display": null,
       "flex": null,
       "flex_flow": null,
       "grid_area": null,
       "grid_auto_columns": null,
       "grid_auto_flow": null,
       "grid_auto_rows": null,
       "grid_column": null,
       "grid_gap": null,
       "grid_row": null,
       "grid_template_areas": null,
       "grid_template_columns": null,
       "grid_template_rows": null,
       "height": null,
       "justify_content": null,
       "justify_items": null,
       "left": null,
       "margin": null,
       "max_height": null,
       "max_width": null,
       "min_height": null,
       "min_width": null,
       "object_fit": null,
       "object_position": null,
       "order": null,
       "overflow": null,
       "overflow_x": null,
       "overflow_y": null,
       "padding": null,
       "right": null,
       "top": null,
       "visibility": null,
       "width": null
      }
     },
     "5fd2e84fafa54584a30aade8e4e00216": {
      "model_module": "@jupyter-widgets/base",
      "model_module_version": "1.2.0",
      "model_name": "LayoutModel",
      "state": {
       "_model_module": "@jupyter-widgets/base",
       "_model_module_version": "1.2.0",
       "_model_name": "LayoutModel",
       "_view_count": null,
       "_view_module": "@jupyter-widgets/base",
       "_view_module_version": "1.2.0",
       "_view_name": "LayoutView",
       "align_content": null,
       "align_items": null,
       "align_self": null,
       "border": null,
       "bottom": null,
       "display": null,
       "flex": null,
       "flex_flow": null,
       "grid_area": null,
       "grid_auto_columns": null,
       "grid_auto_flow": null,
       "grid_auto_rows": null,
       "grid_column": null,
       "grid_gap": null,
       "grid_row": null,
       "grid_template_areas": null,
       "grid_template_columns": null,
       "grid_template_rows": null,
       "height": null,
       "justify_content": null,
       "justify_items": null,
       "left": null,
       "margin": null,
       "max_height": null,
       "max_width": null,
       "min_height": null,
       "min_width": null,
       "object_fit": null,
       "object_position": null,
       "order": null,
       "overflow": null,
       "overflow_x": null,
       "overflow_y": null,
       "padding": null,
       "right": null,
       "top": null,
       "visibility": null,
       "width": null
      }
     },
     "61e8557c43eb4cda93645e053cf84079": {
      "model_module": "@jupyter-widgets/base",
      "model_module_version": "1.2.0",
      "model_name": "LayoutModel",
      "state": {
       "_model_module": "@jupyter-widgets/base",
       "_model_module_version": "1.2.0",
       "_model_name": "LayoutModel",
       "_view_count": null,
       "_view_module": "@jupyter-widgets/base",
       "_view_module_version": "1.2.0",
       "_view_name": "LayoutView",
       "align_content": null,
       "align_items": null,
       "align_self": null,
       "border": null,
       "bottom": null,
       "display": null,
       "flex": null,
       "flex_flow": null,
       "grid_area": null,
       "grid_auto_columns": null,
       "grid_auto_flow": null,
       "grid_auto_rows": null,
       "grid_column": null,
       "grid_gap": null,
       "grid_row": null,
       "grid_template_areas": null,
       "grid_template_columns": null,
       "grid_template_rows": null,
       "height": null,
       "justify_content": null,
       "justify_items": null,
       "left": null,
       "margin": null,
       "max_height": null,
       "max_width": null,
       "min_height": null,
       "min_width": null,
       "object_fit": null,
       "object_position": null,
       "order": null,
       "overflow": null,
       "overflow_x": null,
       "overflow_y": null,
       "padding": null,
       "right": null,
       "top": null,
       "visibility": null,
       "width": null
      }
     },
     "6396367462d141d1aeb0631cc117f0b4": {
      "model_module": "@jupyter-widgets/base",
      "model_module_version": "1.2.0",
      "model_name": "LayoutModel",
      "state": {
       "_model_module": "@jupyter-widgets/base",
       "_model_module_version": "1.2.0",
       "_model_name": "LayoutModel",
       "_view_count": null,
       "_view_module": "@jupyter-widgets/base",
       "_view_module_version": "1.2.0",
       "_view_name": "LayoutView",
       "align_content": null,
       "align_items": null,
       "align_self": null,
       "border": null,
       "bottom": null,
       "display": null,
       "flex": null,
       "flex_flow": null,
       "grid_area": null,
       "grid_auto_columns": null,
       "grid_auto_flow": null,
       "grid_auto_rows": null,
       "grid_column": null,
       "grid_gap": null,
       "grid_row": null,
       "grid_template_areas": null,
       "grid_template_columns": null,
       "grid_template_rows": null,
       "height": null,
       "justify_content": null,
       "justify_items": null,
       "left": null,
       "margin": null,
       "max_height": null,
       "max_width": null,
       "min_height": null,
       "min_width": null,
       "object_fit": null,
       "object_position": null,
       "order": null,
       "overflow": null,
       "overflow_x": null,
       "overflow_y": null,
       "padding": null,
       "right": null,
       "top": null,
       "visibility": null,
       "width": null
      }
     },
     "6d7f481540154c8f86a14a63ff3bd909": {
      "model_module": "@jupyter-widgets/controls",
      "model_module_version": "1.5.0",
      "model_name": "ProgressStyleModel",
      "state": {
       "_model_module": "@jupyter-widgets/controls",
       "_model_module_version": "1.5.0",
       "_model_name": "ProgressStyleModel",
       "_view_count": null,
       "_view_module": "@jupyter-widgets/base",
       "_view_module_version": "1.2.0",
       "_view_name": "StyleView",
       "bar_color": null,
       "description_width": ""
      }
     },
     "6f0cae784c8c471aa7976ed93e461d96": {
      "model_module": "@jupyter-widgets/controls",
      "model_module_version": "1.5.0",
      "model_name": "FloatProgressModel",
      "state": {
       "_dom_classes": [],
       "_model_module": "@jupyter-widgets/controls",
       "_model_module_version": "1.5.0",
       "_model_name": "FloatProgressModel",
       "_view_count": null,
       "_view_module": "@jupyter-widgets/controls",
       "_view_module_version": "1.5.0",
       "_view_name": "ProgressView",
       "bar_style": "success",
       "description": "",
       "description_tooltip": null,
       "layout": "IPY_MODEL_dd0d9709cc2641e1849972d09884d0d0",
       "max": 231508,
       "min": 0,
       "orientation": "horizontal",
       "style": "IPY_MODEL_6d7f481540154c8f86a14a63ff3bd909",
       "value": 231508
      }
     },
     "797d075e96044fb4aef004e78c36e43a": {
      "model_module": "@jupyter-widgets/base",
      "model_module_version": "1.2.0",
      "model_name": "LayoutModel",
      "state": {
       "_model_module": "@jupyter-widgets/base",
       "_model_module_version": "1.2.0",
       "_model_name": "LayoutModel",
       "_view_count": null,
       "_view_module": "@jupyter-widgets/base",
       "_view_module_version": "1.2.0",
       "_view_name": "LayoutView",
       "align_content": null,
       "align_items": null,
       "align_self": null,
       "border": null,
       "bottom": null,
       "display": null,
       "flex": null,
       "flex_flow": null,
       "grid_area": null,
       "grid_auto_columns": null,
       "grid_auto_flow": null,
       "grid_auto_rows": null,
       "grid_column": null,
       "grid_gap": null,
       "grid_row": null,
       "grid_template_areas": null,
       "grid_template_columns": null,
       "grid_template_rows": null,
       "height": null,
       "justify_content": null,
       "justify_items": null,
       "left": null,
       "margin": null,
       "max_height": null,
       "max_width": null,
       "min_height": null,
       "min_width": null,
       "object_fit": null,
       "object_position": null,
       "order": null,
       "overflow": null,
       "overflow_x": null,
       "overflow_y": null,
       "padding": null,
       "right": null,
       "top": null,
       "visibility": null,
       "width": null
      }
     },
     "7b6aa67d6b244869af075f621ccf3fc4": {
      "model_module": "@jupyter-widgets/base",
      "model_module_version": "1.2.0",
      "model_name": "LayoutModel",
      "state": {
       "_model_module": "@jupyter-widgets/base",
       "_model_module_version": "1.2.0",
       "_model_name": "LayoutModel",
       "_view_count": null,
       "_view_module": "@jupyter-widgets/base",
       "_view_module_version": "1.2.0",
       "_view_name": "LayoutView",
       "align_content": null,
       "align_items": null,
       "align_self": null,
       "border": null,
       "bottom": null,
       "display": null,
       "flex": null,
       "flex_flow": null,
       "grid_area": null,
       "grid_auto_columns": null,
       "grid_auto_flow": null,
       "grid_auto_rows": null,
       "grid_column": null,
       "grid_gap": null,
       "grid_row": null,
       "grid_template_areas": null,
       "grid_template_columns": null,
       "grid_template_rows": null,
       "height": null,
       "justify_content": null,
       "justify_items": null,
       "left": null,
       "margin": null,
       "max_height": null,
       "max_width": null,
       "min_height": null,
       "min_width": null,
       "object_fit": null,
       "object_position": null,
       "order": null,
       "overflow": null,
       "overflow_x": null,
       "overflow_y": null,
       "padding": null,
       "right": null,
       "top": null,
       "visibility": null,
       "width": null
      }
     },
     "7cd03df9da0848e0b56968bebe9a9fd6": {
      "model_module": "@jupyter-widgets/controls",
      "model_module_version": "1.5.0",
      "model_name": "HBoxModel",
      "state": {
       "_dom_classes": [],
       "_model_module": "@jupyter-widgets/controls",
       "_model_module_version": "1.5.0",
       "_model_name": "HBoxModel",
       "_view_count": null,
       "_view_module": "@jupyter-widgets/controls",
       "_view_module_version": "1.5.0",
       "_view_name": "HBoxView",
       "box_style": "",
       "children": [
        "IPY_MODEL_91229920869d4acf8a15834a53ff1d5b",
        "IPY_MODEL_4dc6409e9d70411ea73658d0bf428471",
        "IPY_MODEL_f661e414a8e44dec9b3512b662012d7f"
       ],
       "layout": "IPY_MODEL_7b6aa67d6b244869af075f621ccf3fc4"
      }
     },
     "7cdc7c9d189745bb926e1da88c9938ba": {
      "model_module": "@jupyter-widgets/base",
      "model_module_version": "1.2.0",
      "model_name": "LayoutModel",
      "state": {
       "_model_module": "@jupyter-widgets/base",
       "_model_module_version": "1.2.0",
       "_model_name": "LayoutModel",
       "_view_count": null,
       "_view_module": "@jupyter-widgets/base",
       "_view_module_version": "1.2.0",
       "_view_name": "LayoutView",
       "align_content": null,
       "align_items": null,
       "align_self": null,
       "border": null,
       "bottom": null,
       "display": null,
       "flex": null,
       "flex_flow": null,
       "grid_area": null,
       "grid_auto_columns": null,
       "grid_auto_flow": null,
       "grid_auto_rows": null,
       "grid_column": null,
       "grid_gap": null,
       "grid_row": null,
       "grid_template_areas": null,
       "grid_template_columns": null,
       "grid_template_rows": null,
       "height": null,
       "justify_content": null,
       "justify_items": null,
       "left": null,
       "margin": null,
       "max_height": null,
       "max_width": null,
       "min_height": null,
       "min_width": null,
       "object_fit": null,
       "object_position": null,
       "order": null,
       "overflow": null,
       "overflow_x": null,
       "overflow_y": null,
       "padding": null,
       "right": null,
       "top": null,
       "visibility": null,
       "width": null
      }
     },
     "7ce237b5ab184a8597904cdec556032d": {
      "model_module": "@jupyter-widgets/controls",
      "model_module_version": "1.5.0",
      "model_name": "FloatProgressModel",
      "state": {
       "_dom_classes": [],
       "_model_module": "@jupyter-widgets/controls",
       "_model_module_version": "1.5.0",
       "_model_name": "FloatProgressModel",
       "_view_count": null,
       "_view_module": "@jupyter-widgets/controls",
       "_view_module_version": "1.5.0",
       "_view_name": "ProgressView",
       "bar_style": "success",
       "description": "",
       "description_tooltip": null,
       "layout": "IPY_MODEL_d70e73bf1bf949c0bb239ca9f4ced1f3",
       "max": 570,
       "min": 0,
       "orientation": "horizontal",
       "style": "IPY_MODEL_b39d29d68ffb446eb9ab53310cb3c12f",
       "value": 570
      }
     },
     "7e4ec238d4154c2b81609ddac1476f33": {
      "model_module": "@jupyter-widgets/controls",
      "model_module_version": "1.5.0",
      "model_name": "HTMLModel",
      "state": {
       "_dom_classes": [],
       "_model_module": "@jupyter-widgets/controls",
       "_model_module_version": "1.5.0",
       "_model_name": "HTMLModel",
       "_view_count": null,
       "_view_module": "@jupyter-widgets/controls",
       "_view_module_version": "1.5.0",
       "_view_name": "HTMLView",
       "description": "",
       "description_tooltip": null,
       "layout": "IPY_MODEL_e79ac5ac366b451b9d7f3982e96dddd5",
       "placeholder": "​",
       "style": "IPY_MODEL_5b453f17829d491a8a108f3aaf257316",
       "value": " 232k/232k [00:00&lt;00:00, 1.42MB/s]"
      }
     },
     "7f55bde61b354071b441ca8f94961081": {
      "model_module": "@jupyter-widgets/controls",
      "model_module_version": "1.5.0",
      "model_name": "DescriptionStyleModel",
      "state": {
       "_model_module": "@jupyter-widgets/controls",
       "_model_module_version": "1.5.0",
       "_model_name": "DescriptionStyleModel",
       "_view_count": null,
       "_view_module": "@jupyter-widgets/base",
       "_view_module_version": "1.2.0",
       "_view_name": "StyleView",
       "description_width": ""
      }
     },
     "91229920869d4acf8a15834a53ff1d5b": {
      "model_module": "@jupyter-widgets/controls",
      "model_module_version": "1.5.0",
      "model_name": "HTMLModel",
      "state": {
       "_dom_classes": [],
       "_model_module": "@jupyter-widgets/controls",
       "_model_module_version": "1.5.0",
       "_model_name": "HTMLModel",
       "_view_count": null,
       "_view_module": "@jupyter-widgets/controls",
       "_view_module_version": "1.5.0",
       "_view_name": "HTMLView",
       "description": "",
       "description_tooltip": null,
       "layout": "IPY_MODEL_5c9b42800ebc4489b00f3d48e541bc33",
       "placeholder": "​",
       "style": "IPY_MODEL_4871341e14fe4f34b630dbba88b0015e",
       "value": "Downloading tokenizer.json: 100%"
      }
     },
     "9d176b9e0a0e4aab80d7eae8b9e8791c": {
      "model_module": "@jupyter-widgets/controls",
      "model_module_version": "1.5.0",
      "model_name": "ProgressStyleModel",
      "state": {
       "_model_module": "@jupyter-widgets/controls",
       "_model_module_version": "1.5.0",
       "_model_name": "ProgressStyleModel",
       "_view_count": null,
       "_view_module": "@jupyter-widgets/base",
       "_view_module_version": "1.2.0",
       "_view_name": "StyleView",
       "bar_color": null,
       "description_width": ""
      }
     },
     "a57b637dba2a417ab52cf8fe224bf5d7": {
      "model_module": "@jupyter-widgets/controls",
      "model_module_version": "1.5.0",
      "model_name": "DescriptionStyleModel",
      "state": {
       "_model_module": "@jupyter-widgets/controls",
       "_model_module_version": "1.5.0",
       "_model_name": "DescriptionStyleModel",
       "_view_count": null,
       "_view_module": "@jupyter-widgets/base",
       "_view_module_version": "1.2.0",
       "_view_name": "StyleView",
       "description_width": ""
      }
     },
     "b312ccc61afa434fa2cc33bc6765fb4e": {
      "model_module": "@jupyter-widgets/controls",
      "model_module_version": "1.5.0",
      "model_name": "DescriptionStyleModel",
      "state": {
       "_model_module": "@jupyter-widgets/controls",
       "_model_module_version": "1.5.0",
       "_model_name": "DescriptionStyleModel",
       "_view_count": null,
       "_view_module": "@jupyter-widgets/base",
       "_view_module_version": "1.2.0",
       "_view_name": "StyleView",
       "description_width": ""
      }
     },
     "b39d29d68ffb446eb9ab53310cb3c12f": {
      "model_module": "@jupyter-widgets/controls",
      "model_module_version": "1.5.0",
      "model_name": "ProgressStyleModel",
      "state": {
       "_model_module": "@jupyter-widgets/controls",
       "_model_module_version": "1.5.0",
       "_model_name": "ProgressStyleModel",
       "_view_count": null,
       "_view_module": "@jupyter-widgets/base",
       "_view_module_version": "1.2.0",
       "_view_name": "StyleView",
       "bar_color": null,
       "description_width": ""
      }
     },
     "b6359a4c701044dabbfe1e49968ba7d6": {
      "model_module": "@jupyter-widgets/controls",
      "model_module_version": "1.5.0",
      "model_name": "DescriptionStyleModel",
      "state": {
       "_model_module": "@jupyter-widgets/controls",
       "_model_module_version": "1.5.0",
       "_model_name": "DescriptionStyleModel",
       "_view_count": null,
       "_view_module": "@jupyter-widgets/base",
       "_view_module_version": "1.2.0",
       "_view_name": "StyleView",
       "description_width": ""
      }
     },
     "c34a4274d58f40bfbe80db5942108f0f": {
      "model_module": "@jupyter-widgets/controls",
      "model_module_version": "1.5.0",
      "model_name": "DescriptionStyleModel",
      "state": {
       "_model_module": "@jupyter-widgets/controls",
       "_model_module_version": "1.5.0",
       "_model_name": "DescriptionStyleModel",
       "_view_count": null,
       "_view_module": "@jupyter-widgets/base",
       "_view_module_version": "1.2.0",
       "_view_name": "StyleView",
       "description_width": ""
      }
     },
     "cad85eab99664889af0a3499df44ae4b": {
      "model_module": "@jupyter-widgets/base",
      "model_module_version": "1.2.0",
      "model_name": "LayoutModel",
      "state": {
       "_model_module": "@jupyter-widgets/base",
       "_model_module_version": "1.2.0",
       "_model_name": "LayoutModel",
       "_view_count": null,
       "_view_module": "@jupyter-widgets/base",
       "_view_module_version": "1.2.0",
       "_view_name": "LayoutView",
       "align_content": null,
       "align_items": null,
       "align_self": null,
       "border": null,
       "bottom": null,
       "display": null,
       "flex": null,
       "flex_flow": null,
       "grid_area": null,
       "grid_auto_columns": null,
       "grid_auto_flow": null,
       "grid_auto_rows": null,
       "grid_column": null,
       "grid_gap": null,
       "grid_row": null,
       "grid_template_areas": null,
       "grid_template_columns": null,
       "grid_template_rows": null,
       "height": null,
       "justify_content": null,
       "justify_items": null,
       "left": null,
       "margin": null,
       "max_height": null,
       "max_width": null,
       "min_height": null,
       "min_width": null,
       "object_fit": null,
       "object_position": null,
       "order": null,
       "overflow": null,
       "overflow_x": null,
       "overflow_y": null,
       "padding": null,
       "right": null,
       "top": null,
       "visibility": null,
       "width": null
      }
     },
     "d4c6e642684c41819bedf12a45c1a438": {
      "model_module": "@jupyter-widgets/controls",
      "model_module_version": "1.5.0",
      "model_name": "HBoxModel",
      "state": {
       "_dom_classes": [],
       "_model_module": "@jupyter-widgets/controls",
       "_model_module_version": "1.5.0",
       "_model_name": "HBoxModel",
       "_view_count": null,
       "_view_module": "@jupyter-widgets/controls",
       "_view_module_version": "1.5.0",
       "_view_name": "HBoxView",
       "box_style": "",
       "children": [
        "IPY_MODEL_f98b85fe34504f26935667d69381e85e",
        "IPY_MODEL_7ce237b5ab184a8597904cdec556032d",
        "IPY_MODEL_d70c88fe79c3404a8e1de4841fd7b1a2"
       ],
       "layout": "IPY_MODEL_6396367462d141d1aeb0631cc117f0b4"
      }
     },
     "d70c88fe79c3404a8e1de4841fd7b1a2": {
      "model_module": "@jupyter-widgets/controls",
      "model_module_version": "1.5.0",
      "model_name": "HTMLModel",
      "state": {
       "_dom_classes": [],
       "_model_module": "@jupyter-widgets/controls",
       "_model_module_version": "1.5.0",
       "_model_name": "HTMLModel",
       "_view_count": null,
       "_view_module": "@jupyter-widgets/controls",
       "_view_module_version": "1.5.0",
       "_view_name": "HTMLView",
       "description": "",
       "description_tooltip": null,
       "layout": "IPY_MODEL_17eed670aa654946b21aa784ca5d0990",
       "placeholder": "​",
       "style": "IPY_MODEL_c34a4274d58f40bfbe80db5942108f0f",
       "value": " 570/570 [00:00&lt;00:00, 49.2kB/s]"
      }
     },
     "d70e73bf1bf949c0bb239ca9f4ced1f3": {
      "model_module": "@jupyter-widgets/base",
      "model_module_version": "1.2.0",
      "model_name": "LayoutModel",
      "state": {
       "_model_module": "@jupyter-widgets/base",
       "_model_module_version": "1.2.0",
       "_model_name": "LayoutModel",
       "_view_count": null,
       "_view_module": "@jupyter-widgets/base",
       "_view_module_version": "1.2.0",
       "_view_name": "LayoutView",
       "align_content": null,
       "align_items": null,
       "align_self": null,
       "border": null,
       "bottom": null,
       "display": null,
       "flex": null,
       "flex_flow": null,
       "grid_area": null,
       "grid_auto_columns": null,
       "grid_auto_flow": null,
       "grid_auto_rows": null,
       "grid_column": null,
       "grid_gap": null,
       "grid_row": null,
       "grid_template_areas": null,
       "grid_template_columns": null,
       "grid_template_rows": null,
       "height": null,
       "justify_content": null,
       "justify_items": null,
       "left": null,
       "margin": null,
       "max_height": null,
       "max_width": null,
       "min_height": null,
       "min_width": null,
       "object_fit": null,
       "object_position": null,
       "order": null,
       "overflow": null,
       "overflow_x": null,
       "overflow_y": null,
       "padding": null,
       "right": null,
       "top": null,
       "visibility": null,
       "width": null
      }
     },
     "d7cc3df436584943b890392b51d1bda4": {
      "model_module": "@jupyter-widgets/controls",
      "model_module_version": "1.5.0",
      "model_name": "HBoxModel",
      "state": {
       "_dom_classes": [],
       "_model_module": "@jupyter-widgets/controls",
       "_model_module_version": "1.5.0",
       "_model_name": "HBoxModel",
       "_view_count": null,
       "_view_module": "@jupyter-widgets/controls",
       "_view_module_version": "1.5.0",
       "_view_name": "HBoxView",
       "box_style": "",
       "children": [
        "IPY_MODEL_5385cfc0d96543b699418d659b3d21af",
        "IPY_MODEL_4f164274700541f889630ed54dae8272",
        "IPY_MODEL_330c183752664339afe6340ee5b81241"
       ],
       "layout": "IPY_MODEL_2f743966620f452c816ebd25279e7d90"
      }
     },
     "da1fd3d0b10341788e1edd06cc984afa": {
      "model_module": "@jupyter-widgets/controls",
      "model_module_version": "1.5.0",
      "model_name": "HBoxModel",
      "state": {
       "_dom_classes": [],
       "_model_module": "@jupyter-widgets/controls",
       "_model_module_version": "1.5.0",
       "_model_name": "HBoxModel",
       "_view_count": null,
       "_view_module": "@jupyter-widgets/controls",
       "_view_module_version": "1.5.0",
       "_view_name": "HBoxView",
       "box_style": "",
       "children": [
        "IPY_MODEL_de65abb1bccf4d119491eb7afab0c0b2",
        "IPY_MODEL_6f0cae784c8c471aa7976ed93e461d96",
        "IPY_MODEL_7e4ec238d4154c2b81609ddac1476f33"
       ],
       "layout": "IPY_MODEL_5fd2e84fafa54584a30aade8e4e00216"
      }
     },
     "dd0d9709cc2641e1849972d09884d0d0": {
      "model_module": "@jupyter-widgets/base",
      "model_module_version": "1.2.0",
      "model_name": "LayoutModel",
      "state": {
       "_model_module": "@jupyter-widgets/base",
       "_model_module_version": "1.2.0",
       "_model_name": "LayoutModel",
       "_view_count": null,
       "_view_module": "@jupyter-widgets/base",
       "_view_module_version": "1.2.0",
       "_view_name": "LayoutView",
       "align_content": null,
       "align_items": null,
       "align_self": null,
       "border": null,
       "bottom": null,
       "display": null,
       "flex": null,
       "flex_flow": null,
       "grid_area": null,
       "grid_auto_columns": null,
       "grid_auto_flow": null,
       "grid_auto_rows": null,
       "grid_column": null,
       "grid_gap": null,
       "grid_row": null,
       "grid_template_areas": null,
       "grid_template_columns": null,
       "grid_template_rows": null,
       "height": null,
       "justify_content": null,
       "justify_items": null,
       "left": null,
       "margin": null,
       "max_height": null,
       "max_width": null,
       "min_height": null,
       "min_width": null,
       "object_fit": null,
       "object_position": null,
       "order": null,
       "overflow": null,
       "overflow_x": null,
       "overflow_y": null,
       "padding": null,
       "right": null,
       "top": null,
       "visibility": null,
       "width": null
      }
     },
     "dd66dacfaa6948519108b1beafb5f98f": {
      "model_module": "@jupyter-widgets/base",
      "model_module_version": "1.2.0",
      "model_name": "LayoutModel",
      "state": {
       "_model_module": "@jupyter-widgets/base",
       "_model_module_version": "1.2.0",
       "_model_name": "LayoutModel",
       "_view_count": null,
       "_view_module": "@jupyter-widgets/base",
       "_view_module_version": "1.2.0",
       "_view_name": "LayoutView",
       "align_content": null,
       "align_items": null,
       "align_self": null,
       "border": null,
       "bottom": null,
       "display": null,
       "flex": null,
       "flex_flow": null,
       "grid_area": null,
       "grid_auto_columns": null,
       "grid_auto_flow": null,
       "grid_auto_rows": null,
       "grid_column": null,
       "grid_gap": null,
       "grid_row": null,
       "grid_template_areas": null,
       "grid_template_columns": null,
       "grid_template_rows": null,
       "height": null,
       "justify_content": null,
       "justify_items": null,
       "left": null,
       "margin": null,
       "max_height": null,
       "max_width": null,
       "min_height": null,
       "min_width": null,
       "object_fit": null,
       "object_position": null,
       "order": null,
       "overflow": null,
       "overflow_x": null,
       "overflow_y": null,
       "padding": null,
       "right": null,
       "top": null,
       "visibility": null,
       "width": null
      }
     },
     "de65abb1bccf4d119491eb7afab0c0b2": {
      "model_module": "@jupyter-widgets/controls",
      "model_module_version": "1.5.0",
      "model_name": "HTMLModel",
      "state": {
       "_dom_classes": [],
       "_model_module": "@jupyter-widgets/controls",
       "_model_module_version": "1.5.0",
       "_model_name": "HTMLModel",
       "_view_count": null,
       "_view_module": "@jupyter-widgets/controls",
       "_view_module_version": "1.5.0",
       "_view_name": "HTMLView",
       "description": "",
       "description_tooltip": null,
       "layout": "IPY_MODEL_7cdc7c9d189745bb926e1da88c9938ba",
       "placeholder": "​",
       "style": "IPY_MODEL_b6359a4c701044dabbfe1e49968ba7d6",
       "value": "Downloading vocab.txt: 100%"
      }
     },
     "e79ac5ac366b451b9d7f3982e96dddd5": {
      "model_module": "@jupyter-widgets/base",
      "model_module_version": "1.2.0",
      "model_name": "LayoutModel",
      "state": {
       "_model_module": "@jupyter-widgets/base",
       "_model_module_version": "1.2.0",
       "_model_name": "LayoutModel",
       "_view_count": null,
       "_view_module": "@jupyter-widgets/base",
       "_view_module_version": "1.2.0",
       "_view_name": "LayoutView",
       "align_content": null,
       "align_items": null,
       "align_self": null,
       "border": null,
       "bottom": null,
       "display": null,
       "flex": null,
       "flex_flow": null,
       "grid_area": null,
       "grid_auto_columns": null,
       "grid_auto_flow": null,
       "grid_auto_rows": null,
       "grid_column": null,
       "grid_gap": null,
       "grid_row": null,
       "grid_template_areas": null,
       "grid_template_columns": null,
       "grid_template_rows": null,
       "height": null,
       "justify_content": null,
       "justify_items": null,
       "left": null,
       "margin": null,
       "max_height": null,
       "max_width": null,
       "min_height": null,
       "min_width": null,
       "object_fit": null,
       "object_position": null,
       "order": null,
       "overflow": null,
       "overflow_x": null,
       "overflow_y": null,
       "padding": null,
       "right": null,
       "top": null,
       "visibility": null,
       "width": null
      }
     },
     "ed5d4251237b47d1a19c119fac559c84": {
      "model_module": "@jupyter-widgets/controls",
      "model_module_version": "1.5.0",
      "model_name": "ProgressStyleModel",
      "state": {
       "_model_module": "@jupyter-widgets/controls",
       "_model_module_version": "1.5.0",
       "_model_name": "ProgressStyleModel",
       "_view_count": null,
       "_view_module": "@jupyter-widgets/base",
       "_view_module_version": "1.2.0",
       "_view_name": "StyleView",
       "bar_color": null,
       "description_width": ""
      }
     },
     "f661e414a8e44dec9b3512b662012d7f": {
      "model_module": "@jupyter-widgets/controls",
      "model_module_version": "1.5.0",
      "model_name": "HTMLModel",
      "state": {
       "_dom_classes": [],
       "_model_module": "@jupyter-widgets/controls",
       "_model_module_version": "1.5.0",
       "_model_name": "HTMLModel",
       "_view_count": null,
       "_view_module": "@jupyter-widgets/controls",
       "_view_module_version": "1.5.0",
       "_view_name": "HTMLView",
       "description": "",
       "description_tooltip": null,
       "layout": "IPY_MODEL_355fd393e4c546029fe7b2aadd40c063",
       "placeholder": "​",
       "style": "IPY_MODEL_0b47024f988e4428bfa4f738820b32e0",
       "value": " 466k/466k [00:00&lt;00:00, 1.88MB/s]"
      }
     },
     "f98b85fe34504f26935667d69381e85e": {
      "model_module": "@jupyter-widgets/controls",
      "model_module_version": "1.5.0",
      "model_name": "HTMLModel",
      "state": {
       "_dom_classes": [],
       "_model_module": "@jupyter-widgets/controls",
       "_model_module_version": "1.5.0",
       "_model_name": "HTMLModel",
       "_view_count": null,
       "_view_module": "@jupyter-widgets/controls",
       "_view_module_version": "1.5.0",
       "_view_name": "HTMLView",
       "description": "",
       "description_tooltip": null,
       "layout": "IPY_MODEL_241ec6e71e6b4a548890e45439b3974e",
       "placeholder": "​",
       "style": "IPY_MODEL_b312ccc61afa434fa2cc33bc6765fb4e",
       "value": "Downloading config.json: 100%"
      }
     }
    },
    "version_major": 2,
    "version_minor": 0
   }
  }
 },
 "nbformat": 4,
 "nbformat_minor": 5
}
