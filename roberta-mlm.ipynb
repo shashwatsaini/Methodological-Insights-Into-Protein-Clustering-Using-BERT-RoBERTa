{
 "cells": [
  {
   "cell_type": "code",
   "execution_count": null,
   "id": "49c7ecf4",
   "metadata": {
    "_cell_guid": "b1076dfc-b9ad-4769-8c92-a6c4dae69d19",
    "_uuid": "8f2839f25d086af736a60e9eeb907d3b93b6e0e5",
    "papermill": {
     "duration": 5.979599,
     "end_time": "2023-12-29T04:22:49.075726",
     "exception": false,
     "start_time": "2023-12-29T04:22:43.096127",
     "status": "completed"
    },
    "tags": []
   },
   "outputs": [],
   "source": [
    "import numpy as np # For mathematical operations\n",
    "import pandas as pd # For tabular data structures\n",
    "import os"
   ]
  },
  {
   "cell_type": "code",
   "execution_count": null,
   "id": "3365915a",
   "metadata": {
    "papermill": {
     "duration": 0.026667,
     "end_time": "2023-12-29T04:22:49.112870",
     "exception": false,
     "start_time": "2023-12-29T04:22:49.086203",
     "status": "completed"
    },
    "tags": []
   },
   "outputs": [],
   "source": [
    "# Creating directories\n",
    "model_mlm_dir = '/working/mlm_model'\n",
    "padded_states_dir = '/working/padded_states'\n",
    "hidden_states_dir = '/working/hidden_states'\n",
    "model_dir = '/working/model'\n",
    "tokenizer_dir = '/working/tokenizer_dir'\n",
    "txt_files_dir = '/working/sequence_files'\n",
    "\n",
    "if not os.path.exists(txt_files_dir):\n",
    "    os.makedirs(txt_files_dir)\n",
    "\n",
    "if not os.path.exists(tokenizer_dir):\n",
    "    os.makedirs(tokenizer_dir)\n",
    "\n",
    "if not os.path.exists(model_dir):\n",
    "    os.makedirs(model_dir)\n",
    "\n",
    "if not os.path.exists(hidden_states_dir):\n",
    "    os.makedirs(hidden_states_dir)\n",
    "    \n",
    "if not os.path.exists(padded_states_dir):\n",
    "    os.makedirs(padded_states_dir)\n",
    "\n",
    "if not os.path.exists(model_mlm_dir):\n",
    "    os.makedirs(model_mlm_dir)"
   ]
  },
  {
   "cell_type": "code",
   "execution_count": null,
   "id": "f4ef6858",
   "metadata": {
    "papermill": {
     "duration": 0.020012,
     "end_time": "2023-12-29T04:22:49.175495",
     "exception": false,
     "start_time": "2023-12-29T04:22:49.155483",
     "status": "completed"
    },
    "tags": []
   },
   "outputs": [],
   "source": [
    "# Defining variables\n",
    "max_position_embeddings = 2048 # For roberta tokenizer and model\n",
    "max_sequence_length = 2000 # Cannot exceed max_position_embeddings\n",
    "min_sequence_length = 400\n",
    "num_sequence = 4000\n",
    "vocab_size = 50265\n",
    "gene_ontology_unique = -1 # Will be assigned later\n",
    "gene_ontology_filter_threshold = 50 # Model will only take proteins with more than n common gene ontology ids\n",
    "\n",
    "from collections import defaultdict\n",
    "def def_value():\n",
    "    return 0\n",
    "gene_ontology_counts = defaultdict(def_value) # Default dictionary for gene ontology ids\n",
    "filtered_gene_ontology_counts = defaultdict(def_value) # Default dictionary after gene ontology ids have been filtered\n",
    "\n",
    "if max_sequence_length > max_position_embeddings:\n",
    "    print('Sequence length exceeds position embeddings')\n",
    "    exit()"
   ]
  },
  {
   "cell_type": "code",
   "execution_count": null,
   "id": "2536c1ec",
   "metadata": {
    "papermill": {
     "duration": 48.650164,
     "end_time": "2023-12-29T04:23:37.835714",
     "exception": false,
     "start_time": "2023-12-29T04:22:49.185550",
     "status": "completed"
    },
    "tags": []
   },
   "outputs": [],
   "source": [
    "uniprot = pd.read_csv('/data.csv')"
   ]
  },
  {
   "cell_type": "markdown",
   "id": "288c6bde",
   "metadata": {
    "papermill": {
     "duration": 0.009931,
     "end_time": "2023-12-29T04:23:37.855762",
     "exception": false,
     "start_time": "2023-12-29T04:23:37.845831",
     "status": "completed"
    },
    "tags": []
   },
   "source": [
    "Filtering data:"
   ]
  },
  {
   "cell_type": "code",
   "execution_count": null,
   "id": "68c38fe1",
   "metadata": {
    "papermill": {
     "duration": 0.884027,
     "end_time": "2023-12-29T04:23:38.750123",
     "exception": false,
     "start_time": "2023-12-29T04:23:37.866096",
     "status": "completed"
    },
    "tags": []
   },
   "outputs": [],
   "source": [
    "# Filtering out specific columns\n",
    "uniprot = uniprot[['Sequence', 'Length', 'Organism', 'Gene Ontology IDs']]\n",
    "# Filtering out proteins associated with humans, and with a specific sequence length\n",
    "uniprot = uniprot[(uniprot['Length'] < max_sequence_length) & (uniprot['Length'] > min_sequence_length)]\n",
    "# Picking first n proteins\n",
    "uniprot = uniprot.dropna()\n",
    "uniprot = uniprot.head(num_sequence)\n",
    "uniprot = uniprot.reset_index(drop=True)"
   ]
  },
  {
   "cell_type": "markdown",
   "id": "766a0ad4",
   "metadata": {
    "papermill": {
     "duration": 0.009665,
     "end_time": "2023-12-29T04:23:38.770266",
     "exception": false,
     "start_time": "2023-12-29T04:23:38.760601",
     "status": "completed"
    },
    "tags": []
   },
   "source": [
    "Preprocessing Gene Ontology IDs for fine-tuning:"
   ]
  },
  {
   "cell_type": "code",
   "execution_count": null,
   "id": "37076e0f",
   "metadata": {
    "papermill": {
     "duration": 0.019956,
     "end_time": "2023-12-29T04:23:38.800126",
     "exception": false,
     "start_time": "2023-12-29T04:23:38.780170",
     "status": "completed"
    },
    "tags": []
   },
   "outputs": [],
   "source": [
    "def preprocess_gene_ontology(id):\n",
    "    ids = id.split(';')\n",
    "    gene_ontology_id = 0\n",
    "    found = False\n",
    "    \n",
    "    for gene_ontology_id in ids:\n",
    "        if gene_ontology_id in gene_ontology_counts.keys():\n",
    "            found = True\n",
    "            break\n",
    "            \n",
    "    if not found:\n",
    "        gene_ontology_id = ids[0]\n",
    "        \n",
    "    gene_ontology_counts[gene_ontology_id] += 1\n",
    "    return gene_ontology_id"
   ]
  },
  {
   "cell_type": "code",
   "execution_count": null,
   "id": "7a39e582",
   "metadata": {
    "papermill": {
     "duration": 0.031127,
     "end_time": "2023-12-29T04:23:38.841373",
     "exception": false,
     "start_time": "2023-12-29T04:23:38.810246",
     "status": "completed"
    },
    "tags": []
   },
   "outputs": [],
   "source": [
    "uniprot['Gene_ontology_id'] = uniprot['Gene Ontology IDs'].apply(lambda id: preprocess_gene_ontology(id))\n",
    "gene_ontology_unique = len(gene_ontology_counts.values())\n",
    "print('Number of unique Gene Ontology IDs: {}'.format(gene_ontology_unique))"
   ]
  },
  {
   "cell_type": "code",
   "execution_count": null,
   "id": "41d7d50b",
   "metadata": {
    "papermill": {
     "duration": 0.034532,
     "end_time": "2023-12-29T04:23:38.886497",
     "exception": false,
     "start_time": "2023-12-29T04:23:38.851965",
     "status": "completed"
    },
    "tags": []
   },
   "outputs": [],
   "source": [
    "uniprot"
   ]
  },
  {
   "cell_type": "code",
   "execution_count": null,
   "id": "8dc179b9",
   "metadata": {
    "papermill": {
     "duration": 0.021757,
     "end_time": "2023-12-29T04:23:38.919665",
     "exception": false,
     "start_time": "2023-12-29T04:23:38.897908",
     "status": "completed"
    },
    "tags": []
   },
   "outputs": [],
   "source": [
    "def filter_by_gene_ontology_counts(df, gene_ontology_filter_threshold):\n",
    "    \n",
    "    count = 0\n",
    "    \n",
    "    for i in range(df.shape[0]):\n",
    "        if(gene_ontology_counts[df.at[i, 'Gene_ontology_id']] > gene_ontology_filter_threshold):\n",
    "            if df.at[i, 'Gene_ontology_id'] in filtered_gene_ontology_counts.keys():\n",
    "                filtered_gene_ontology_counts[df.at[i, 'Gene_ontology_id']] += 1\n",
    "            else:\n",
    "                filtered_gene_ontology_counts[df.at[i, 'Gene_ontology_id']] = 1\n",
    "            count += 1\n",
    "            continue\n",
    "        else:\n",
    "            df = df.drop(i)\n",
    "    \n",
    "    print('Number of Proteins after Gene Ontology Filtering: {}'.format(count))\n",
    "    \n",
    "    return df"
   ]
  },
  {
   "cell_type": "code",
   "execution_count": null,
   "id": "19f7b502",
   "metadata": {
    "papermill": {
     "duration": 2.089955,
     "end_time": "2023-12-29T04:23:41.020195",
     "exception": false,
     "start_time": "2023-12-29T04:23:38.930240",
     "status": "completed"
    },
    "tags": []
   },
   "outputs": [],
   "source": [
    "uniprot = filter_by_gene_ontology_counts(uniprot, gene_ontology_filter_threshold)"
   ]
  },
  {
   "cell_type": "code",
   "execution_count": null,
   "id": "1c43b0fd",
   "metadata": {
    "papermill": {
     "duration": 0.019012,
     "end_time": "2023-12-29T04:23:41.049629",
     "exception": false,
     "start_time": "2023-12-29T04:23:41.030617",
     "status": "completed"
    },
    "tags": []
   },
   "outputs": [],
   "source": [
    "print('Filtered Gene Ontology Dictionary:{}'.format(filtered_gene_ontology_counts.items()))"
   ]
  },
  {
   "cell_type": "code",
   "execution_count": null,
   "id": "d2035914",
   "metadata": {
    "papermill": {
     "duration": 0.029145,
     "end_time": "2023-12-29T04:23:41.089292",
     "exception": false,
     "start_time": "2023-12-29T04:23:41.060147",
     "status": "completed"
    },
    "tags": []
   },
   "outputs": [],
   "source": [
    "uniprot"
   ]
  },
  {
   "cell_type": "code",
   "execution_count": null,
   "id": "a72688c7",
   "metadata": {
    "papermill": {
     "duration": 0.020014,
     "end_time": "2023-12-29T04:23:41.120296",
     "exception": false,
     "start_time": "2023-12-29T04:23:41.100282",
     "status": "completed"
    },
    "tags": []
   },
   "outputs": [],
   "source": [
    "def preprocess_sequence(df):\n",
    "    for index, row in df.iterrows():\n",
    "        tokens = list(row['Sequence'])\n",
    "        df.at[index, 'Sequence'] = str(tokens[0] + \" \".join(tokens[1:-1]) + \" \" + tokens[-1])\n",
    "    return df"
   ]
  },
  {
   "cell_type": "code",
   "execution_count": null,
   "id": "160f7a86",
   "metadata": {
    "papermill": {
     "duration": 0.162654,
     "end_time": "2023-12-29T04:23:41.293789",
     "exception": false,
     "start_time": "2023-12-29T04:23:41.131135",
     "status": "completed"
    },
    "tags": []
   },
   "outputs": [],
   "source": [
    "uniprot = preprocess_sequence(uniprot)"
   ]
  },
  {
   "cell_type": "code",
   "execution_count": null,
   "id": "41704e54",
   "metadata": {
    "papermill": {
     "duration": 0.025356,
     "end_time": "2023-12-29T04:23:41.330060",
     "exception": false,
     "start_time": "2023-12-29T04:23:41.304704",
     "status": "completed"
    },
    "tags": []
   },
   "outputs": [],
   "source": [
    "uniprot.head()"
   ]
  },
  {
   "cell_type": "code",
   "execution_count": null,
   "id": "898fcbd6",
   "metadata": {
    "papermill": {
     "duration": 0.784726,
     "end_time": "2023-12-29T04:23:42.125657",
     "exception": false,
     "start_time": "2023-12-29T04:23:41.340931",
     "status": "completed"
    },
    "tags": []
   },
   "outputs": [],
   "source": [
    "from sklearn.preprocessing import OrdinalEncoder\n",
    "\n",
    "gene_ontology_encoder = OrdinalEncoder()\n",
    "uniprot['Gene_ontology_id_encoded'] = gene_ontology_encoder.fit_transform(np.array(uniprot['Gene_ontology_id']).reshape(-1,1))"
   ]
  },
  {
   "cell_type": "code",
   "execution_count": null,
   "id": "ba819f24",
   "metadata": {
    "papermill": {
     "duration": 0.031986,
     "end_time": "2023-12-29T04:23:42.168983",
     "exception": false,
     "start_time": "2023-12-29T04:23:42.136997",
     "status": "completed"
    },
    "tags": []
   },
   "outputs": [],
   "source": [
    "uniprot"
   ]
  },
  {
   "cell_type": "code",
   "execution_count": null,
   "id": "f1835032",
   "metadata": {
    "papermill": {
     "duration": 0.022173,
     "end_time": "2023-12-29T04:23:42.202936",
     "exception": false,
     "start_time": "2023-12-29T04:23:42.180763",
     "status": "completed"
    },
    "tags": []
   },
   "outputs": [],
   "source": [
    "preds = uniprot['Gene_ontology_id_encoded']\n",
    "\n",
    "# 20% for testing:\n",
    "train = uniprot.head(int(num_sequence * 0.8))\n",
    "train.reset_index(drop=True, inplace=True)\n",
    "train_y = preds.head(int(num_sequence * 0.8))\n",
    "train_y.reset_index(drop=True, inplace=True)\n",
    "\n",
    "test = uniprot.tail(int(num_sequence * 0.2))\n",
    "test.reset_index(drop=True, inplace=True)\n",
    "test_y = preds.tail(int(num_sequence * 0.2))\n",
    "test_y.reset_index(drop=True, inplace=True)"
   ]
  },
  {
   "cell_type": "code",
   "execution_count": null,
   "id": "df9d1fa6",
   "metadata": {
    "papermill": {
     "duration": 0.032076,
     "end_time": "2023-12-29T04:23:42.246424",
     "exception": false,
     "start_time": "2023-12-29T04:23:42.214348",
     "status": "completed"
    },
    "tags": []
   },
   "outputs": [],
   "source": [
    "train"
   ]
  },
  {
   "cell_type": "code",
   "execution_count": null,
   "id": "d5e5b91b",
   "metadata": {
    "papermill": {
     "duration": 0.023139,
     "end_time": "2023-12-29T04:23:42.281578",
     "exception": false,
     "start_time": "2023-12-29T04:23:42.258439",
     "status": "completed"
    },
    "tags": []
   },
   "outputs": [],
   "source": [
    "train_y"
   ]
  },
  {
   "cell_type": "markdown",
   "id": "03fba8bc",
   "metadata": {
    "papermill": {
     "duration": 0.07362,
     "end_time": "2023-12-29T04:23:42.367101",
     "exception": false,
     "start_time": "2023-12-29T04:23:42.293481",
     "status": "completed"
    },
    "tags": []
   },
   "source": [
    "Initializing the language model for MLM:"
   ]
  },
  {
   "cell_type": "code",
   "execution_count": null,
   "id": "f89d1508",
   "metadata": {
    "papermill": {
     "duration": 21.295241,
     "end_time": "2023-12-29T04:24:03.674776",
     "exception": false,
     "start_time": "2023-12-29T04:23:42.379535",
     "status": "completed"
    },
    "tags": []
   },
   "outputs": [],
   "source": [
    "from transformers import RobertaConfig\n",
    "from transformers import RobertaForMaskedLM\n",
    "\n",
    "# Set a configuration for the model\n",
    "config = RobertaConfig(\n",
    "    vocab_size=vocab_size,\n",
    "    max_position_embeddings=max_position_embeddings,\n",
    "    num_attention_heads=12,\n",
    "    num_hidden_layers=6,\n",
    "    type_vocab_size=1\n",
    ")\n",
    "\n",
    "# Initialize the model from a configuration without pretrained weights\n",
    "model_mlm = RobertaForMaskedLM.from_pretrained('roberta-base', config=config, ignore_mismatched_sizes=True)\n",
    "print('Number of parameters: ',model_mlm.num_parameters())"
   ]
  },
  {
   "cell_type": "markdown",
   "id": "a69cc42b",
   "metadata": {
    "papermill": {
     "duration": 0.012021,
     "end_time": "2023-12-29T04:24:03.699161",
     "exception": false,
     "start_time": "2023-12-29T04:24:03.687140",
     "status": "completed"
    },
    "tags": []
   },
   "source": [
    "Initializing the tokenizer from the previous configuration:"
   ]
  },
  {
   "cell_type": "code",
   "execution_count": null,
   "id": "e35b5086",
   "metadata": {
    "papermill": {
     "duration": 5.528302,
     "end_time": "2023-12-29T04:24:09.239785",
     "exception": false,
     "start_time": "2023-12-29T04:24:03.711483",
     "status": "completed"
    },
    "tags": []
   },
   "outputs": [],
   "source": [
    "from transformers import AutoTokenizer\n",
    "\n",
    "tokenizer = AutoTokenizer.from_pretrained('roberta-base', \n",
    "    max_len=max_sequence_length,\n",
    "    truncation=True,\n",
    "    padding='max_length',\n",
    "    return_tensors='pt',\n",
    "    )"
   ]
  },
  {
   "cell_type": "code",
   "execution_count": null,
   "id": "9d2d5dd2",
   "metadata": {
    "papermill": {
     "duration": 0.021435,
     "end_time": "2023-12-29T04:24:09.274559",
     "exception": false,
     "start_time": "2023-12-29T04:24:09.253124",
     "status": "completed"
    },
    "tags": []
   },
   "outputs": [],
   "source": [
    "TRAIN_EPOCHS = 100\n",
    "LEARNING_RATE = 1e-4\n",
    "TRAIN_BATCH_SIZE = 2"
   ]
  },
  {
   "cell_type": "markdown",
   "id": "69cf87cf",
   "metadata": {
    "papermill": {
     "duration": 0.012835,
     "end_time": "2023-12-29T04:24:09.300583",
     "exception": false,
     "start_time": "2023-12-29T04:24:09.287748",
     "status": "completed"
    },
    "tags": []
   },
   "source": [
    "Building the dataset for masked language modelling:"
   ]
  },
  {
   "cell_type": "code",
   "execution_count": null,
   "id": "8cfdc5c2",
   "metadata": {
    "papermill": {
     "duration": 0.027508,
     "end_time": "2023-12-29T04:24:09.341187",
     "exception": false,
     "start_time": "2023-12-29T04:24:09.313679",
     "status": "completed"
    },
    "tags": []
   },
   "outputs": [],
   "source": [
    "import torch\n",
    "from torch.utils.data import Dataset, DataLoader\n",
    "\n",
    "class MLMDataset(Dataset):\n",
    "    def __init__(self, sequences, tokenizer, max_length=max_position_embeddings, mask_prob=0.15):\n",
    "        self.sequences = sequences\n",
    "        self.tokenizer = tokenizer\n",
    "        self.mask_prob = mask_prob\n",
    "        self.max_length = max_length\n",
    "\n",
    "    def __len__(self):\n",
    "        return len(self.sequences)\n",
    "\n",
    "    def __getitem__(self, idx):\n",
    "        assert 0 <= idx < len(self.sequences), f\"Index {idx} is out of bounds for sequences\"\n",
    "\n",
    "        sequence = self.sequences[idx]\n",
    "\n",
    "        # Tokenize the sentence\n",
    "        input_ids, labels = self.mask_and_encode_tokens(sequence)\n",
    "\n",
    "        # Create attention mask\n",
    "        attention_mask = [1] * len(input_ids)\n",
    "\n",
    "        # Convert labels to tensor\n",
    "        labels = torch.tensor(labels)\n",
    "\n",
    "        return {\n",
    "            'input_ids': torch.tensor(input_ids),\n",
    "            'attention_mask': torch.tensor(attention_mask),\n",
    "            'labels': labels\n",
    "        }\n",
    "\n",
    "    def mask_and_encode_tokens(self, tokens):\n",
    "        \n",
    "        encoding = self.tokenizer.encode_plus(\n",
    "            text=tokens,\n",
    "            padding='max_length',\n",
    "            max_length = self.max_length,\n",
    "            return_tensors='pt',\n",
    "        )\n",
    "\n",
    "        # Extract input IDs\n",
    "        tokens = encoding['input_ids'].squeeze().tolist()\n",
    "\n",
    "        # Initialize labels with -100 (ignore index)\n",
    "        labels = [-100] * len(tokens)\n",
    "\n",
    "        for i, token in enumerate(tokens):\n",
    "            # Randomly decide whether to mask the token\n",
    "            if torch.rand(1).item() < self.mask_prob:\n",
    "                # Mask the token\n",
    "                tokens[i] = self.tokenizer.mask_token_id\n",
    "                labels[i] = token\n",
    "\n",
    "        return tokens, labels"
   ]
  },
  {
   "cell_type": "code",
   "execution_count": null,
   "id": "c1f06d64",
   "metadata": {
    "papermill": {
     "duration": 0.022249,
     "end_time": "2023-12-29T04:24:09.376926",
     "exception": false,
     "start_time": "2023-12-29T04:24:09.354677",
     "status": "completed"
    },
    "tags": []
   },
   "outputs": [],
   "source": [
    "mlm_dataset = MLMDataset(train['Sequence'], tokenizer)\n",
    "mlm_dataloader = DataLoader(mlm_dataset, batch_size=TRAIN_BATCH_SIZE, shuffle=True)"
   ]
  },
  {
   "cell_type": "code",
   "execution_count": null,
   "id": "c8c572db",
   "metadata": {
    "papermill": {
     "duration": 0.020727,
     "end_time": "2023-12-29T04:24:09.411003",
     "exception": false,
     "start_time": "2023-12-29T04:24:09.390276",
     "status": "completed"
    },
    "tags": []
   },
   "outputs": [],
   "source": [
    "# Add this to console\n",
    "# CUDA_LAUNCH_BLOCKING=1\n",
    "import os\n",
    "os.environ['CUDA_LAUNCH_BLOCKING'] = '1'"
   ]
  },
  {
   "cell_type": "code",
   "execution_count": null,
   "id": "ff36324f",
   "metadata": {
    "papermill": {
     "duration": 0.03159,
     "end_time": "2023-12-29T04:24:09.455836",
     "exception": false,
     "start_time": "2023-12-29T04:24:09.424246",
     "status": "completed"
    },
    "tags": []
   },
   "outputs": [],
   "source": [
    "import torch\n",
    "import sys\n",
    "from transformers import AdamW\n",
    "\n",
    "def train_model_mlm(model, train_dataloader, optimizer, model_dir, num_epochs=5, save_every=1):\n",
    "    device = torch.device('cuda' if torch.cuda.is_available() else 'cpu')\n",
    "    \n",
    "    model.to(device)\n",
    "    model.train()\n",
    "\n",
    "    print('Starting RoBERTa MLM Training')\n",
    "    \n",
    "    losses = []\n",
    "    prev_loss = sys.float_info.max\n",
    "    early_stop_threshold = 0.1\n",
    "    \n",
    "    for epoch in range(num_epochs):\n",
    "        total_loss = 0.0\n",
    "        for batch in train_dataloader:\n",
    "            input_ids = batch['input_ids'].to(device)\n",
    "            labels = batch['labels'].to(device)\n",
    "            attention_mask = batch['attention_mask'].to(device)\n",
    "\n",
    "            optimizer.zero_grad()\n",
    "            outputs = model(input_ids=input_ids, labels=labels, attention_mask=attention_mask)\n",
    "            loss = outputs.loss\n",
    "            loss.backward()\n",
    "            optimizer.step()\n",
    "\n",
    "            total_loss += loss.item()\n",
    "\n",
    "        average_loss = total_loss / len(train_dataloader)\n",
    "        losses.append(average_loss)\n",
    "        print(f'Epoch {epoch + 1}/{num_epochs}, Average Loss: {average_loss:.4f}')\n",
    "        \n",
    "        # For early stopping\n",
    "        if (prev_loss > average_loss):\n",
    "            prev_loss = average_loss\n",
    "            # Save the model every 'save_every' epochs\n",
    "            if (epoch + 1) % save_every == 0:\n",
    "                model.save_pretrained(model_dir)\n",
    "                print('Saved model at Epoch: {}'.format(epoch+1))\n",
    "        elif(prev_loss < average_loss and average_loss - prev_loss <= early_stop_threshold * average_loss):\n",
    "            prev_loss = average_loss\n",
    "            if (epoch + 1) % save_every == 0:\n",
    "                model.save_pretrained(model_dir)\n",
    "                print('Saved model at Epoch: {}'.format(epoch+1))\n",
    "        else:\n",
    "            print('Early stopping at Epoch: {}'.format(epoch+1))\n",
    "            break\n",
    "        \n",
    "        # Saving the loss\n",
    "        losses_np = np.array(losses)\n",
    "        np.save('/working/losses.npy', losses_np)\n",
    "\n",
    "    print(\"Training complete.\")\n",
    "    return model, losses"
   ]
  },
  {
   "cell_type": "code",
   "execution_count": null,
   "id": "f9ec48d0",
   "metadata": {
    "papermill": {
     "duration": 31979.503781,
     "end_time": "2023-12-29T13:17:08.972722",
     "exception": false,
     "start_time": "2023-12-29T04:24:09.468941",
     "status": "completed"
    },
    "tags": []
   },
   "outputs": [],
   "source": [
    "# Initialize the optimizer and the loss function\n",
    "optimizer = AdamW(model_mlm.parameters(), lr=LEARNING_RATE)\n",
    "\n",
    "model_mlm, losses = train_model_mlm(model_mlm, mlm_dataloader, optimizer, model_mlm_dir, num_epochs=TRAIN_EPOCHS)"
   ]
  },
  {
   "cell_type": "code",
   "execution_count": null,
   "id": "b2d44e75",
   "metadata": {
    "papermill": {
     "duration": 0.337181,
     "end_time": "2023-12-29T13:17:09.339151",
     "exception": false,
     "start_time": "2023-12-29T13:17:09.001970",
     "status": "completed"
    },
    "tags": []
   },
   "outputs": [],
   "source": [
    "import matplotlib.pyplot as plt\n",
    "\n",
    "plt.plot(losses, label='Training Loss')\n",
    "plt.title('Training Loss Over Epochs')\n",
    "plt.xlabel('Epoch')\n",
    "plt.ylabel('Loss')\n",
    "plt.legend()\n",
    "plt.show()"
   ]
  },
  {
   "cell_type": "code",
   "execution_count": null,
   "id": "f247b731",
   "metadata": {
    "papermill": {
     "duration": 0.757328,
     "end_time": "2023-12-29T13:17:10.124376",
     "exception": false,
     "start_time": "2023-12-29T13:17:09.367048",
     "status": "completed"
    },
    "tags": []
   },
   "outputs": [],
   "source": [
    "# Save the pre-trained model\n",
    "model_mlm.save_pretrained(model_mlm_dir)"
   ]
  },
  {
   "cell_type": "code",
   "execution_count": null,
   "id": "ccdb3a18",
   "metadata": {
    "papermill": {
     "duration": 0.027311,
     "end_time": "2023-12-29T13:17:10.179543",
     "exception": false,
     "start_time": "2023-12-29T13:17:10.152232",
     "status": "completed"
    },
    "tags": []
   },
   "outputs": [],
   "source": []
  }
 ],
 "metadata": {
  "kaggle": {
   "accelerator": "gpu",
   "dataSources": [
    {
     "datasetId": 2391538,
     "sourceId": 4036668,
     "sourceType": "datasetVersion"
    }
   ],
   "dockerImageVersionId": 30559,
   "isGpuEnabled": true,
   "isInternetEnabled": true,
   "language": "python",
   "sourceType": "notebook"
  },
  "kernelspec": {
   "display_name": "Python 3 (ipykernel)",
   "language": "python",
   "name": "python3"
  },
  "language_info": {
   "codemirror_mode": {
    "name": "ipython",
    "version": 3
   },
   "file_extension": ".py",
   "mimetype": "text/x-python",
   "name": "python",
   "nbconvert_exporter": "python",
   "pygments_lexer": "ipython3",
   "version": "3.10.12"
  },
  "papermill": {
   "default_parameters": {},
   "duration": 32073.793179,
   "end_time": "2023-12-29T13:17:13.334865",
   "environment_variables": {},
   "exception": null,
   "input_path": "__notebook__.ipynb",
   "output_path": "__notebook__.ipynb",
   "parameters": {},
   "start_time": "2023-12-29T04:22:39.541686",
   "version": "2.4.0"
  },
  "widgets": {
   "application/vnd.jupyter.widget-state+json": {
    "state": {
     "0088342c583f43bc9f2c275c172ac25e": {
      "model_module": "@jupyter-widgets/controls",
      "model_module_version": "1.5.0",
      "model_name": "HTMLModel",
      "state": {
       "_dom_classes": [],
       "_model_module": "@jupyter-widgets/controls",
       "_model_module_version": "1.5.0",
       "_model_name": "HTMLModel",
       "_view_count": null,
       "_view_module": "@jupyter-widgets/controls",
       "_view_module_version": "1.5.0",
       "_view_name": "HTMLView",
       "description": "",
       "description_tooltip": null,
       "layout": "IPY_MODEL_a758f10ddd90415ca1497c428311829d",
       "placeholder": "​",
       "style": "IPY_MODEL_36116922fa734f86a9d8e1c0ef5e59ca",
       "value": "Downloading tokenizer.json: 100%"
      }
     },
     "01fc7c3d1f18486ca7126403541d50e3": {
      "model_module": "@jupyter-widgets/controls",
      "model_module_version": "1.5.0",
      "model_name": "FloatProgressModel",
      "state": {
       "_dom_classes": [],
       "_model_module": "@jupyter-widgets/controls",
       "_model_module_version": "1.5.0",
       "_model_name": "FloatProgressModel",
       "_view_count": null,
       "_view_module": "@jupyter-widgets/controls",
       "_view_module_version": "1.5.0",
       "_view_name": "ProgressView",
       "bar_style": "success",
       "description": "",
       "description_tooltip": null,
       "layout": "IPY_MODEL_96bbdc27224a4625864e36502637c90f",
       "max": 481,
       "min": 0,
       "orientation": "horizontal",
       "style": "IPY_MODEL_c38892cd07fe4d8b8f9df7974f7431fb",
       "value": 481
      }
     },
     "0c02df076ed34d5ebdb5941a944d964a": {
      "model_module": "@jupyter-widgets/base",
      "model_module_version": "1.2.0",
      "model_name": "LayoutModel",
      "state": {
       "_model_module": "@jupyter-widgets/base",
       "_model_module_version": "1.2.0",
       "_model_name": "LayoutModel",
       "_view_count": null,
       "_view_module": "@jupyter-widgets/base",
       "_view_module_version": "1.2.0",
       "_view_name": "LayoutView",
       "align_content": null,
       "align_items": null,
       "align_self": null,
       "border": null,
       "bottom": null,
       "display": null,
       "flex": null,
       "flex_flow": null,
       "grid_area": null,
       "grid_auto_columns": null,
       "grid_auto_flow": null,
       "grid_auto_rows": null,
       "grid_column": null,
       "grid_gap": null,
       "grid_row": null,
       "grid_template_areas": null,
       "grid_template_columns": null,
       "grid_template_rows": null,
       "height": null,
       "justify_content": null,
       "justify_items": null,
       "left": null,
       "margin": null,
       "max_height": null,
       "max_width": null,
       "min_height": null,
       "min_width": null,
       "object_fit": null,
       "object_position": null,
       "order": null,
       "overflow": null,
       "overflow_x": null,
       "overflow_y": null,
       "padding": null,
       "right": null,
       "top": null,
       "visibility": null,
       "width": null
      }
     },
     "139a481c94c14f3cb4b5f1f138678b6d": {
      "model_module": "@jupyter-widgets/controls",
      "model_module_version": "1.5.0",
      "model_name": "ProgressStyleModel",
      "state": {
       "_model_module": "@jupyter-widgets/controls",
       "_model_module_version": "1.5.0",
       "_model_name": "ProgressStyleModel",
       "_view_count": null,
       "_view_module": "@jupyter-widgets/base",
       "_view_module_version": "1.2.0",
       "_view_name": "StyleView",
       "bar_color": null,
       "description_width": ""
      }
     },
     "1abab0d28af04cc9af5361c38d1bd4c0": {
      "model_module": "@jupyter-widgets/base",
      "model_module_version": "1.2.0",
      "model_name": "LayoutModel",
      "state": {
       "_model_module": "@jupyter-widgets/base",
       "_model_module_version": "1.2.0",
       "_model_name": "LayoutModel",
       "_view_count": null,
       "_view_module": "@jupyter-widgets/base",
       "_view_module_version": "1.2.0",
       "_view_name": "LayoutView",
       "align_content": null,
       "align_items": null,
       "align_self": null,
       "border": null,
       "bottom": null,
       "display": null,
       "flex": null,
       "flex_flow": null,
       "grid_area": null,
       "grid_auto_columns": null,
       "grid_auto_flow": null,
       "grid_auto_rows": null,
       "grid_column": null,
       "grid_gap": null,
       "grid_row": null,
       "grid_template_areas": null,
       "grid_template_columns": null,
       "grid_template_rows": null,
       "height": null,
       "justify_content": null,
       "justify_items": null,
       "left": null,
       "margin": null,
       "max_height": null,
       "max_width": null,
       "min_height": null,
       "min_width": null,
       "object_fit": null,
       "object_position": null,
       "order": null,
       "overflow": null,
       "overflow_x": null,
       "overflow_y": null,
       "padding": null,
       "right": null,
       "top": null,
       "visibility": null,
       "width": null
      }
     },
     "1ecb7eb71a13451f836f076adbef34e6": {
      "model_module": "@jupyter-widgets/controls",
      "model_module_version": "1.5.0",
      "model_name": "FloatProgressModel",
      "state": {
       "_dom_classes": [],
       "_model_module": "@jupyter-widgets/controls",
       "_model_module_version": "1.5.0",
       "_model_name": "FloatProgressModel",
       "_view_count": null,
       "_view_module": "@jupyter-widgets/controls",
       "_view_module_version": "1.5.0",
       "_view_name": "ProgressView",
       "bar_style": "success",
       "description": "",
       "description_tooltip": null,
       "layout": "IPY_MODEL_67250a4d390b4b8e8c65259e3c0dd235",
       "max": 898823,
       "min": 0,
       "orientation": "horizontal",
       "style": "IPY_MODEL_ed86c2bb50384256a53a88a74732cb9b",
       "value": 898823
      }
     },
     "1ed2763d466c45618afa0ba4ad989e21": {
      "model_module": "@jupyter-widgets/base",
      "model_module_version": "1.2.0",
      "model_name": "LayoutModel",
      "state": {
       "_model_module": "@jupyter-widgets/base",
       "_model_module_version": "1.2.0",
       "_model_name": "LayoutModel",
       "_view_count": null,
       "_view_module": "@jupyter-widgets/base",
       "_view_module_version": "1.2.0",
       "_view_name": "LayoutView",
       "align_content": null,
       "align_items": null,
       "align_self": null,
       "border": null,
       "bottom": null,
       "display": null,
       "flex": null,
       "flex_flow": null,
       "grid_area": null,
       "grid_auto_columns": null,
       "grid_auto_flow": null,
       "grid_auto_rows": null,
       "grid_column": null,
       "grid_gap": null,
       "grid_row": null,
       "grid_template_areas": null,
       "grid_template_columns": null,
       "grid_template_rows": null,
       "height": null,
       "justify_content": null,
       "justify_items": null,
       "left": null,
       "margin": null,
       "max_height": null,
       "max_width": null,
       "min_height": null,
       "min_width": null,
       "object_fit": null,
       "object_position": null,
       "order": null,
       "overflow": null,
       "overflow_x": null,
       "overflow_y": null,
       "padding": null,
       "right": null,
       "top": null,
       "visibility": null,
       "width": null
      }
     },
     "23fbe383d34e43b7958a818a7113187c": {
      "model_module": "@jupyter-widgets/base",
      "model_module_version": "1.2.0",
      "model_name": "LayoutModel",
      "state": {
       "_model_module": "@jupyter-widgets/base",
       "_model_module_version": "1.2.0",
       "_model_name": "LayoutModel",
       "_view_count": null,
       "_view_module": "@jupyter-widgets/base",
       "_view_module_version": "1.2.0",
       "_view_name": "LayoutView",
       "align_content": null,
       "align_items": null,
       "align_self": null,
       "border": null,
       "bottom": null,
       "display": null,
       "flex": null,
       "flex_flow": null,
       "grid_area": null,
       "grid_auto_columns": null,
       "grid_auto_flow": null,
       "grid_auto_rows": null,
       "grid_column": null,
       "grid_gap": null,
       "grid_row": null,
       "grid_template_areas": null,
       "grid_template_columns": null,
       "grid_template_rows": null,
       "height": null,
       "justify_content": null,
       "justify_items": null,
       "left": null,
       "margin": null,
       "max_height": null,
       "max_width": null,
       "min_height": null,
       "min_width": null,
       "object_fit": null,
       "object_position": null,
       "order": null,
       "overflow": null,
       "overflow_x": null,
       "overflow_y": null,
       "padding": null,
       "right": null,
       "top": null,
       "visibility": null,
       "width": null
      }
     },
     "2bb375dda4e84d2089ac21b2f8e265bd": {
      "model_module": "@jupyter-widgets/controls",
      "model_module_version": "1.5.0",
      "model_name": "DescriptionStyleModel",
      "state": {
       "_model_module": "@jupyter-widgets/controls",
       "_model_module_version": "1.5.0",
       "_model_name": "DescriptionStyleModel",
       "_view_count": null,
       "_view_module": "@jupyter-widgets/base",
       "_view_module_version": "1.2.0",
       "_view_name": "StyleView",
       "description_width": ""
      }
     },
     "36116922fa734f86a9d8e1c0ef5e59ca": {
      "model_module": "@jupyter-widgets/controls",
      "model_module_version": "1.5.0",
      "model_name": "DescriptionStyleModel",
      "state": {
       "_model_module": "@jupyter-widgets/controls",
       "_model_module_version": "1.5.0",
       "_model_name": "DescriptionStyleModel",
       "_view_count": null,
       "_view_module": "@jupyter-widgets/base",
       "_view_module_version": "1.2.0",
       "_view_name": "StyleView",
       "description_width": ""
      }
     },
     "3c6a6098904444938dce2ce0ff9a832d": {
      "model_module": "@jupyter-widgets/base",
      "model_module_version": "1.2.0",
      "model_name": "LayoutModel",
      "state": {
       "_model_module": "@jupyter-widgets/base",
       "_model_module_version": "1.2.0",
       "_model_name": "LayoutModel",
       "_view_count": null,
       "_view_module": "@jupyter-widgets/base",
       "_view_module_version": "1.2.0",
       "_view_name": "LayoutView",
       "align_content": null,
       "align_items": null,
       "align_self": null,
       "border": null,
       "bottom": null,
       "display": null,
       "flex": null,
       "flex_flow": null,
       "grid_area": null,
       "grid_auto_columns": null,
       "grid_auto_flow": null,
       "grid_auto_rows": null,
       "grid_column": null,
       "grid_gap": null,
       "grid_row": null,
       "grid_template_areas": null,
       "grid_template_columns": null,
       "grid_template_rows": null,
       "height": null,
       "justify_content": null,
       "justify_items": null,
       "left": null,
       "margin": null,
       "max_height": null,
       "max_width": null,
       "min_height": null,
       "min_width": null,
       "object_fit": null,
       "object_position": null,
       "order": null,
       "overflow": null,
       "overflow_x": null,
       "overflow_y": null,
       "padding": null,
       "right": null,
       "top": null,
       "visibility": null,
       "width": null
      }
     },
     "3f71f89c0fd940c6967915e529cc682b": {
      "model_module": "@jupyter-widgets/base",
      "model_module_version": "1.2.0",
      "model_name": "LayoutModel",
      "state": {
       "_model_module": "@jupyter-widgets/base",
       "_model_module_version": "1.2.0",
       "_model_name": "LayoutModel",
       "_view_count": null,
       "_view_module": "@jupyter-widgets/base",
       "_view_module_version": "1.2.0",
       "_view_name": "LayoutView",
       "align_content": null,
       "align_items": null,
       "align_self": null,
       "border": null,
       "bottom": null,
       "display": null,
       "flex": null,
       "flex_flow": null,
       "grid_area": null,
       "grid_auto_columns": null,
       "grid_auto_flow": null,
       "grid_auto_rows": null,
       "grid_column": null,
       "grid_gap": null,
       "grid_row": null,
       "grid_template_areas": null,
       "grid_template_columns": null,
       "grid_template_rows": null,
       "height": null,
       "justify_content": null,
       "justify_items": null,
       "left": null,
       "margin": null,
       "max_height": null,
       "max_width": null,
       "min_height": null,
       "min_width": null,
       "object_fit": null,
       "object_position": null,
       "order": null,
       "overflow": null,
       "overflow_x": null,
       "overflow_y": null,
       "padding": null,
       "right": null,
       "top": null,
       "visibility": null,
       "width": null
      }
     },
     "411bc4abdc0a48cb8737da9239897489": {
      "model_module": "@jupyter-widgets/controls",
      "model_module_version": "1.5.0",
      "model_name": "DescriptionStyleModel",
      "state": {
       "_model_module": "@jupyter-widgets/controls",
       "_model_module_version": "1.5.0",
       "_model_name": "DescriptionStyleModel",
       "_view_count": null,
       "_view_module": "@jupyter-widgets/base",
       "_view_module_version": "1.2.0",
       "_view_name": "StyleView",
       "description_width": ""
      }
     },
     "4d92812dbbb844bbb741ae7593a6c440": {
      "model_module": "@jupyter-widgets/controls",
      "model_module_version": "1.5.0",
      "model_name": "DescriptionStyleModel",
      "state": {
       "_model_module": "@jupyter-widgets/controls",
       "_model_module_version": "1.5.0",
       "_model_name": "DescriptionStyleModel",
       "_view_count": null,
       "_view_module": "@jupyter-widgets/base",
       "_view_module_version": "1.2.0",
       "_view_name": "StyleView",
       "description_width": ""
      }
     },
     "4e88b5a95ff7403d9f2346b6e686e303": {
      "model_module": "@jupyter-widgets/controls",
      "model_module_version": "1.5.0",
      "model_name": "DescriptionStyleModel",
      "state": {
       "_model_module": "@jupyter-widgets/controls",
       "_model_module_version": "1.5.0",
       "_model_name": "DescriptionStyleModel",
       "_view_count": null,
       "_view_module": "@jupyter-widgets/base",
       "_view_module_version": "1.2.0",
       "_view_name": "StyleView",
       "description_width": ""
      }
     },
     "50759390114b4c11b2d708246c4f6f95": {
      "model_module": "@jupyter-widgets/controls",
      "model_module_version": "1.5.0",
      "model_name": "FloatProgressModel",
      "state": {
       "_dom_classes": [],
       "_model_module": "@jupyter-widgets/controls",
       "_model_module_version": "1.5.0",
       "_model_name": "FloatProgressModel",
       "_view_count": null,
       "_view_module": "@jupyter-widgets/controls",
       "_view_module_version": "1.5.0",
       "_view_name": "ProgressView",
       "bar_style": "success",
       "description": "",
       "description_tooltip": null,
       "layout": "IPY_MODEL_ce7c631dcc164794bbe961c8e2e5a454",
       "max": 456318,
       "min": 0,
       "orientation": "horizontal",
       "style": "IPY_MODEL_139a481c94c14f3cb4b5f1f138678b6d",
       "value": 456318
      }
     },
     "60f50760cf5149ef897034eb7fbd0cf9": {
      "model_module": "@jupyter-widgets/controls",
      "model_module_version": "1.5.0",
      "model_name": "HBoxModel",
      "state": {
       "_dom_classes": [],
       "_model_module": "@jupyter-widgets/controls",
       "_model_module_version": "1.5.0",
       "_model_name": "HBoxModel",
       "_view_count": null,
       "_view_module": "@jupyter-widgets/controls",
       "_view_module_version": "1.5.0",
       "_view_name": "HBoxView",
       "box_style": "",
       "children": [
        "IPY_MODEL_0088342c583f43bc9f2c275c172ac25e",
        "IPY_MODEL_b13396e16d854de4bb01667ff86a9f5d",
        "IPY_MODEL_e2c0bcecff7e4e4c876ce74427389906"
       ],
       "layout": "IPY_MODEL_c028f98ad5c84d43802ee99654ef1b43"
      }
     },
     "6234e9b945554bc3ae8b356886360fdd": {
      "model_module": "@jupyter-widgets/controls",
      "model_module_version": "1.5.0",
      "model_name": "HTMLModel",
      "state": {
       "_dom_classes": [],
       "_model_module": "@jupyter-widgets/controls",
       "_model_module_version": "1.5.0",
       "_model_name": "HTMLModel",
       "_view_count": null,
       "_view_module": "@jupyter-widgets/controls",
       "_view_module_version": "1.5.0",
       "_view_name": "HTMLView",
       "description": "",
       "description_tooltip": null,
       "layout": "IPY_MODEL_6ff29f9901af4ab3b5850b4b2eb56c57",
       "placeholder": "​",
       "style": "IPY_MODEL_2bb375dda4e84d2089ac21b2f8e265bd",
       "value": "Downloading merges.txt: 100%"
      }
     },
     "64b75a3e82d548debce18021d7c91925": {
      "model_module": "@jupyter-widgets/controls",
      "model_module_version": "1.5.0",
      "model_name": "HTMLModel",
      "state": {
       "_dom_classes": [],
       "_model_module": "@jupyter-widgets/controls",
       "_model_module_version": "1.5.0",
       "_model_name": "HTMLModel",
       "_view_count": null,
       "_view_module": "@jupyter-widgets/controls",
       "_view_module_version": "1.5.0",
       "_view_name": "HTMLView",
       "description": "",
       "description_tooltip": null,
       "layout": "IPY_MODEL_e61e0f39cd804271ac11b53a090b3c33",
       "placeholder": "​",
       "style": "IPY_MODEL_4e88b5a95ff7403d9f2346b6e686e303",
       "value": " 456k/456k [00:00&lt;00:00, 783kB/s]"
      }
     },
     "6504a714364f4db29f520858d70e4e75": {
      "model_module": "@jupyter-widgets/base",
      "model_module_version": "1.2.0",
      "model_name": "LayoutModel",
      "state": {
       "_model_module": "@jupyter-widgets/base",
       "_model_module_version": "1.2.0",
       "_model_name": "LayoutModel",
       "_view_count": null,
       "_view_module": "@jupyter-widgets/base",
       "_view_module_version": "1.2.0",
       "_view_name": "LayoutView",
       "align_content": null,
       "align_items": null,
       "align_self": null,
       "border": null,
       "bottom": null,
       "display": null,
       "flex": null,
       "flex_flow": null,
       "grid_area": null,
       "grid_auto_columns": null,
       "grid_auto_flow": null,
       "grid_auto_rows": null,
       "grid_column": null,
       "grid_gap": null,
       "grid_row": null,
       "grid_template_areas": null,
       "grid_template_columns": null,
       "grid_template_rows": null,
       "height": null,
       "justify_content": null,
       "justify_items": null,
       "left": null,
       "margin": null,
       "max_height": null,
       "max_width": null,
       "min_height": null,
       "min_width": null,
       "object_fit": null,
       "object_position": null,
       "order": null,
       "overflow": null,
       "overflow_x": null,
       "overflow_y": null,
       "padding": null,
       "right": null,
       "top": null,
       "visibility": null,
       "width": null
      }
     },
     "67250a4d390b4b8e8c65259e3c0dd235": {
      "model_module": "@jupyter-widgets/base",
      "model_module_version": "1.2.0",
      "model_name": "LayoutModel",
      "state": {
       "_model_module": "@jupyter-widgets/base",
       "_model_module_version": "1.2.0",
       "_model_name": "LayoutModel",
       "_view_count": null,
       "_view_module": "@jupyter-widgets/base",
       "_view_module_version": "1.2.0",
       "_view_name": "LayoutView",
       "align_content": null,
       "align_items": null,
       "align_self": null,
       "border": null,
       "bottom": null,
       "display": null,
       "flex": null,
       "flex_flow": null,
       "grid_area": null,
       "grid_auto_columns": null,
       "grid_auto_flow": null,
       "grid_auto_rows": null,
       "grid_column": null,
       "grid_gap": null,
       "grid_row": null,
       "grid_template_areas": null,
       "grid_template_columns": null,
       "grid_template_rows": null,
       "height": null,
       "justify_content": null,
       "justify_items": null,
       "left": null,
       "margin": null,
       "max_height": null,
       "max_width": null,
       "min_height": null,
       "min_width": null,
       "object_fit": null,
       "object_position": null,
       "order": null,
       "overflow": null,
       "overflow_x": null,
       "overflow_y": null,
       "padding": null,
       "right": null,
       "top": null,
       "visibility": null,
       "width": null
      }
     },
     "68d6e8b385624e8a9cf1f37854511506": {
      "model_module": "@jupyter-widgets/controls",
      "model_module_version": "1.5.0",
      "model_name": "HTMLModel",
      "state": {
       "_dom_classes": [],
       "_model_module": "@jupyter-widgets/controls",
       "_model_module_version": "1.5.0",
       "_model_name": "HTMLModel",
       "_view_count": null,
       "_view_module": "@jupyter-widgets/controls",
       "_view_module_version": "1.5.0",
       "_view_name": "HTMLView",
       "description": "",
       "description_tooltip": null,
       "layout": "IPY_MODEL_c712153fc41c42d680b899eb7d6296ea",
       "placeholder": "​",
       "style": "IPY_MODEL_9544fff9e90c4dfe84e4e1d1e41308c3",
       "value": "Downloading model.safetensors: 100%"
      }
     },
     "6ee73f267f3b464a864b3d05cec1e965": {
      "model_module": "@jupyter-widgets/controls",
      "model_module_version": "1.5.0",
      "model_name": "HBoxModel",
      "state": {
       "_dom_classes": [],
       "_model_module": "@jupyter-widgets/controls",
       "_model_module_version": "1.5.0",
       "_model_name": "HBoxModel",
       "_view_count": null,
       "_view_module": "@jupyter-widgets/controls",
       "_view_module_version": "1.5.0",
       "_view_name": "HBoxView",
       "box_style": "",
       "children": [
        "IPY_MODEL_830cc44cc1f54ad692ecf99719915466",
        "IPY_MODEL_1ecb7eb71a13451f836f076adbef34e6",
        "IPY_MODEL_8afb746b87c04452831e2f4522949f10"
       ],
       "layout": "IPY_MODEL_85e0d0c004b74847bd1d64feb6898d5d"
      }
     },
     "6fb77dff376f46209681b3b34cd09b7b": {
      "model_module": "@jupyter-widgets/controls",
      "model_module_version": "1.5.0",
      "model_name": "DescriptionStyleModel",
      "state": {
       "_model_module": "@jupyter-widgets/controls",
       "_model_module_version": "1.5.0",
       "_model_name": "DescriptionStyleModel",
       "_view_count": null,
       "_view_module": "@jupyter-widgets/base",
       "_view_module_version": "1.2.0",
       "_view_name": "StyleView",
       "description_width": ""
      }
     },
     "6ff29f9901af4ab3b5850b4b2eb56c57": {
      "model_module": "@jupyter-widgets/base",
      "model_module_version": "1.2.0",
      "model_name": "LayoutModel",
      "state": {
       "_model_module": "@jupyter-widgets/base",
       "_model_module_version": "1.2.0",
       "_model_name": "LayoutModel",
       "_view_count": null,
       "_view_module": "@jupyter-widgets/base",
       "_view_module_version": "1.2.0",
       "_view_name": "LayoutView",
       "align_content": null,
       "align_items": null,
       "align_self": null,
       "border": null,
       "bottom": null,
       "display": null,
       "flex": null,
       "flex_flow": null,
       "grid_area": null,
       "grid_auto_columns": null,
       "grid_auto_flow": null,
       "grid_auto_rows": null,
       "grid_column": null,
       "grid_gap": null,
       "grid_row": null,
       "grid_template_areas": null,
       "grid_template_columns": null,
       "grid_template_rows": null,
       "height": null,
       "justify_content": null,
       "justify_items": null,
       "left": null,
       "margin": null,
       "max_height": null,
       "max_width": null,
       "min_height": null,
       "min_width": null,
       "object_fit": null,
       "object_position": null,
       "order": null,
       "overflow": null,
       "overflow_x": null,
       "overflow_y": null,
       "padding": null,
       "right": null,
       "top": null,
       "visibility": null,
       "width": null
      }
     },
     "830cc44cc1f54ad692ecf99719915466": {
      "model_module": "@jupyter-widgets/controls",
      "model_module_version": "1.5.0",
      "model_name": "HTMLModel",
      "state": {
       "_dom_classes": [],
       "_model_module": "@jupyter-widgets/controls",
       "_model_module_version": "1.5.0",
       "_model_name": "HTMLModel",
       "_view_count": null,
       "_view_module": "@jupyter-widgets/controls",
       "_view_module_version": "1.5.0",
       "_view_name": "HTMLView",
       "description": "",
       "description_tooltip": null,
       "layout": "IPY_MODEL_1abab0d28af04cc9af5361c38d1bd4c0",
       "placeholder": "​",
       "style": "IPY_MODEL_6fb77dff376f46209681b3b34cd09b7b",
       "value": "Downloading vocab.json: 100%"
      }
     },
     "844e45924d5249c4a003b0c31d1204ff": {
      "model_module": "@jupyter-widgets/controls",
      "model_module_version": "1.5.0",
      "model_name": "HBoxModel",
      "state": {
       "_dom_classes": [],
       "_model_module": "@jupyter-widgets/controls",
       "_model_module_version": "1.5.0",
       "_model_name": "HBoxModel",
       "_view_count": null,
       "_view_module": "@jupyter-widgets/controls",
       "_view_module_version": "1.5.0",
       "_view_name": "HBoxView",
       "box_style": "",
       "children": [
        "IPY_MODEL_6234e9b945554bc3ae8b356886360fdd",
        "IPY_MODEL_50759390114b4c11b2d708246c4f6f95",
        "IPY_MODEL_64b75a3e82d548debce18021d7c91925"
       ],
       "layout": "IPY_MODEL_a108298a12ce47238b63382897464f4d"
      }
     },
     "85e0d0c004b74847bd1d64feb6898d5d": {
      "model_module": "@jupyter-widgets/base",
      "model_module_version": "1.2.0",
      "model_name": "LayoutModel",
      "state": {
       "_model_module": "@jupyter-widgets/base",
       "_model_module_version": "1.2.0",
       "_model_name": "LayoutModel",
       "_view_count": null,
       "_view_module": "@jupyter-widgets/base",
       "_view_module_version": "1.2.0",
       "_view_name": "LayoutView",
       "align_content": null,
       "align_items": null,
       "align_self": null,
       "border": null,
       "bottom": null,
       "display": null,
       "flex": null,
       "flex_flow": null,
       "grid_area": null,
       "grid_auto_columns": null,
       "grid_auto_flow": null,
       "grid_auto_rows": null,
       "grid_column": null,
       "grid_gap": null,
       "grid_row": null,
       "grid_template_areas": null,
       "grid_template_columns": null,
       "grid_template_rows": null,
       "height": null,
       "justify_content": null,
       "justify_items": null,
       "left": null,
       "margin": null,
       "max_height": null,
       "max_width": null,
       "min_height": null,
       "min_width": null,
       "object_fit": null,
       "object_position": null,
       "order": null,
       "overflow": null,
       "overflow_x": null,
       "overflow_y": null,
       "padding": null,
       "right": null,
       "top": null,
       "visibility": null,
       "width": null
      }
     },
     "8afb746b87c04452831e2f4522949f10": {
      "model_module": "@jupyter-widgets/controls",
      "model_module_version": "1.5.0",
      "model_name": "HTMLModel",
      "state": {
       "_dom_classes": [],
       "_model_module": "@jupyter-widgets/controls",
       "_model_module_version": "1.5.0",
       "_model_name": "HTMLModel",
       "_view_count": null,
       "_view_module": "@jupyter-widgets/controls",
       "_view_module_version": "1.5.0",
       "_view_name": "HTMLView",
       "description": "",
       "description_tooltip": null,
       "layout": "IPY_MODEL_3c6a6098904444938dce2ce0ff9a832d",
       "placeholder": "​",
       "style": "IPY_MODEL_c92b432994674c6c926190ede12a287f",
       "value": " 899k/899k [00:00&lt;00:00, 1.15MB/s]"
      }
     },
     "9544fff9e90c4dfe84e4e1d1e41308c3": {
      "model_module": "@jupyter-widgets/controls",
      "model_module_version": "1.5.0",
      "model_name": "DescriptionStyleModel",
      "state": {
       "_model_module": "@jupyter-widgets/controls",
       "_model_module_version": "1.5.0",
       "_model_name": "DescriptionStyleModel",
       "_view_count": null,
       "_view_module": "@jupyter-widgets/base",
       "_view_module_version": "1.2.0",
       "_view_name": "StyleView",
       "description_width": ""
      }
     },
     "96bbdc27224a4625864e36502637c90f": {
      "model_module": "@jupyter-widgets/base",
      "model_module_version": "1.2.0",
      "model_name": "LayoutModel",
      "state": {
       "_model_module": "@jupyter-widgets/base",
       "_model_module_version": "1.2.0",
       "_model_name": "LayoutModel",
       "_view_count": null,
       "_view_module": "@jupyter-widgets/base",
       "_view_module_version": "1.2.0",
       "_view_name": "LayoutView",
       "align_content": null,
       "align_items": null,
       "align_self": null,
       "border": null,
       "bottom": null,
       "display": null,
       "flex": null,
       "flex_flow": null,
       "grid_area": null,
       "grid_auto_columns": null,
       "grid_auto_flow": null,
       "grid_auto_rows": null,
       "grid_column": null,
       "grid_gap": null,
       "grid_row": null,
       "grid_template_areas": null,
       "grid_template_columns": null,
       "grid_template_rows": null,
       "height": null,
       "justify_content": null,
       "justify_items": null,
       "left": null,
       "margin": null,
       "max_height": null,
       "max_width": null,
       "min_height": null,
       "min_width": null,
       "object_fit": null,
       "object_position": null,
       "order": null,
       "overflow": null,
       "overflow_x": null,
       "overflow_y": null,
       "padding": null,
       "right": null,
       "top": null,
       "visibility": null,
       "width": null
      }
     },
     "a108298a12ce47238b63382897464f4d": {
      "model_module": "@jupyter-widgets/base",
      "model_module_version": "1.2.0",
      "model_name": "LayoutModel",
      "state": {
       "_model_module": "@jupyter-widgets/base",
       "_model_module_version": "1.2.0",
       "_model_name": "LayoutModel",
       "_view_count": null,
       "_view_module": "@jupyter-widgets/base",
       "_view_module_version": "1.2.0",
       "_view_name": "LayoutView",
       "align_content": null,
       "align_items": null,
       "align_self": null,
       "border": null,
       "bottom": null,
       "display": null,
       "flex": null,
       "flex_flow": null,
       "grid_area": null,
       "grid_auto_columns": null,
       "grid_auto_flow": null,
       "grid_auto_rows": null,
       "grid_column": null,
       "grid_gap": null,
       "grid_row": null,
       "grid_template_areas": null,
       "grid_template_columns": null,
       "grid_template_rows": null,
       "height": null,
       "justify_content": null,
       "justify_items": null,
       "left": null,
       "margin": null,
       "max_height": null,
       "max_width": null,
       "min_height": null,
       "min_width": null,
       "object_fit": null,
       "object_position": null,
       "order": null,
       "overflow": null,
       "overflow_x": null,
       "overflow_y": null,
       "padding": null,
       "right": null,
       "top": null,
       "visibility": null,
       "width": null
      }
     },
     "a3309cc3408241ffa20bb4c58908d3d9": {
      "model_module": "@jupyter-widgets/base",
      "model_module_version": "1.2.0",
      "model_name": "LayoutModel",
      "state": {
       "_model_module": "@jupyter-widgets/base",
       "_model_module_version": "1.2.0",
       "_model_name": "LayoutModel",
       "_view_count": null,
       "_view_module": "@jupyter-widgets/base",
       "_view_module_version": "1.2.0",
       "_view_name": "LayoutView",
       "align_content": null,
       "align_items": null,
       "align_self": null,
       "border": null,
       "bottom": null,
       "display": null,
       "flex": null,
       "flex_flow": null,
       "grid_area": null,
       "grid_auto_columns": null,
       "grid_auto_flow": null,
       "grid_auto_rows": null,
       "grid_column": null,
       "grid_gap": null,
       "grid_row": null,
       "grid_template_areas": null,
       "grid_template_columns": null,
       "grid_template_rows": null,
       "height": null,
       "justify_content": null,
       "justify_items": null,
       "left": null,
       "margin": null,
       "max_height": null,
       "max_width": null,
       "min_height": null,
       "min_width": null,
       "object_fit": null,
       "object_position": null,
       "order": null,
       "overflow": null,
       "overflow_x": null,
       "overflow_y": null,
       "padding": null,
       "right": null,
       "top": null,
       "visibility": null,
       "width": null
      }
     },
     "a4c8df94694f46d383ce8e01716f9eb9": {
      "model_module": "@jupyter-widgets/controls",
      "model_module_version": "1.5.0",
      "model_name": "ProgressStyleModel",
      "state": {
       "_model_module": "@jupyter-widgets/controls",
       "_model_module_version": "1.5.0",
       "_model_name": "ProgressStyleModel",
       "_view_count": null,
       "_view_module": "@jupyter-widgets/base",
       "_view_module_version": "1.2.0",
       "_view_name": "StyleView",
       "bar_color": null,
       "description_width": ""
      }
     },
     "a758f10ddd90415ca1497c428311829d": {
      "model_module": "@jupyter-widgets/base",
      "model_module_version": "1.2.0",
      "model_name": "LayoutModel",
      "state": {
       "_model_module": "@jupyter-widgets/base",
       "_model_module_version": "1.2.0",
       "_model_name": "LayoutModel",
       "_view_count": null,
       "_view_module": "@jupyter-widgets/base",
       "_view_module_version": "1.2.0",
       "_view_name": "LayoutView",
       "align_content": null,
       "align_items": null,
       "align_self": null,
       "border": null,
       "bottom": null,
       "display": null,
       "flex": null,
       "flex_flow": null,
       "grid_area": null,
       "grid_auto_columns": null,
       "grid_auto_flow": null,
       "grid_auto_rows": null,
       "grid_column": null,
       "grid_gap": null,
       "grid_row": null,
       "grid_template_areas": null,
       "grid_template_columns": null,
       "grid_template_rows": null,
       "height": null,
       "justify_content": null,
       "justify_items": null,
       "left": null,
       "margin": null,
       "max_height": null,
       "max_width": null,
       "min_height": null,
       "min_width": null,
       "object_fit": null,
       "object_position": null,
       "order": null,
       "overflow": null,
       "overflow_x": null,
       "overflow_y": null,
       "padding": null,
       "right": null,
       "top": null,
       "visibility": null,
       "width": null
      }
     },
     "aa36a6d99d624d5e853af8c47a165b0e": {
      "model_module": "@jupyter-widgets/controls",
      "model_module_version": "1.5.0",
      "model_name": "HBoxModel",
      "state": {
       "_dom_classes": [],
       "_model_module": "@jupyter-widgets/controls",
       "_model_module_version": "1.5.0",
       "_model_name": "HBoxModel",
       "_view_count": null,
       "_view_module": "@jupyter-widgets/controls",
       "_view_module_version": "1.5.0",
       "_view_name": "HBoxView",
       "box_style": "",
       "children": [
        "IPY_MODEL_f6b5281569304b20b8a8cdeca3ba3d33",
        "IPY_MODEL_01fc7c3d1f18486ca7126403541d50e3",
        "IPY_MODEL_ae375db4ebd5440bb165c8e5a590fbbc"
       ],
       "layout": "IPY_MODEL_a3309cc3408241ffa20bb4c58908d3d9"
      }
     },
     "acca3d26beb0412eb3f27bee0734ce56": {
      "model_module": "@jupyter-widgets/controls",
      "model_module_version": "1.5.0",
      "model_name": "HTMLModel",
      "state": {
       "_dom_classes": [],
       "_model_module": "@jupyter-widgets/controls",
       "_model_module_version": "1.5.0",
       "_model_name": "HTMLModel",
       "_view_count": null,
       "_view_module": "@jupyter-widgets/controls",
       "_view_module_version": "1.5.0",
       "_view_name": "HTMLView",
       "description": "",
       "description_tooltip": null,
       "layout": "IPY_MODEL_6504a714364f4db29f520858d70e4e75",
       "placeholder": "​",
       "style": "IPY_MODEL_ef9c0f42f77d4c0aa96c745577f16143",
       "value": " 499M/499M [00:06&lt;00:00, 77.1MB/s]"
      }
     },
     "ae375db4ebd5440bb165c8e5a590fbbc": {
      "model_module": "@jupyter-widgets/controls",
      "model_module_version": "1.5.0",
      "model_name": "HTMLModel",
      "state": {
       "_dom_classes": [],
       "_model_module": "@jupyter-widgets/controls",
       "_model_module_version": "1.5.0",
       "_model_name": "HTMLModel",
       "_view_count": null,
       "_view_module": "@jupyter-widgets/controls",
       "_view_module_version": "1.5.0",
       "_view_name": "HTMLView",
       "description": "",
       "description_tooltip": null,
       "layout": "IPY_MODEL_23fbe383d34e43b7958a818a7113187c",
       "placeholder": "​",
       "style": "IPY_MODEL_f567ccd1df774ddca9858fbefe6b743c",
       "value": " 481/481 [00:00&lt;00:00, 42.6kB/s]"
      }
     },
     "b13396e16d854de4bb01667ff86a9f5d": {
      "model_module": "@jupyter-widgets/controls",
      "model_module_version": "1.5.0",
      "model_name": "FloatProgressModel",
      "state": {
       "_dom_classes": [],
       "_model_module": "@jupyter-widgets/controls",
       "_model_module_version": "1.5.0",
       "_model_name": "FloatProgressModel",
       "_view_count": null,
       "_view_module": "@jupyter-widgets/controls",
       "_view_module_version": "1.5.0",
       "_view_name": "ProgressView",
       "bar_style": "success",
       "description": "",
       "description_tooltip": null,
       "layout": "IPY_MODEL_f08fc20eef4749d7bece375739b0541e",
       "max": 1355863,
       "min": 0,
       "orientation": "horizontal",
       "style": "IPY_MODEL_a4c8df94694f46d383ce8e01716f9eb9",
       "value": 1355863
      }
     },
     "c028f98ad5c84d43802ee99654ef1b43": {
      "model_module": "@jupyter-widgets/base",
      "model_module_version": "1.2.0",
      "model_name": "LayoutModel",
      "state": {
       "_model_module": "@jupyter-widgets/base",
       "_model_module_version": "1.2.0",
       "_model_name": "LayoutModel",
       "_view_count": null,
       "_view_module": "@jupyter-widgets/base",
       "_view_module_version": "1.2.0",
       "_view_name": "LayoutView",
       "align_content": null,
       "align_items": null,
       "align_self": null,
       "border": null,
       "bottom": null,
       "display": null,
       "flex": null,
       "flex_flow": null,
       "grid_area": null,
       "grid_auto_columns": null,
       "grid_auto_flow": null,
       "grid_auto_rows": null,
       "grid_column": null,
       "grid_gap": null,
       "grid_row": null,
       "grid_template_areas": null,
       "grid_template_columns": null,
       "grid_template_rows": null,
       "height": null,
       "justify_content": null,
       "justify_items": null,
       "left": null,
       "margin": null,
       "max_height": null,
       "max_width": null,
       "min_height": null,
       "min_width": null,
       "object_fit": null,
       "object_position": null,
       "order": null,
       "overflow": null,
       "overflow_x": null,
       "overflow_y": null,
       "padding": null,
       "right": null,
       "top": null,
       "visibility": null,
       "width": null
      }
     },
     "c38892cd07fe4d8b8f9df7974f7431fb": {
      "model_module": "@jupyter-widgets/controls",
      "model_module_version": "1.5.0",
      "model_name": "ProgressStyleModel",
      "state": {
       "_model_module": "@jupyter-widgets/controls",
       "_model_module_version": "1.5.0",
       "_model_name": "ProgressStyleModel",
       "_view_count": null,
       "_view_module": "@jupyter-widgets/base",
       "_view_module_version": "1.2.0",
       "_view_name": "StyleView",
       "bar_color": null,
       "description_width": ""
      }
     },
     "c712153fc41c42d680b899eb7d6296ea": {
      "model_module": "@jupyter-widgets/base",
      "model_module_version": "1.2.0",
      "model_name": "LayoutModel",
      "state": {
       "_model_module": "@jupyter-widgets/base",
       "_model_module_version": "1.2.0",
       "_model_name": "LayoutModel",
       "_view_count": null,
       "_view_module": "@jupyter-widgets/base",
       "_view_module_version": "1.2.0",
       "_view_name": "LayoutView",
       "align_content": null,
       "align_items": null,
       "align_self": null,
       "border": null,
       "bottom": null,
       "display": null,
       "flex": null,
       "flex_flow": null,
       "grid_area": null,
       "grid_auto_columns": null,
       "grid_auto_flow": null,
       "grid_auto_rows": null,
       "grid_column": null,
       "grid_gap": null,
       "grid_row": null,
       "grid_template_areas": null,
       "grid_template_columns": null,
       "grid_template_rows": null,
       "height": null,
       "justify_content": null,
       "justify_items": null,
       "left": null,
       "margin": null,
       "max_height": null,
       "max_width": null,
       "min_height": null,
       "min_width": null,
       "object_fit": null,
       "object_position": null,
       "order": null,
       "overflow": null,
       "overflow_x": null,
       "overflow_y": null,
       "padding": null,
       "right": null,
       "top": null,
       "visibility": null,
       "width": null
      }
     },
     "c92b432994674c6c926190ede12a287f": {
      "model_module": "@jupyter-widgets/controls",
      "model_module_version": "1.5.0",
      "model_name": "DescriptionStyleModel",
      "state": {
       "_model_module": "@jupyter-widgets/controls",
       "_model_module_version": "1.5.0",
       "_model_name": "DescriptionStyleModel",
       "_view_count": null,
       "_view_module": "@jupyter-widgets/base",
       "_view_module_version": "1.2.0",
       "_view_name": "StyleView",
       "description_width": ""
      }
     },
     "ce7c631dcc164794bbe961c8e2e5a454": {
      "model_module": "@jupyter-widgets/base",
      "model_module_version": "1.2.0",
      "model_name": "LayoutModel",
      "state": {
       "_model_module": "@jupyter-widgets/base",
       "_model_module_version": "1.2.0",
       "_model_name": "LayoutModel",
       "_view_count": null,
       "_view_module": "@jupyter-widgets/base",
       "_view_module_version": "1.2.0",
       "_view_name": "LayoutView",
       "align_content": null,
       "align_items": null,
       "align_self": null,
       "border": null,
       "bottom": null,
       "display": null,
       "flex": null,
       "flex_flow": null,
       "grid_area": null,
       "grid_auto_columns": null,
       "grid_auto_flow": null,
       "grid_auto_rows": null,
       "grid_column": null,
       "grid_gap": null,
       "grid_row": null,
       "grid_template_areas": null,
       "grid_template_columns": null,
       "grid_template_rows": null,
       "height": null,
       "justify_content": null,
       "justify_items": null,
       "left": null,
       "margin": null,
       "max_height": null,
       "max_width": null,
       "min_height": null,
       "min_width": null,
       "object_fit": null,
       "object_position": null,
       "order": null,
       "overflow": null,
       "overflow_x": null,
       "overflow_y": null,
       "padding": null,
       "right": null,
       "top": null,
       "visibility": null,
       "width": null
      }
     },
     "d36d88fa7de948a28ee1e7a4cddeffa5": {
      "model_module": "@jupyter-widgets/base",
      "model_module_version": "1.2.0",
      "model_name": "LayoutModel",
      "state": {
       "_model_module": "@jupyter-widgets/base",
       "_model_module_version": "1.2.0",
       "_model_name": "LayoutModel",
       "_view_count": null,
       "_view_module": "@jupyter-widgets/base",
       "_view_module_version": "1.2.0",
       "_view_name": "LayoutView",
       "align_content": null,
       "align_items": null,
       "align_self": null,
       "border": null,
       "bottom": null,
       "display": null,
       "flex": null,
       "flex_flow": null,
       "grid_area": null,
       "grid_auto_columns": null,
       "grid_auto_flow": null,
       "grid_auto_rows": null,
       "grid_column": null,
       "grid_gap": null,
       "grid_row": null,
       "grid_template_areas": null,
       "grid_template_columns": null,
       "grid_template_rows": null,
       "height": null,
       "justify_content": null,
       "justify_items": null,
       "left": null,
       "margin": null,
       "max_height": null,
       "max_width": null,
       "min_height": null,
       "min_width": null,
       "object_fit": null,
       "object_position": null,
       "order": null,
       "overflow": null,
       "overflow_x": null,
       "overflow_y": null,
       "padding": null,
       "right": null,
       "top": null,
       "visibility": null,
       "width": null
      }
     },
     "e2c0bcecff7e4e4c876ce74427389906": {
      "model_module": "@jupyter-widgets/controls",
      "model_module_version": "1.5.0",
      "model_name": "HTMLModel",
      "state": {
       "_dom_classes": [],
       "_model_module": "@jupyter-widgets/controls",
       "_model_module_version": "1.5.0",
       "_model_name": "HTMLModel",
       "_view_count": null,
       "_view_module": "@jupyter-widgets/controls",
       "_view_module_version": "1.5.0",
       "_view_name": "HTMLView",
       "description": "",
       "description_tooltip": null,
       "layout": "IPY_MODEL_3f71f89c0fd940c6967915e529cc682b",
       "placeholder": "​",
       "style": "IPY_MODEL_411bc4abdc0a48cb8737da9239897489",
       "value": " 1.36M/1.36M [00:00&lt;00:00, 1.39MB/s]"
      }
     },
     "e61e0f39cd804271ac11b53a090b3c33": {
      "model_module": "@jupyter-widgets/base",
      "model_module_version": "1.2.0",
      "model_name": "LayoutModel",
      "state": {
       "_model_module": "@jupyter-widgets/base",
       "_model_module_version": "1.2.0",
       "_model_name": "LayoutModel",
       "_view_count": null,
       "_view_module": "@jupyter-widgets/base",
       "_view_module_version": "1.2.0",
       "_view_name": "LayoutView",
       "align_content": null,
       "align_items": null,
       "align_self": null,
       "border": null,
       "bottom": null,
       "display": null,
       "flex": null,
       "flex_flow": null,
       "grid_area": null,
       "grid_auto_columns": null,
       "grid_auto_flow": null,
       "grid_auto_rows": null,
       "grid_column": null,
       "grid_gap": null,
       "grid_row": null,
       "grid_template_areas": null,
       "grid_template_columns": null,
       "grid_template_rows": null,
       "height": null,
       "justify_content": null,
       "justify_items": null,
       "left": null,
       "margin": null,
       "max_height": null,
       "max_width": null,
       "min_height": null,
       "min_width": null,
       "object_fit": null,
       "object_position": null,
       "order": null,
       "overflow": null,
       "overflow_x": null,
       "overflow_y": null,
       "padding": null,
       "right": null,
       "top": null,
       "visibility": null,
       "width": null
      }
     },
     "e898188393f140dfbb8c985aaf7f07ee": {
      "model_module": "@jupyter-widgets/controls",
      "model_module_version": "1.5.0",
      "model_name": "FloatProgressModel",
      "state": {
       "_dom_classes": [],
       "_model_module": "@jupyter-widgets/controls",
       "_model_module_version": "1.5.0",
       "_model_name": "FloatProgressModel",
       "_view_count": null,
       "_view_module": "@jupyter-widgets/controls",
       "_view_module_version": "1.5.0",
       "_view_name": "ProgressView",
       "bar_style": "success",
       "description": "",
       "description_tooltip": null,
       "layout": "IPY_MODEL_1ed2763d466c45618afa0ba4ad989e21",
       "max": 498818054,
       "min": 0,
       "orientation": "horizontal",
       "style": "IPY_MODEL_ffd7e98007a4439c84d9649313daaf75",
       "value": 498818054
      }
     },
     "ed86c2bb50384256a53a88a74732cb9b": {
      "model_module": "@jupyter-widgets/controls",
      "model_module_version": "1.5.0",
      "model_name": "ProgressStyleModel",
      "state": {
       "_model_module": "@jupyter-widgets/controls",
       "_model_module_version": "1.5.0",
       "_model_name": "ProgressStyleModel",
       "_view_count": null,
       "_view_module": "@jupyter-widgets/base",
       "_view_module_version": "1.2.0",
       "_view_name": "StyleView",
       "bar_color": null,
       "description_width": ""
      }
     },
     "ef9c0f42f77d4c0aa96c745577f16143": {
      "model_module": "@jupyter-widgets/controls",
      "model_module_version": "1.5.0",
      "model_name": "DescriptionStyleModel",
      "state": {
       "_model_module": "@jupyter-widgets/controls",
       "_model_module_version": "1.5.0",
       "_model_name": "DescriptionStyleModel",
       "_view_count": null,
       "_view_module": "@jupyter-widgets/base",
       "_view_module_version": "1.2.0",
       "_view_name": "StyleView",
       "description_width": ""
      }
     },
     "f08fc20eef4749d7bece375739b0541e": {
      "model_module": "@jupyter-widgets/base",
      "model_module_version": "1.2.0",
      "model_name": "LayoutModel",
      "state": {
       "_model_module": "@jupyter-widgets/base",
       "_model_module_version": "1.2.0",
       "_model_name": "LayoutModel",
       "_view_count": null,
       "_view_module": "@jupyter-widgets/base",
       "_view_module_version": "1.2.0",
       "_view_name": "LayoutView",
       "align_content": null,
       "align_items": null,
       "align_self": null,
       "border": null,
       "bottom": null,
       "display": null,
       "flex": null,
       "flex_flow": null,
       "grid_area": null,
       "grid_auto_columns": null,
       "grid_auto_flow": null,
       "grid_auto_rows": null,
       "grid_column": null,
       "grid_gap": null,
       "grid_row": null,
       "grid_template_areas": null,
       "grid_template_columns": null,
       "grid_template_rows": null,
       "height": null,
       "justify_content": null,
       "justify_items": null,
       "left": null,
       "margin": null,
       "max_height": null,
       "max_width": null,
       "min_height": null,
       "min_width": null,
       "object_fit": null,
       "object_position": null,
       "order": null,
       "overflow": null,
       "overflow_x": null,
       "overflow_y": null,
       "padding": null,
       "right": null,
       "top": null,
       "visibility": null,
       "width": null
      }
     },
     "f567ccd1df774ddca9858fbefe6b743c": {
      "model_module": "@jupyter-widgets/controls",
      "model_module_version": "1.5.0",
      "model_name": "DescriptionStyleModel",
      "state": {
       "_model_module": "@jupyter-widgets/controls",
       "_model_module_version": "1.5.0",
       "_model_name": "DescriptionStyleModel",
       "_view_count": null,
       "_view_module": "@jupyter-widgets/base",
       "_view_module_version": "1.2.0",
       "_view_name": "StyleView",
       "description_width": ""
      }
     },
     "f6b5281569304b20b8a8cdeca3ba3d33": {
      "model_module": "@jupyter-widgets/controls",
      "model_module_version": "1.5.0",
      "model_name": "HTMLModel",
      "state": {
       "_dom_classes": [],
       "_model_module": "@jupyter-widgets/controls",
       "_model_module_version": "1.5.0",
       "_model_name": "HTMLModel",
       "_view_count": null,
       "_view_module": "@jupyter-widgets/controls",
       "_view_module_version": "1.5.0",
       "_view_name": "HTMLView",
       "description": "",
       "description_tooltip": null,
       "layout": "IPY_MODEL_d36d88fa7de948a28ee1e7a4cddeffa5",
       "placeholder": "​",
       "style": "IPY_MODEL_4d92812dbbb844bbb741ae7593a6c440",
       "value": "Downloading config.json: 100%"
      }
     },
     "f84c41a21f214db499ccd146b0c0ae9b": {
      "model_module": "@jupyter-widgets/controls",
      "model_module_version": "1.5.0",
      "model_name": "HBoxModel",
      "state": {
       "_dom_classes": [],
       "_model_module": "@jupyter-widgets/controls",
       "_model_module_version": "1.5.0",
       "_model_name": "HBoxModel",
       "_view_count": null,
       "_view_module": "@jupyter-widgets/controls",
       "_view_module_version": "1.5.0",
       "_view_name": "HBoxView",
       "box_style": "",
       "children": [
        "IPY_MODEL_68d6e8b385624e8a9cf1f37854511506",
        "IPY_MODEL_e898188393f140dfbb8c985aaf7f07ee",
        "IPY_MODEL_acca3d26beb0412eb3f27bee0734ce56"
       ],
       "layout": "IPY_MODEL_0c02df076ed34d5ebdb5941a944d964a"
      }
     },
     "ffd7e98007a4439c84d9649313daaf75": {
      "model_module": "@jupyter-widgets/controls",
      "model_module_version": "1.5.0",
      "model_name": "ProgressStyleModel",
      "state": {
       "_model_module": "@jupyter-widgets/controls",
       "_model_module_version": "1.5.0",
       "_model_name": "ProgressStyleModel",
       "_view_count": null,
       "_view_module": "@jupyter-widgets/base",
       "_view_module_version": "1.2.0",
       "_view_name": "StyleView",
       "bar_color": null,
       "description_width": ""
      }
     }
    },
    "version_major": 2,
    "version_minor": 0
   }
  }
 },
 "nbformat": 4,
 "nbformat_minor": 5
}
