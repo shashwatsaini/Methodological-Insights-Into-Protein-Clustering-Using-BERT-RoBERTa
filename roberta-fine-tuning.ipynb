{
 "cells": [
  {
   "cell_type": "code",
   "execution_count": null,
   "id": "db97dc5a",
   "metadata": {
    "_cell_guid": "b1076dfc-b9ad-4769-8c92-a6c4dae69d19",
    "_uuid": "8f2839f25d086af736a60e9eeb907d3b93b6e0e5",
    "papermill": {
     "duration": 5.675119,
     "end_time": "2024-02-06T10:11:26.522405",
     "exception": false,
     "start_time": "2024-02-06T10:11:20.847286",
     "status": "completed"
    },
    "tags": []
   },
   "outputs": [],
   "source": [
    "import numpy as np # For mathematical operations\n",
    "import pandas as pd # For tabular data structures\n",
    "import os"
   ]
  },
  {
   "cell_type": "code",
   "execution_count": null,
   "id": "1e624ed5",
   "metadata": {
    "papermill": {
     "duration": 0.024384,
     "end_time": "2024-02-06T10:11:26.560613",
     "exception": false,
     "start_time": "2024-02-06T10:11:26.536229",
     "status": "completed"
    },
    "tags": []
   },
   "outputs": [],
   "source": [
    "# Creating directories\n",
    "model_mlm_dir = '/working/mlm_model'\n",
    "padded_states_dir = '/working/padded_states'\n",
    "hidden_states_dir = '/working/hidden_states'\n",
    "model_dir = '/working/model'\n",
    "tokenizer_dir = '/working/tokenizer_dir'\n",
    "txt_files_dir = '/working/sequence_files'\n",
    "\n",
    "if not os.path.exists(txt_files_dir):\n",
    "    os.makedirs(txt_files_dir)\n",
    "\n",
    "if not os.path.exists(tokenizer_dir):\n",
    "    os.makedirs(tokenizer_dir)\n",
    "\n",
    "if not os.path.exists(model_dir):\n",
    "    os.makedirs(model_dir)\n",
    "\n",
    "if not os.path.exists(hidden_states_dir):\n",
    "    os.makedirs(hidden_states_dir)\n",
    "    \n",
    "if not os.path.exists(padded_states_dir):\n",
    "    os.makedirs(padded_states_dir)\n",
    "\n",
    "if not os.path.exists(model_mlm_dir):\n",
    "    os.makedirs(model_mlm_dir)"
   ]
  },
  {
   "cell_type": "code",
   "execution_count": null,
   "id": "98d4ce59",
   "metadata": {
    "papermill": {
     "duration": 0.021438,
     "end_time": "2024-02-06T10:11:26.628551",
     "exception": false,
     "start_time": "2024-02-06T10:11:26.607113",
     "status": "completed"
    },
    "tags": []
   },
   "outputs": [],
   "source": [
    "# Defining variables\n",
    "max_position_embeddings = 2048 # For bert tokenizer and model\n",
    "max_sequence_length = 2000 # Cannot exceed max_position_embeddings\n",
    "min_sequence_length = 400\n",
    "num_sequence = 4000\n",
    "vocab_size = 50265\n",
    "gene_ontology_unique = -1 # Will be assigned later\n",
    "gene_ontology_filter_threshold = 50 # Model will only take proteins with more than n common gene ontology ids\n",
    "\n",
    "from collections import defaultdict\n",
    "def def_value():\n",
    "    return 0\n",
    "gene_ontology_counts = defaultdict(def_value) # Default dictionary for gene ontology ids\n",
    "filtered_gene_ontology_counts = defaultdict(def_value) # Default dictionary after gene ontology ids have been filtered"
   ]
  },
  {
   "cell_type": "code",
   "execution_count": null,
   "id": "879a13b1",
   "metadata": {
    "papermill": {
     "duration": 46.001635,
     "end_time": "2024-02-06T10:12:12.643537",
     "exception": false,
     "start_time": "2024-02-06T10:11:26.641902",
     "status": "completed"
    },
    "tags": []
   },
   "outputs": [],
   "source": [
    "uniprot = pd.read_csv('/data.csv')"
   ]
  },
  {
   "cell_type": "markdown",
   "id": "d1d1a3e6",
   "metadata": {
    "papermill": {
     "duration": 0.013445,
     "end_time": "2024-02-06T10:12:12.671126",
     "exception": false,
     "start_time": "2024-02-06T10:12:12.657681",
     "status": "completed"
    },
    "tags": []
   },
   "source": [
    "Filtering data:"
   ]
  },
  {
   "cell_type": "code",
   "execution_count": null,
   "id": "e73011c6",
   "metadata": {
    "papermill": {
     "duration": 0.81379,
     "end_time": "2024-02-06T10:12:13.498318",
     "exception": false,
     "start_time": "2024-02-06T10:12:12.684528",
     "status": "completed"
    },
    "tags": []
   },
   "outputs": [],
   "source": [
    "# Filtering out specific columns\n",
    "uniprot = uniprot[['Sequence', 'Length', 'Organism', 'Gene Ontology IDs']]\n",
    "# Filtering out proteins associated with humans, and with a specific sequence length\n",
    "uniprot = uniprot[(uniprot['Organism'] == 'Homo sapiens (Human)') & (uniprot['Length'] < max_sequence_length) & (uniprot['Length'] > min_sequence_length)]\n",
    "# Picking first n proteins\n",
    "uniprot = uniprot.dropna()\n",
    "uniprot = uniprot.head(num_sequence)\n",
    "uniprot = uniprot.reset_index(drop=True)"
   ]
  },
  {
   "cell_type": "markdown",
   "id": "84bc2e12",
   "metadata": {
    "papermill": {
     "duration": 0.013126,
     "end_time": "2024-02-06T10:12:13.525598",
     "exception": false,
     "start_time": "2024-02-06T10:12:13.512472",
     "status": "completed"
    },
    "tags": []
   },
   "source": [
    "Preprocessing Gene Ontology IDs for fine-tuning:"
   ]
  },
  {
   "cell_type": "code",
   "execution_count": null,
   "id": "d54aec45",
   "metadata": {
    "papermill": {
     "duration": 0.021566,
     "end_time": "2024-02-06T10:12:13.560455",
     "exception": false,
     "start_time": "2024-02-06T10:12:13.538889",
     "status": "completed"
    },
    "tags": []
   },
   "outputs": [],
   "source": [
    "def preprocess_gene_ontology(id):\n",
    "    ids = id.split(';')\n",
    "    gene_ontology_id = 0\n",
    "    found = False\n",
    "    \n",
    "    for gene_ontology_id in ids:\n",
    "        if gene_ontology_id in gene_ontology_counts.keys():\n",
    "            found = True\n",
    "            break\n",
    "            \n",
    "    if not found:\n",
    "        gene_ontology_id = ids[0]\n",
    "        \n",
    "    gene_ontology_counts[gene_ontology_id] += 1\n",
    "    return gene_ontology_id"
   ]
  },
  {
   "cell_type": "code",
   "execution_count": null,
   "id": "938198e9",
   "metadata": {
    "papermill": {
     "duration": 0.03355,
     "end_time": "2024-02-06T10:12:13.607778",
     "exception": false,
     "start_time": "2024-02-06T10:12:13.574228",
     "status": "completed"
    },
    "tags": []
   },
   "outputs": [],
   "source": [
    "uniprot['Gene_ontology_id'] = uniprot['Gene Ontology IDs'].apply(lambda id: preprocess_gene_ontology(id))\n",
    "gene_ontology_unique = len(gene_ontology_counts.values())\n",
    "print('Number of unique Gene Ontology IDs: {}'.format(gene_ontology_unique))"
   ]
  },
  {
   "cell_type": "code",
   "execution_count": null,
   "id": "d9da4168",
   "metadata": {
    "papermill": {
     "duration": 0.074518,
     "end_time": "2024-02-06T10:12:13.695866",
     "exception": false,
     "start_time": "2024-02-06T10:12:13.621348",
     "status": "completed"
    },
    "tags": []
   },
   "outputs": [],
   "source": [
    "uniprot"
   ]
  },
  {
   "cell_type": "code",
   "execution_count": null,
   "id": "be313824",
   "metadata": {
    "papermill": {
     "duration": 0.023714,
     "end_time": "2024-02-06T10:12:13.733804",
     "exception": false,
     "start_time": "2024-02-06T10:12:13.710090",
     "status": "completed"
    },
    "tags": []
   },
   "outputs": [],
   "source": [
    "def filter_by_gene_ontology_counts(df, gene_ontology_filter_threshold):\n",
    "    \n",
    "    count = 0\n",
    "    \n",
    "    for i in range(df.shape[0]):\n",
    "        if(gene_ontology_counts[df.at[i, 'Gene_ontology_id']] > gene_ontology_filter_threshold):\n",
    "            if df.at[i, 'Gene_ontology_id'] in filtered_gene_ontology_counts.keys():\n",
    "                filtered_gene_ontology_counts[df.at[i, 'Gene_ontology_id']] += 1\n",
    "            else:\n",
    "                filtered_gene_ontology_counts[df.at[i, 'Gene_ontology_id']] = 1\n",
    "            count += 1\n",
    "            continue\n",
    "        else:\n",
    "            df = df.drop(i)\n",
    "    \n",
    "    print('Number of Proteins after Gene Ontology Filtering: {}'.format(count))\n",
    "    \n",
    "    return df"
   ]
  },
  {
   "cell_type": "code",
   "execution_count": null,
   "id": "b66159d0",
   "metadata": {
    "papermill": {
     "duration": 1.996692,
     "end_time": "2024-02-06T10:12:15.744221",
     "exception": false,
     "start_time": "2024-02-06T10:12:13.747529",
     "status": "completed"
    },
    "tags": []
   },
   "outputs": [],
   "source": [
    "uniprot = filter_by_gene_ontology_counts(uniprot, gene_ontology_filter_threshold)"
   ]
  },
  {
   "cell_type": "code",
   "execution_count": null,
   "id": "e86908c9",
   "metadata": {
    "papermill": {
     "duration": 0.022775,
     "end_time": "2024-02-06T10:12:15.783338",
     "exception": false,
     "start_time": "2024-02-06T10:12:15.760563",
     "status": "completed"
    },
    "tags": []
   },
   "outputs": [],
   "source": [
    "print('Filtered Gene Ontology Dictionary:{}'.format(filtered_gene_ontology_counts.items()))"
   ]
  },
  {
   "cell_type": "code",
   "execution_count": null,
   "id": "fc98a824",
   "metadata": {
    "papermill": {
     "duration": 0.03137,
     "end_time": "2024-02-06T10:12:15.829174",
     "exception": false,
     "start_time": "2024-02-06T10:12:15.797804",
     "status": "completed"
    },
    "tags": []
   },
   "outputs": [],
   "source": [
    "uniprot"
   ]
  },
  {
   "cell_type": "code",
   "execution_count": null,
   "id": "82a52042",
   "metadata": {
    "papermill": {
     "duration": 0.022817,
     "end_time": "2024-02-06T10:12:15.866954",
     "exception": false,
     "start_time": "2024-02-06T10:12:15.844137",
     "status": "completed"
    },
    "tags": []
   },
   "outputs": [],
   "source": [
    "# To add white spaces between all tokens in the sequence\n",
    "def preprocess_sequence(df):\n",
    "    for index, row in df.iterrows():\n",
    "        tokens = list(row['Sequence'])\n",
    "        df.at[index, 'Sequence'] = str(tokens[0] + \" \".join(tokens[1:-1]) + \" \" + tokens[-1])\n",
    "    return df"
   ]
  },
  {
   "cell_type": "code",
   "execution_count": null,
   "id": "dff366d8",
   "metadata": {
    "papermill": {
     "duration": 0.14647,
     "end_time": "2024-02-06T10:12:16.028007",
     "exception": false,
     "start_time": "2024-02-06T10:12:15.881537",
     "status": "completed"
    },
    "tags": []
   },
   "outputs": [],
   "source": [
    "uniprot = preprocess_sequence(uniprot)"
   ]
  },
  {
   "cell_type": "code",
   "execution_count": null,
   "id": "88601cfe",
   "metadata": {
    "papermill": {
     "duration": 0.027213,
     "end_time": "2024-02-06T10:12:16.069938",
     "exception": false,
     "start_time": "2024-02-06T10:12:16.042725",
     "status": "completed"
    },
    "tags": []
   },
   "outputs": [],
   "source": [
    "uniprot.head()"
   ]
  },
  {
   "cell_type": "code",
   "execution_count": null,
   "id": "437ec214",
   "metadata": {
    "papermill": {
     "duration": 0.743681,
     "end_time": "2024-02-06T10:12:16.828255",
     "exception": false,
     "start_time": "2024-02-06T10:12:16.084574",
     "status": "completed"
    },
    "tags": []
   },
   "outputs": [],
   "source": [
    "from sklearn.preprocessing import OrdinalEncoder\n",
    "\n",
    "gene_ontology_encoder = OrdinalEncoder()\n",
    "uniprot['Gene_ontology_id_encoded'] = gene_ontology_encoder.fit_transform(np.array(uniprot['Gene_ontology_id']).reshape(-1,1))"
   ]
  },
  {
   "cell_type": "code",
   "execution_count": null,
   "id": "c375724c",
   "metadata": {
    "papermill": {
     "duration": 0.034684,
     "end_time": "2024-02-06T10:12:16.878316",
     "exception": false,
     "start_time": "2024-02-06T10:12:16.843632",
     "status": "completed"
    },
    "tags": []
   },
   "outputs": [],
   "source": [
    "uniprot"
   ]
  },
  {
   "cell_type": "code",
   "execution_count": null,
   "id": "784a251a",
   "metadata": {
    "papermill": {
     "duration": 0.024662,
     "end_time": "2024-02-06T10:12:16.918718",
     "exception": false,
     "start_time": "2024-02-06T10:12:16.894056",
     "status": "completed"
    },
    "tags": []
   },
   "outputs": [],
   "source": [
    "preds = uniprot['Gene_ontology_id_encoded']\n",
    "\n",
    "# 20% for testing:\n",
    "train = uniprot.head(int(num_sequence * 0.8))\n",
    "train.reset_index(drop=True, inplace=True)\n",
    "train_y = preds.head(int(num_sequence * 0.8))\n",
    "train_y.reset_index(drop=True, inplace=True)\n",
    "\n",
    "test = uniprot.tail(int(num_sequence * 0.2))\n",
    "test.reset_index(drop=True, inplace=True)\n",
    "test_y = preds.tail(int(num_sequence * 0.2))\n",
    "test_y.reset_index(drop=True, inplace=True)"
   ]
  },
  {
   "cell_type": "code",
   "execution_count": null,
   "id": "db19df40",
   "metadata": {
    "papermill": {
     "duration": 0.031275,
     "end_time": "2024-02-06T10:12:16.965008",
     "exception": false,
     "start_time": "2024-02-06T10:12:16.933733",
     "status": "completed"
    },
    "tags": []
   },
   "outputs": [],
   "source": [
    "train"
   ]
  },
  {
   "cell_type": "code",
   "execution_count": null,
   "id": "1a6bcc91",
   "metadata": {
    "papermill": {
     "duration": 0.025922,
     "end_time": "2024-02-06T10:12:17.006863",
     "exception": false,
     "start_time": "2024-02-06T10:12:16.980941",
     "status": "completed"
    },
    "tags": []
   },
   "outputs": [],
   "source": [
    "train_y"
   ]
  },
  {
   "cell_type": "code",
   "execution_count": null,
   "id": "d1cbd714",
   "metadata": {
    "papermill": {
     "duration": 0.023249,
     "end_time": "2024-02-06T10:12:17.046276",
     "exception": false,
     "start_time": "2024-02-06T10:12:17.023027",
     "status": "completed"
    },
    "tags": []
   },
   "outputs": [],
   "source": [
    "train = train.reset_index(drop=True)\n",
    "test = test.reset_index(drop=True)"
   ]
  },
  {
   "cell_type": "markdown",
   "id": "9b321385",
   "metadata": {
    "papermill": {
     "duration": 0.015142,
     "end_time": "2024-02-06T10:12:17.076996",
     "exception": false,
     "start_time": "2024-02-06T10:12:17.061854",
     "status": "completed"
    },
    "tags": []
   },
   "source": [
    "Initializing the language model from the already pre-trained on MLML model"
   ]
  },
  {
   "cell_type": "code",
   "execution_count": null,
   "id": "fece513e",
   "metadata": {
    "papermill": {
     "duration": 7.688742,
     "end_time": "2024-02-06T10:12:24.781186",
     "exception": false,
     "start_time": "2024-02-06T10:12:17.092444",
     "status": "completed"
    },
    "tags": []
   },
   "outputs": [],
   "source": [
    "import torch\n",
    "from transformers import RobertaConfig\n",
    "from transformers import AutoTokenizer, AutoModelForSequenceClassification\n",
    "\n",
    "# Loading the already pretrained MLM model\n",
    "# Load the configuration from huggingface\n",
    "config = RobertaConfig(\n",
    "    vocab_size=vocab_size,\n",
    "    max_position_embeddings=2048,\n",
    "    num_attention_heads=12,\n",
    "    num_hidden_layers=6,\n",
    "    type_vocab_size=1,\n",
    "    num_labels = gene_ontology_unique\n",
    ")\n",
    "\n",
    "mlm_model = \"\" # Add pre-trained MLM model here\n",
    "model = AutoModelForSequenceClassification.from_pretrained(mlm_model, config=config)"
   ]
  },
  {
   "cell_type": "code",
   "execution_count": null,
   "id": "4306f76c",
   "metadata": {
    "papermill": {
     "duration": 0.469304,
     "end_time": "2024-02-06T10:12:25.271264",
     "exception": false,
     "start_time": "2024-02-06T10:12:24.801960",
     "status": "completed"
    },
    "tags": []
   },
   "outputs": [],
   "source": [
    "model.save_pretrained(model_mlm_dir)"
   ]
  },
  {
   "cell_type": "markdown",
   "id": "0b99e475",
   "metadata": {
    "papermill": {
     "duration": 0.01917,
     "end_time": "2024-02-06T10:12:25.311718",
     "exception": false,
     "start_time": "2024-02-06T10:12:25.292548",
     "status": "completed"
    },
    "tags": []
   },
   "source": [
    "Initializing the tokenizer from the previous configuration:"
   ]
  },
  {
   "cell_type": "code",
   "execution_count": null,
   "id": "99995724",
   "metadata": {
    "papermill": {
     "duration": 1.221477,
     "end_time": "2024-02-06T10:12:26.555415",
     "exception": false,
     "start_time": "2024-02-06T10:12:25.333938",
     "status": "completed"
    },
    "tags": []
   },
   "outputs": [],
   "source": [
    "from transformers import AutoTokenizer\n",
    "\n",
    "tokenizer = AutoTokenizer.from_pretrained(mlm_model, \n",
    "    max_len=max_sequence_length,\n",
    "    truncation=True,\n",
    "    padding='max_length',\n",
    "    return_tensors='pt',\n",
    "    )"
   ]
  },
  {
   "cell_type": "markdown",
   "id": "dc314a46",
   "metadata": {
    "papermill": {
     "duration": 0.016636,
     "end_time": "2024-02-06T10:12:26.589739",
     "exception": false,
     "start_time": "2024-02-06T10:12:26.573103",
     "status": "completed"
    },
    "tags": []
   },
   "source": [
    "Building the training dataset, and tokenizing sequences:"
   ]
  },
  {
   "cell_type": "code",
   "execution_count": null,
   "id": "75f24e71",
   "metadata": {
    "papermill": {
     "duration": 4.380165,
     "end_time": "2024-02-06T10:12:30.986283",
     "exception": false,
     "start_time": "2024-02-06T10:12:26.606118",
     "status": "completed"
    },
    "tags": []
   },
   "outputs": [],
   "source": [
    "import torch\n",
    "from torch.utils.data import Dataset, DataLoader\n",
    "\n",
    "class CustomDataset(Dataset):\n",
    "    def __init__(self, df, tokenizer):\n",
    "        \n",
    "        self.examples = []\n",
    "        \n",
    "        for example, label in zip(df['Sequence'].values, df['Gene_ontology_id_encoded'].values):\n",
    "            # Tokenizing:\n",
    "            x = tokenizer.encode_plus(example, max_length=512, truncation=True, padding='max_length', return_tensors='pt')\n",
    "            self.examples.append({'input_ids': x['input_ids'].squeeze(),\n",
    "                                  'attention_mask': x['attention_mask'].squeeze(),\n",
    "                                  'labels': torch.tensor(label, dtype=torch.long)})\n",
    "\n",
    "    def __len__(self):\n",
    "        return len(self.examples)\n",
    "\n",
    "    def __getitem__(self, i):\n",
    "        return self.examples[i]\n",
    "      \n",
    "# Create the train dataset\n",
    "train_dataset = CustomDataset(train, tokenizer)\n",
    "test_dataset = CustomDataset(test, tokenizer)\n",
    "\n",
    "train_dataloader = DataLoader(train_dataset, batch_size=2, shuffle=True)\n",
    "test_dataloader = DataLoader(test_dataset, batch_size=2, shuffle=False)"
   ]
  },
  {
   "cell_type": "code",
   "execution_count": null,
   "id": "e5ce27fc",
   "metadata": {
    "papermill": {
     "duration": 0.055278,
     "end_time": "2024-02-06T10:12:31.066728",
     "exception": false,
     "start_time": "2024-02-06T10:12:31.011450",
     "status": "completed"
    },
    "tags": []
   },
   "outputs": [],
   "source": [
    "print('Sampele inputs from the dataloader:')\n",
    "for batch in train_dataloader:\n",
    "    print(batch['input_ids'][0])\n",
    "    print(batch['attention_mask'][0])\n",
    "    print(batch['labels'][0])\n",
    "    break"
   ]
  },
  {
   "cell_type": "markdown",
   "id": "59fac9e0",
   "metadata": {
    "papermill": {
     "duration": 0.020824,
     "end_time": "2024-02-06T10:12:31.108933",
     "exception": false,
     "start_time": "2024-02-06T10:12:31.088109",
     "status": "completed"
    },
    "tags": []
   },
   "source": [
    "Training:"
   ]
  },
  {
   "cell_type": "code",
   "execution_count": null,
   "id": "d80bca98",
   "metadata": {
    "papermill": {
     "duration": 0.027354,
     "end_time": "2024-02-06T10:12:31.152508",
     "exception": false,
     "start_time": "2024-02-06T10:12:31.125154",
     "status": "completed"
    },
    "tags": []
   },
   "outputs": [],
   "source": [
    "# Defining parameters:\n",
    "TRAIN_EPOCHS = 200\n",
    "LEARNING_RATE = 2e-5\n",
    "TRAIN_BATCH_SIZE = 2\n",
    "VALID_BATCH_SIZE = 2\n",
    "WEIGHT_DECAY = 0.01"
   ]
  },
  {
   "cell_type": "code",
   "execution_count": null,
   "id": "113437d1",
   "metadata": {
    "papermill": {
     "duration": 11.177844,
     "end_time": "2024-02-06T10:12:42.396698",
     "exception": false,
     "start_time": "2024-02-06T10:12:31.218854",
     "status": "completed"
    },
    "tags": []
   },
   "outputs": [],
   "source": [
    "from transformers import TrainingArguments, Trainer\n",
    "\n",
    "args = TrainingArguments(\n",
    "    output_dir=model_dir,\n",
    "    evaluation_strategy = \"epoch\",\n",
    "    save_strategy = \"epoch\",\n",
    "    learning_rate=2e-5,\n",
    "    per_device_train_batch_size=TRAIN_BATCH_SIZE,\n",
    "    per_device_eval_batch_size=VALID_BATCH_SIZE,\n",
    "    num_train_epochs=TRAIN_EPOCHS,\n",
    "    weight_decay=WEIGHT_DECAY,\n",
    "    save_total_limit=1,\n",
    "    push_to_hub=False,\n",
    ")"
   ]
  },
  {
   "cell_type": "code",
   "execution_count": null,
   "id": "1360bbc3",
   "metadata": {
    "papermill": {
     "duration": 0.028976,
     "end_time": "2024-02-06T10:12:42.444803",
     "exception": false,
     "start_time": "2024-02-06T10:12:42.415827",
     "status": "completed"
    },
    "tags": []
   },
   "outputs": [],
   "source": [
    "from sklearn.metrics import accuracy_score\n",
    "def compute_metrics(p):\n",
    "    predictions, labels = p.predictions, p.label_ids\n",
    "    predictions = np.argmax(predictions, axis=1)\n",
    "    \n",
    "    # Calculate accuracy\n",
    "    accuracy = accuracy_score(labels, predictions)\n",
    "\n",
    "    return {\"accuracy\": accuracy}"
   ]
  },
  {
   "cell_type": "code",
   "execution_count": null,
   "id": "9b22f0f5",
   "metadata": {
    "papermill": {
     "duration": 0.779786,
     "end_time": "2024-02-06T10:12:43.243833",
     "exception": false,
     "start_time": "2024-02-06T10:12:42.464047",
     "status": "completed"
    },
    "tags": []
   },
   "outputs": [],
   "source": [
    "trainer = Trainer(\n",
    "    model,\n",
    "    args,\n",
    "    train_dataset=train_dataset,\n",
    "    eval_dataset=test_dataset,\n",
    "    tokenizer=tokenizer,\n",
    "    compute_metrics=compute_metrics\n",
    ")"
   ]
  },
  {
   "cell_type": "code",
   "execution_count": null,
   "id": "de65f11d",
   "metadata": {
    "papermill": {
     "duration": 10012.448113,
     "end_time": "2024-02-06T12:59:35.708685",
     "exception": false,
     "start_time": "2024-02-06T10:12:43.260572",
     "status": "completed"
    },
    "tags": []
   },
   "outputs": [],
   "source": [
    "import wandb\n",
    "key = \"\" # Add key here\n",
    "wandb.login(key=key)\n",
    "trainer.train()"
   ]
  },
  {
   "cell_type": "code",
   "execution_count": null,
   "id": "ece5b0b0",
   "metadata": {
    "papermill": {
     "duration": 0.647354,
     "end_time": "2024-02-06T12:59:36.375351",
     "exception": false,
     "start_time": "2024-02-06T12:59:35.727997",
     "status": "completed"
    },
    "tags": []
   },
   "outputs": [],
   "source": [
    "# Save the model\n",
    "model.save_pretrained(model_dir)"
   ]
  },
  {
   "cell_type": "markdown",
   "id": "a027f6fa",
   "metadata": {
    "papermill": {
     "duration": 0.019151,
     "end_time": "2024-02-06T12:59:36.414103",
     "exception": false,
     "start_time": "2024-02-06T12:59:36.394952",
     "status": "completed"
    },
    "tags": []
   },
   "source": [
    "Predicting, and evaluating on test dataset:"
   ]
  },
  {
   "cell_type": "code",
   "execution_count": null,
   "id": "ae9fe062",
   "metadata": {
    "papermill": {
     "duration": 0.030275,
     "end_time": "2024-02-06T12:59:36.463092",
     "exception": false,
     "start_time": "2024-02-06T12:59:36.432817",
     "status": "completed"
    },
    "tags": []
   },
   "outputs": [],
   "source": [
    "def predict(test_dataloader, max_sequence_length, model):\n",
    "    \n",
    "    device = 'cuda'\n",
    "    predicted_labels = []\n",
    "    model = model.to(device)\n",
    "    \n",
    "    with torch.no_grad():\n",
    "        \n",
    "        total_correct = 0\n",
    "        total_labels = 0\n",
    "        \n",
    "        for batch in test_dataloader:\n",
    "            input_ids = batch['input_ids'].to(device)\n",
    "            attention_mask = batch['attention_mask'].to(device)\n",
    "            labels = batch['labels'].to(device)\n",
    "\n",
    "            outputs = model(input_ids=input_ids, attention_mask=attention_mask, labels=labels)\n",
    "            logits = outputs.logits\n",
    "\n",
    "            _, predicted_class = torch.max(logits, 1)\n",
    "            total_correct += (predicted_class == labels).sum().item()\n",
    "            total_labels += len(labels)\n",
    "            \n",
    "            predicted_labels.extend(predicted_class.cpu().numpy())\n",
    "\n",
    "    return total_correct / total_labels, predicted_labels"
   ]
  },
  {
   "cell_type": "code",
   "execution_count": null,
   "id": "0ced0c60",
   "metadata": {
    "papermill": {
     "duration": 7.82518,
     "end_time": "2024-02-06T12:59:44.307277",
     "exception": false,
     "start_time": "2024-02-06T12:59:36.482097",
     "status": "completed"
    },
    "tags": []
   },
   "outputs": [],
   "source": [
    "accuracy, test['Predicted_gene_ontology'] = predict(test_dataloader, max_sequence_length, model)"
   ]
  },
  {
   "cell_type": "code",
   "execution_count": null,
   "id": "f1dc3c19",
   "metadata": {
    "papermill": {
     "duration": 0.027387,
     "end_time": "2024-02-06T12:59:44.354230",
     "exception": false,
     "start_time": "2024-02-06T12:59:44.326843",
     "status": "completed"
    },
    "tags": []
   },
   "outputs": [],
   "source": [
    "print('Accuracy on Test Dataset: {}'.format(accuracy))"
   ]
  },
  {
   "cell_type": "code",
   "execution_count": null,
   "id": "7930dd69",
   "metadata": {
    "papermill": {
     "duration": 0.038776,
     "end_time": "2024-02-06T12:59:44.411956",
     "exception": false,
     "start_time": "2024-02-06T12:59:44.373180",
     "status": "completed"
    },
    "tags": []
   },
   "outputs": [],
   "source": [
    "test.head(20)"
   ]
  },
  {
   "cell_type": "code",
   "execution_count": null,
   "id": "f8637d04",
   "metadata": {
    "papermill": {
     "duration": 0.097296,
     "end_time": "2024-02-06T12:59:44.530541",
     "exception": false,
     "start_time": "2024-02-06T12:59:44.433245",
     "status": "completed"
    },
    "tags": []
   },
   "outputs": [],
   "source": [
    "test.to_csv('/kaggle/working/test.csv')"
   ]
  }
 ],
 "metadata": {
  "kaggle": {
   "accelerator": "gpu",
   "dataSources": [
    {
     "datasetId": 2391538,
     "sourceId": 4036668,
     "sourceType": "datasetVersion"
    },
    {
     "sourceId": 156699896,
     "sourceType": "kernelVersion"
    }
   ],
   "dockerImageVersionId": 30627,
   "isGpuEnabled": true,
   "isInternetEnabled": true,
   "language": "python",
   "sourceType": "notebook"
  },
  "kernelspec": {
   "display_name": "Python 3 (ipykernel)",
   "language": "python",
   "name": "python3"
  },
  "language_info": {
   "codemirror_mode": {
    "name": "ipython",
    "version": 3
   },
   "file_extension": ".py",
   "mimetype": "text/x-python",
   "name": "python",
   "nbconvert_exporter": "python",
   "pygments_lexer": "ipython3",
   "version": "3.10.12"
  },
  "papermill": {
   "default_parameters": {},
   "duration": 10109.813441,
   "end_time": "2024-02-06T12:59:47.295759",
   "environment_variables": {},
   "exception": null,
   "input_path": "__notebook__.ipynb",
   "output_path": "__notebook__.ipynb",
   "parameters": {},
   "start_time": "2024-02-06T10:11:17.482318",
   "version": "2.4.0"
  },
  "widgets": {
   "application/vnd.jupyter.widget-state+json": {
    "state": {
     "06759fb80ebe41da86f461e613798386": {
      "model_module": "@jupyter-widgets/controls",
      "model_module_version": "1.5.0",
      "model_name": "ProgressStyleModel",
      "state": {
       "_model_module": "@jupyter-widgets/controls",
       "_model_module_version": "1.5.0",
       "_model_name": "ProgressStyleModel",
       "_view_count": null,
       "_view_module": "@jupyter-widgets/base",
       "_view_module_version": "1.2.0",
       "_view_name": "StyleView",
       "bar_color": null,
       "description_width": ""
      }
     },
     "0758b95005134bc7980a359b9c28218e": {
      "model_module": "@jupyter-widgets/controls",
      "model_module_version": "1.5.0",
      "model_name": "DescriptionStyleModel",
      "state": {
       "_model_module": "@jupyter-widgets/controls",
       "_model_module_version": "1.5.0",
       "_model_name": "DescriptionStyleModel",
       "_view_count": null,
       "_view_module": "@jupyter-widgets/base",
       "_view_module_version": "1.2.0",
       "_view_name": "StyleView",
       "description_width": ""
      }
     },
     "0b14e7507d2d40e596386ea7bfdb374a": {
      "model_module": "@jupyter-widgets/controls",
      "model_module_version": "1.5.0",
      "model_name": "FloatProgressModel",
      "state": {
       "_dom_classes": [],
       "_model_module": "@jupyter-widgets/controls",
       "_model_module_version": "1.5.0",
       "_model_name": "FloatProgressModel",
       "_view_count": null,
       "_view_module": "@jupyter-widgets/controls",
       "_view_module_version": "1.5.0",
       "_view_name": "ProgressView",
       "bar_style": "success",
       "description": "",
       "description_tooltip": null,
       "layout": "IPY_MODEL_22cc8db1b5724951a65299c87cac4528",
       "max": 711396,
       "min": 0,
       "orientation": "horizontal",
       "style": "IPY_MODEL_db9c3b673e0d4dabb3136ecb7db078f4",
       "value": 711396
      }
     },
     "157e6203c53045139f60b365a3f7e986": {
      "model_module": "@jupyter-widgets/base",
      "model_module_version": "1.2.0",
      "model_name": "LayoutModel",
      "state": {
       "_model_module": "@jupyter-widgets/base",
       "_model_module_version": "1.2.0",
       "_model_name": "LayoutModel",
       "_view_count": null,
       "_view_module": "@jupyter-widgets/base",
       "_view_module_version": "1.2.0",
       "_view_name": "LayoutView",
       "align_content": null,
       "align_items": null,
       "align_self": null,
       "border": null,
       "bottom": null,
       "display": null,
       "flex": null,
       "flex_flow": null,
       "grid_area": null,
       "grid_auto_columns": null,
       "grid_auto_flow": null,
       "grid_auto_rows": null,
       "grid_column": null,
       "grid_gap": null,
       "grid_row": null,
       "grid_template_areas": null,
       "grid_template_columns": null,
       "grid_template_rows": null,
       "height": null,
       "justify_content": null,
       "justify_items": null,
       "left": null,
       "margin": null,
       "max_height": null,
       "max_width": null,
       "min_height": null,
       "min_width": null,
       "object_fit": null,
       "object_position": null,
       "order": null,
       "overflow": null,
       "overflow_x": null,
       "overflow_y": null,
       "padding": null,
       "right": null,
       "top": null,
       "visibility": null,
       "width": null
      }
     },
     "193422c9d0d94b16a603b08cdea083bc": {
      "model_module": "@jupyter-widgets/controls",
      "model_module_version": "1.5.0",
      "model_name": "HTMLModel",
      "state": {
       "_dom_classes": [],
       "_model_module": "@jupyter-widgets/controls",
       "_model_module_version": "1.5.0",
       "_model_name": "HTMLModel",
       "_view_count": null,
       "_view_module": "@jupyter-widgets/controls",
       "_view_module_version": "1.5.0",
       "_view_name": "HTMLView",
       "description": "",
       "description_tooltip": null,
       "layout": "IPY_MODEL_8a805da973d248178565284d411b5417",
       "placeholder": "​",
       "style": "IPY_MODEL_824f248b7bea4ee0ad2aa9328b64add0",
       "value": " 711k/711k [00:00&lt;00:00, 41.2MB/s]"
      }
     },
     "1c58a0ac585d4f7d8d4e6fb9e22abb8f": {
      "model_module": "@jupyter-widgets/controls",
      "model_module_version": "1.5.0",
      "model_name": "HBoxModel",
      "state": {
       "_dom_classes": [],
       "_model_module": "@jupyter-widgets/controls",
       "_model_module_version": "1.5.0",
       "_model_name": "HBoxModel",
       "_view_count": null,
       "_view_module": "@jupyter-widgets/controls",
       "_view_module_version": "1.5.0",
       "_view_name": "HBoxView",
       "box_style": "",
       "children": [
        "IPY_MODEL_3f9fa3432e194454b4bacc670dcb8406",
        "IPY_MODEL_a29e89765055433281f0414ae723ac59",
        "IPY_MODEL_58b2599be0d94d648198f0dac3c046e0"
       ],
       "layout": "IPY_MODEL_f19edf37b7f94a9f879d2364d4b801f1"
      }
     },
     "1f15803c9c7f4ff0b1125b1f8a373276": {
      "model_module": "@jupyter-widgets/base",
      "model_module_version": "1.2.0",
      "model_name": "LayoutModel",
      "state": {
       "_model_module": "@jupyter-widgets/base",
       "_model_module_version": "1.2.0",
       "_model_name": "LayoutModel",
       "_view_count": null,
       "_view_module": "@jupyter-widgets/base",
       "_view_module_version": "1.2.0",
       "_view_name": "LayoutView",
       "align_content": null,
       "align_items": null,
       "align_self": null,
       "border": null,
       "bottom": null,
       "display": null,
       "flex": null,
       "flex_flow": null,
       "grid_area": null,
       "grid_auto_columns": null,
       "grid_auto_flow": null,
       "grid_auto_rows": null,
       "grid_column": null,
       "grid_gap": null,
       "grid_row": null,
       "grid_template_areas": null,
       "grid_template_columns": null,
       "grid_template_rows": null,
       "height": null,
       "justify_content": null,
       "justify_items": null,
       "left": null,
       "margin": null,
       "max_height": null,
       "max_width": null,
       "min_height": null,
       "min_width": null,
       "object_fit": null,
       "object_position": null,
       "order": null,
       "overflow": null,
       "overflow_x": null,
       "overflow_y": null,
       "padding": null,
       "right": null,
       "top": null,
       "visibility": null,
       "width": null
      }
     },
     "2105df1a2f844a658185ae8b969d95b3": {
      "model_module": "@jupyter-widgets/controls",
      "model_module_version": "1.5.0",
      "model_name": "HTMLModel",
      "state": {
       "_dom_classes": [],
       "_model_module": "@jupyter-widgets/controls",
       "_model_module_version": "1.5.0",
       "_model_name": "HTMLModel",
       "_view_count": null,
       "_view_module": "@jupyter-widgets/controls",
       "_view_module_version": "1.5.0",
       "_view_name": "HTMLView",
       "description": "",
       "description_tooltip": null,
       "layout": "IPY_MODEL_d5922c1acc284cbaa7440965a8887107",
       "placeholder": "​",
       "style": "IPY_MODEL_0758b95005134bc7980a359b9c28218e",
       "value": "tokenizer.json: 100%"
      }
     },
     "2216b879ebbc45cfbe2c5db772492cc0": {
      "model_module": "@jupyter-widgets/base",
      "model_module_version": "1.2.0",
      "model_name": "LayoutModel",
      "state": {
       "_model_module": "@jupyter-widgets/base",
       "_model_module_version": "1.2.0",
       "_model_name": "LayoutModel",
       "_view_count": null,
       "_view_module": "@jupyter-widgets/base",
       "_view_module_version": "1.2.0",
       "_view_name": "LayoutView",
       "align_content": null,
       "align_items": null,
       "align_self": null,
       "border": null,
       "bottom": null,
       "display": null,
       "flex": null,
       "flex_flow": null,
       "grid_area": null,
       "grid_auto_columns": null,
       "grid_auto_flow": null,
       "grid_auto_rows": null,
       "grid_column": null,
       "grid_gap": null,
       "grid_row": null,
       "grid_template_areas": null,
       "grid_template_columns": null,
       "grid_template_rows": null,
       "height": null,
       "justify_content": null,
       "justify_items": null,
       "left": null,
       "margin": null,
       "max_height": null,
       "max_width": null,
       "min_height": null,
       "min_width": null,
       "object_fit": null,
       "object_position": null,
       "order": null,
       "overflow": null,
       "overflow_x": null,
       "overflow_y": null,
       "padding": null,
       "right": null,
       "top": null,
       "visibility": null,
       "width": null
      }
     },
     "22cc8db1b5724951a65299c87cac4528": {
      "model_module": "@jupyter-widgets/base",
      "model_module_version": "1.2.0",
      "model_name": "LayoutModel",
      "state": {
       "_model_module": "@jupyter-widgets/base",
       "_model_module_version": "1.2.0",
       "_model_name": "LayoutModel",
       "_view_count": null,
       "_view_module": "@jupyter-widgets/base",
       "_view_module_version": "1.2.0",
       "_view_name": "LayoutView",
       "align_content": null,
       "align_items": null,
       "align_self": null,
       "border": null,
       "bottom": null,
       "display": null,
       "flex": null,
       "flex_flow": null,
       "grid_area": null,
       "grid_auto_columns": null,
       "grid_auto_flow": null,
       "grid_auto_rows": null,
       "grid_column": null,
       "grid_gap": null,
       "grid_row": null,
       "grid_template_areas": null,
       "grid_template_columns": null,
       "grid_template_rows": null,
       "height": null,
       "justify_content": null,
       "justify_items": null,
       "left": null,
       "margin": null,
       "max_height": null,
       "max_width": null,
       "min_height": null,
       "min_width": null,
       "object_fit": null,
       "object_position": null,
       "order": null,
       "overflow": null,
       "overflow_x": null,
       "overflow_y": null,
       "padding": null,
       "right": null,
       "top": null,
       "visibility": null,
       "width": null
      }
     },
     "2b9940cf7c4345b9bae5e1fba39ca7cf": {
      "model_module": "@jupyter-widgets/base",
      "model_module_version": "1.2.0",
      "model_name": "LayoutModel",
      "state": {
       "_model_module": "@jupyter-widgets/base",
       "_model_module_version": "1.2.0",
       "_model_name": "LayoutModel",
       "_view_count": null,
       "_view_module": "@jupyter-widgets/base",
       "_view_module_version": "1.2.0",
       "_view_name": "LayoutView",
       "align_content": null,
       "align_items": null,
       "align_self": null,
       "border": null,
       "bottom": null,
       "display": null,
       "flex": null,
       "flex_flow": null,
       "grid_area": null,
       "grid_auto_columns": null,
       "grid_auto_flow": null,
       "grid_auto_rows": null,
       "grid_column": null,
       "grid_gap": null,
       "grid_row": null,
       "grid_template_areas": null,
       "grid_template_columns": null,
       "grid_template_rows": null,
       "height": null,
       "justify_content": null,
       "justify_items": null,
       "left": null,
       "margin": null,
       "max_height": null,
       "max_width": null,
       "min_height": null,
       "min_width": null,
       "object_fit": null,
       "object_position": null,
       "order": null,
       "overflow": null,
       "overflow_x": null,
       "overflow_y": null,
       "padding": null,
       "right": null,
       "top": null,
       "visibility": null,
       "width": null
      }
     },
     "2d15e643da0741bc92b855ac672ed9d7": {
      "model_module": "@jupyter-widgets/controls",
      "model_module_version": "1.5.0",
      "model_name": "DescriptionStyleModel",
      "state": {
       "_model_module": "@jupyter-widgets/controls",
       "_model_module_version": "1.5.0",
       "_model_name": "DescriptionStyleModel",
       "_view_count": null,
       "_view_module": "@jupyter-widgets/base",
       "_view_module_version": "1.2.0",
       "_view_name": "StyleView",
       "description_width": ""
      }
     },
     "2f8b076d5f9c44108139a2463605d3e3": {
      "model_module": "@jupyter-widgets/controls",
      "model_module_version": "1.5.0",
      "model_name": "HBoxModel",
      "state": {
       "_dom_classes": [],
       "_model_module": "@jupyter-widgets/controls",
       "_model_module_version": "1.5.0",
       "_model_name": "HBoxModel",
       "_view_count": null,
       "_view_module": "@jupyter-widgets/controls",
       "_view_module_version": "1.5.0",
       "_view_name": "HBoxView",
       "box_style": "",
       "children": [
        "IPY_MODEL_2105df1a2f844a658185ae8b969d95b3",
        "IPY_MODEL_0b14e7507d2d40e596386ea7bfdb374a",
        "IPY_MODEL_193422c9d0d94b16a603b08cdea083bc"
       ],
       "layout": "IPY_MODEL_157e6203c53045139f60b365a3f7e986"
      }
     },
     "36a7713833cf4becaa864f6e3a4c4f05": {
      "model_module": "@jupyter-widgets/base",
      "model_module_version": "1.2.0",
      "model_name": "LayoutModel",
      "state": {
       "_model_module": "@jupyter-widgets/base",
       "_model_module_version": "1.2.0",
       "_model_name": "LayoutModel",
       "_view_count": null,
       "_view_module": "@jupyter-widgets/base",
       "_view_module_version": "1.2.0",
       "_view_name": "LayoutView",
       "align_content": null,
       "align_items": null,
       "align_self": null,
       "border": null,
       "bottom": null,
       "display": null,
       "flex": null,
       "flex_flow": null,
       "grid_area": null,
       "grid_auto_columns": null,
       "grid_auto_flow": null,
       "grid_auto_rows": null,
       "grid_column": null,
       "grid_gap": null,
       "grid_row": null,
       "grid_template_areas": null,
       "grid_template_columns": null,
       "grid_template_rows": null,
       "height": null,
       "justify_content": null,
       "justify_items": null,
       "left": null,
       "margin": null,
       "max_height": null,
       "max_width": null,
       "min_height": null,
       "min_width": null,
       "object_fit": null,
       "object_position": null,
       "order": null,
       "overflow": null,
       "overflow_x": null,
       "overflow_y": null,
       "padding": null,
       "right": null,
       "top": null,
       "visibility": null,
       "width": null
      }
     },
     "36d3ef8d011846569f6d2b19d8a81837": {
      "model_module": "@jupyter-widgets/controls",
      "model_module_version": "1.5.0",
      "model_name": "FloatProgressModel",
      "state": {
       "_dom_classes": [],
       "_model_module": "@jupyter-widgets/controls",
       "_model_module_version": "1.5.0",
       "_model_name": "FloatProgressModel",
       "_view_count": null,
       "_view_module": "@jupyter-widgets/controls",
       "_view_module_version": "1.5.0",
       "_view_name": "ProgressView",
       "bar_style": "success",
       "description": "",
       "description_tooltip": null,
       "layout": "IPY_MODEL_2b9940cf7c4345b9bae5e1fba39ca7cf",
       "max": 231508,
       "min": 0,
       "orientation": "horizontal",
       "style": "IPY_MODEL_06759fb80ebe41da86f461e613798386",
       "value": 231508
      }
     },
     "3f9fa3432e194454b4bacc670dcb8406": {
      "model_module": "@jupyter-widgets/controls",
      "model_module_version": "1.5.0",
      "model_name": "HTMLModel",
      "state": {
       "_dom_classes": [],
       "_model_module": "@jupyter-widgets/controls",
       "_model_module_version": "1.5.0",
       "_model_name": "HTMLModel",
       "_view_count": null,
       "_view_module": "@jupyter-widgets/controls",
       "_view_module_version": "1.5.0",
       "_view_name": "HTMLView",
       "description": "",
       "description_tooltip": null,
       "layout": "IPY_MODEL_4f8fe08036654238b9612f785f0c278b",
       "placeholder": "​",
       "style": "IPY_MODEL_50169650faf244d7b3017357476ef6ed",
       "value": "special_tokens_map.json: 100%"
      }
     },
     "47934d0255a343b69c8fa731a5f05071": {
      "model_module": "@jupyter-widgets/controls",
      "model_module_version": "1.5.0",
      "model_name": "FloatProgressModel",
      "state": {
       "_dom_classes": [],
       "_model_module": "@jupyter-widgets/controls",
       "_model_module_version": "1.5.0",
       "_model_name": "FloatProgressModel",
       "_view_count": null,
       "_view_module": "@jupyter-widgets/controls",
       "_view_module_version": "1.5.0",
       "_view_name": "ProgressView",
       "bar_style": "success",
       "description": "",
       "description_tooltip": null,
       "layout": "IPY_MODEL_8d42ecd429424145bbac69853bb33cef",
       "max": 1284,
       "min": 0,
       "orientation": "horizontal",
       "style": "IPY_MODEL_4a5a25b208b145d28c2b5da40c4a8e6e",
       "value": 1284
      }
     },
     "4a5a25b208b145d28c2b5da40c4a8e6e": {
      "model_module": "@jupyter-widgets/controls",
      "model_module_version": "1.5.0",
      "model_name": "ProgressStyleModel",
      "state": {
       "_model_module": "@jupyter-widgets/controls",
       "_model_module_version": "1.5.0",
       "_model_name": "ProgressStyleModel",
       "_view_count": null,
       "_view_module": "@jupyter-widgets/base",
       "_view_module_version": "1.2.0",
       "_view_name": "StyleView",
       "bar_color": null,
       "description_width": ""
      }
     },
     "4a81bc7215c747879a873905512b5fa1": {
      "model_module": "@jupyter-widgets/base",
      "model_module_version": "1.2.0",
      "model_name": "LayoutModel",
      "state": {
       "_model_module": "@jupyter-widgets/base",
       "_model_module_version": "1.2.0",
       "_model_name": "LayoutModel",
       "_view_count": null,
       "_view_module": "@jupyter-widgets/base",
       "_view_module_version": "1.2.0",
       "_view_name": "LayoutView",
       "align_content": null,
       "align_items": null,
       "align_self": null,
       "border": null,
       "bottom": null,
       "display": null,
       "flex": null,
       "flex_flow": null,
       "grid_area": null,
       "grid_auto_columns": null,
       "grid_auto_flow": null,
       "grid_auto_rows": null,
       "grid_column": null,
       "grid_gap": null,
       "grid_row": null,
       "grid_template_areas": null,
       "grid_template_columns": null,
       "grid_template_rows": null,
       "height": null,
       "justify_content": null,
       "justify_items": null,
       "left": null,
       "margin": null,
       "max_height": null,
       "max_width": null,
       "min_height": null,
       "min_width": null,
       "object_fit": null,
       "object_position": null,
       "order": null,
       "overflow": null,
       "overflow_x": null,
       "overflow_y": null,
       "padding": null,
       "right": null,
       "top": null,
       "visibility": null,
       "width": null
      }
     },
     "4a83eed894744050a3635bf4862184b1": {
      "model_module": "@jupyter-widgets/base",
      "model_module_version": "1.2.0",
      "model_name": "LayoutModel",
      "state": {
       "_model_module": "@jupyter-widgets/base",
       "_model_module_version": "1.2.0",
       "_model_name": "LayoutModel",
       "_view_count": null,
       "_view_module": "@jupyter-widgets/base",
       "_view_module_version": "1.2.0",
       "_view_name": "LayoutView",
       "align_content": null,
       "align_items": null,
       "align_self": null,
       "border": null,
       "bottom": null,
       "display": null,
       "flex": null,
       "flex_flow": null,
       "grid_area": null,
       "grid_auto_columns": null,
       "grid_auto_flow": null,
       "grid_auto_rows": null,
       "grid_column": null,
       "grid_gap": null,
       "grid_row": null,
       "grid_template_areas": null,
       "grid_template_columns": null,
       "grid_template_rows": null,
       "height": null,
       "justify_content": null,
       "justify_items": null,
       "left": null,
       "margin": null,
       "max_height": null,
       "max_width": null,
       "min_height": null,
       "min_width": null,
       "object_fit": null,
       "object_position": null,
       "order": null,
       "overflow": null,
       "overflow_x": null,
       "overflow_y": null,
       "padding": null,
       "right": null,
       "top": null,
       "visibility": null,
       "width": null
      }
     },
     "4f8fe08036654238b9612f785f0c278b": {
      "model_module": "@jupyter-widgets/base",
      "model_module_version": "1.2.0",
      "model_name": "LayoutModel",
      "state": {
       "_model_module": "@jupyter-widgets/base",
       "_model_module_version": "1.2.0",
       "_model_name": "LayoutModel",
       "_view_count": null,
       "_view_module": "@jupyter-widgets/base",
       "_view_module_version": "1.2.0",
       "_view_name": "LayoutView",
       "align_content": null,
       "align_items": null,
       "align_self": null,
       "border": null,
       "bottom": null,
       "display": null,
       "flex": null,
       "flex_flow": null,
       "grid_area": null,
       "grid_auto_columns": null,
       "grid_auto_flow": null,
       "grid_auto_rows": null,
       "grid_column": null,
       "grid_gap": null,
       "grid_row": null,
       "grid_template_areas": null,
       "grid_template_columns": null,
       "grid_template_rows": null,
       "height": null,
       "justify_content": null,
       "justify_items": null,
       "left": null,
       "margin": null,
       "max_height": null,
       "max_width": null,
       "min_height": null,
       "min_width": null,
       "object_fit": null,
       "object_position": null,
       "order": null,
       "overflow": null,
       "overflow_x": null,
       "overflow_y": null,
       "padding": null,
       "right": null,
       "top": null,
       "visibility": null,
       "width": null
      }
     },
     "50169650faf244d7b3017357476ef6ed": {
      "model_module": "@jupyter-widgets/controls",
      "model_module_version": "1.5.0",
      "model_name": "DescriptionStyleModel",
      "state": {
       "_model_module": "@jupyter-widgets/controls",
       "_model_module_version": "1.5.0",
       "_model_name": "DescriptionStyleModel",
       "_view_count": null,
       "_view_module": "@jupyter-widgets/base",
       "_view_module_version": "1.2.0",
       "_view_name": "StyleView",
       "description_width": ""
      }
     },
     "54d55aa40e154fbeabaee4696359ad44": {
      "model_module": "@jupyter-widgets/base",
      "model_module_version": "1.2.0",
      "model_name": "LayoutModel",
      "state": {
       "_model_module": "@jupyter-widgets/base",
       "_model_module_version": "1.2.0",
       "_model_name": "LayoutModel",
       "_view_count": null,
       "_view_module": "@jupyter-widgets/base",
       "_view_module_version": "1.2.0",
       "_view_name": "LayoutView",
       "align_content": null,
       "align_items": null,
       "align_self": null,
       "border": null,
       "bottom": null,
       "display": null,
       "flex": null,
       "flex_flow": null,
       "grid_area": null,
       "grid_auto_columns": null,
       "grid_auto_flow": null,
       "grid_auto_rows": null,
       "grid_column": null,
       "grid_gap": null,
       "grid_row": null,
       "grid_template_areas": null,
       "grid_template_columns": null,
       "grid_template_rows": null,
       "height": null,
       "justify_content": null,
       "justify_items": null,
       "left": null,
       "margin": null,
       "max_height": null,
       "max_width": null,
       "min_height": null,
       "min_width": null,
       "object_fit": null,
       "object_position": null,
       "order": null,
       "overflow": null,
       "overflow_x": null,
       "overflow_y": null,
       "padding": null,
       "right": null,
       "top": null,
       "visibility": null,
       "width": null
      }
     },
     "58b2599be0d94d648198f0dac3c046e0": {
      "model_module": "@jupyter-widgets/controls",
      "model_module_version": "1.5.0",
      "model_name": "HTMLModel",
      "state": {
       "_dom_classes": [],
       "_model_module": "@jupyter-widgets/controls",
       "_model_module_version": "1.5.0",
       "_model_name": "HTMLModel",
       "_view_count": null,
       "_view_module": "@jupyter-widgets/controls",
       "_view_module_version": "1.5.0",
       "_view_name": "HTMLView",
       "description": "",
       "description_tooltip": null,
       "layout": "IPY_MODEL_ea45afb5d82e442b90931e82bb245bf1",
       "placeholder": "​",
       "style": "IPY_MODEL_2d15e643da0741bc92b855ac672ed9d7",
       "value": " 125/125 [00:00&lt;00:00, 12.3kB/s]"
      }
     },
     "5f2ea3a627bf49cb81ee8d83ef33fa0c": {
      "model_module": "@jupyter-widgets/controls",
      "model_module_version": "1.5.0",
      "model_name": "HTMLModel",
      "state": {
       "_dom_classes": [],
       "_model_module": "@jupyter-widgets/controls",
       "_model_module_version": "1.5.0",
       "_model_name": "HTMLModel",
       "_view_count": null,
       "_view_module": "@jupyter-widgets/controls",
       "_view_module_version": "1.5.0",
       "_view_name": "HTMLView",
       "description": "",
       "description_tooltip": null,
       "layout": "IPY_MODEL_1f15803c9c7f4ff0b1125b1f8a373276",
       "placeholder": "​",
       "style": "IPY_MODEL_925d2725c1f64eebbfcd0a56e067cf7b",
       "value": " 232k/232k [00:00&lt;00:00, 1.39MB/s]"
      }
     },
     "5f6713d41c614bc2b62d58e9e8f69481": {
      "model_module": "@jupyter-widgets/controls",
      "model_module_version": "1.5.0",
      "model_name": "HTMLModel",
      "state": {
       "_dom_classes": [],
       "_model_module": "@jupyter-widgets/controls",
       "_model_module_version": "1.5.0",
       "_model_name": "HTMLModel",
       "_view_count": null,
       "_view_module": "@jupyter-widgets/controls",
       "_view_module_version": "1.5.0",
       "_view_name": "HTMLView",
       "description": "",
       "description_tooltip": null,
       "layout": "IPY_MODEL_4a81bc7215c747879a873905512b5fa1",
       "placeholder": "​",
       "style": "IPY_MODEL_f304c8b0733745acb04b020b0ffbed91",
       "value": "pytorch_model.bin: 100%"
      }
     },
     "632eb35e21bf42a08fdc6491dc777888": {
      "model_module": "@jupyter-widgets/base",
      "model_module_version": "1.2.0",
      "model_name": "LayoutModel",
      "state": {
       "_model_module": "@jupyter-widgets/base",
       "_model_module_version": "1.2.0",
       "_model_name": "LayoutModel",
       "_view_count": null,
       "_view_module": "@jupyter-widgets/base",
       "_view_module_version": "1.2.0",
       "_view_name": "LayoutView",
       "align_content": null,
       "align_items": null,
       "align_self": null,
       "border": null,
       "bottom": null,
       "display": null,
       "flex": null,
       "flex_flow": null,
       "grid_area": null,
       "grid_auto_columns": null,
       "grid_auto_flow": null,
       "grid_auto_rows": null,
       "grid_column": null,
       "grid_gap": null,
       "grid_row": null,
       "grid_template_areas": null,
       "grid_template_columns": null,
       "grid_template_rows": null,
       "height": null,
       "justify_content": null,
       "justify_items": null,
       "left": null,
       "margin": null,
       "max_height": null,
       "max_width": null,
       "min_height": null,
       "min_width": null,
       "object_fit": null,
       "object_position": null,
       "order": null,
       "overflow": null,
       "overflow_x": null,
       "overflow_y": null,
       "padding": null,
       "right": null,
       "top": null,
       "visibility": null,
       "width": null
      }
     },
     "696d6e421ad941a9a7422c212f8c6baf": {
      "model_module": "@jupyter-widgets/base",
      "model_module_version": "1.2.0",
      "model_name": "LayoutModel",
      "state": {
       "_model_module": "@jupyter-widgets/base",
       "_model_module_version": "1.2.0",
       "_model_name": "LayoutModel",
       "_view_count": null,
       "_view_module": "@jupyter-widgets/base",
       "_view_module_version": "1.2.0",
       "_view_name": "LayoutView",
       "align_content": null,
       "align_items": null,
       "align_self": null,
       "border": null,
       "bottom": null,
       "display": null,
       "flex": null,
       "flex_flow": null,
       "grid_area": null,
       "grid_auto_columns": null,
       "grid_auto_flow": null,
       "grid_auto_rows": null,
       "grid_column": null,
       "grid_gap": null,
       "grid_row": null,
       "grid_template_areas": null,
       "grid_template_columns": null,
       "grid_template_rows": null,
       "height": null,
       "justify_content": null,
       "justify_items": null,
       "left": null,
       "margin": null,
       "max_height": null,
       "max_width": null,
       "min_height": null,
       "min_width": null,
       "object_fit": null,
       "object_position": null,
       "order": null,
       "overflow": null,
       "overflow_x": null,
       "overflow_y": null,
       "padding": null,
       "right": null,
       "top": null,
       "visibility": null,
       "width": null
      }
     },
     "6d0f243a4101498e9c225aa2cf2515ef": {
      "model_module": "@jupyter-widgets/controls",
      "model_module_version": "1.5.0",
      "model_name": "ProgressStyleModel",
      "state": {
       "_model_module": "@jupyter-widgets/controls",
       "_model_module_version": "1.5.0",
       "_model_name": "ProgressStyleModel",
       "_view_count": null,
       "_view_module": "@jupyter-widgets/base",
       "_view_module_version": "1.2.0",
       "_view_name": "StyleView",
       "bar_color": null,
       "description_width": ""
      }
     },
     "81b46ba7d0a74f17b9eb154c500ad284": {
      "model_module": "@jupyter-widgets/controls",
      "model_module_version": "1.5.0",
      "model_name": "HTMLModel",
      "state": {
       "_dom_classes": [],
       "_model_module": "@jupyter-widgets/controls",
       "_model_module_version": "1.5.0",
       "_model_name": "HTMLModel",
       "_view_count": null,
       "_view_module": "@jupyter-widgets/controls",
       "_view_module_version": "1.5.0",
       "_view_name": "HTMLView",
       "description": "",
       "description_tooltip": null,
       "layout": "IPY_MODEL_696d6e421ad941a9a7422c212f8c6baf",
       "placeholder": "​",
       "style": "IPY_MODEL_d8d227a4fec84c8295b48bdfa1b6e129",
       "value": " 1.28k/1.28k [00:00&lt;00:00, 86.9kB/s]"
      }
     },
     "824f248b7bea4ee0ad2aa9328b64add0": {
      "model_module": "@jupyter-widgets/controls",
      "model_module_version": "1.5.0",
      "model_name": "DescriptionStyleModel",
      "state": {
       "_model_module": "@jupyter-widgets/controls",
       "_model_module_version": "1.5.0",
       "_model_name": "DescriptionStyleModel",
       "_view_count": null,
       "_view_module": "@jupyter-widgets/base",
       "_view_module_version": "1.2.0",
       "_view_name": "StyleView",
       "description_width": ""
      }
     },
     "82c2e9a51480458b8830488580c94641": {
      "model_module": "@jupyter-widgets/controls",
      "model_module_version": "1.5.0",
      "model_name": "HBoxModel",
      "state": {
       "_dom_classes": [],
       "_model_module": "@jupyter-widgets/controls",
       "_model_module_version": "1.5.0",
       "_model_name": "HBoxModel",
       "_view_count": null,
       "_view_module": "@jupyter-widgets/controls",
       "_view_module_version": "1.5.0",
       "_view_name": "HBoxView",
       "box_style": "",
       "children": [
        "IPY_MODEL_5f6713d41c614bc2b62d58e9e8f69481",
        "IPY_MODEL_ab947ffa765a4d5f8e38805fa0d0e38f",
        "IPY_MODEL_ae6d736fb3714183b4d7821083f20da6"
       ],
       "layout": "IPY_MODEL_c7161ab9a7b7448c8dd466d5dec8c58e"
      }
     },
     "8a805da973d248178565284d411b5417": {
      "model_module": "@jupyter-widgets/base",
      "model_module_version": "1.2.0",
      "model_name": "LayoutModel",
      "state": {
       "_model_module": "@jupyter-widgets/base",
       "_model_module_version": "1.2.0",
       "_model_name": "LayoutModel",
       "_view_count": null,
       "_view_module": "@jupyter-widgets/base",
       "_view_module_version": "1.2.0",
       "_view_name": "LayoutView",
       "align_content": null,
       "align_items": null,
       "align_self": null,
       "border": null,
       "bottom": null,
       "display": null,
       "flex": null,
       "flex_flow": null,
       "grid_area": null,
       "grid_auto_columns": null,
       "grid_auto_flow": null,
       "grid_auto_rows": null,
       "grid_column": null,
       "grid_gap": null,
       "grid_row": null,
       "grid_template_areas": null,
       "grid_template_columns": null,
       "grid_template_rows": null,
       "height": null,
       "justify_content": null,
       "justify_items": null,
       "left": null,
       "margin": null,
       "max_height": null,
       "max_width": null,
       "min_height": null,
       "min_width": null,
       "object_fit": null,
       "object_position": null,
       "order": null,
       "overflow": null,
       "overflow_x": null,
       "overflow_y": null,
       "padding": null,
       "right": null,
       "top": null,
       "visibility": null,
       "width": null
      }
     },
     "8cc89b3f486f496bad73ef9bb256f83f": {
      "model_module": "@jupyter-widgets/base",
      "model_module_version": "1.2.0",
      "model_name": "LayoutModel",
      "state": {
       "_model_module": "@jupyter-widgets/base",
       "_model_module_version": "1.2.0",
       "_model_name": "LayoutModel",
       "_view_count": null,
       "_view_module": "@jupyter-widgets/base",
       "_view_module_version": "1.2.0",
       "_view_name": "LayoutView",
       "align_content": null,
       "align_items": null,
       "align_self": null,
       "border": null,
       "bottom": null,
       "display": null,
       "flex": null,
       "flex_flow": null,
       "grid_area": null,
       "grid_auto_columns": null,
       "grid_auto_flow": null,
       "grid_auto_rows": null,
       "grid_column": null,
       "grid_gap": null,
       "grid_row": null,
       "grid_template_areas": null,
       "grid_template_columns": null,
       "grid_template_rows": null,
       "height": null,
       "justify_content": null,
       "justify_items": null,
       "left": null,
       "margin": null,
       "max_height": null,
       "max_width": null,
       "min_height": null,
       "min_width": null,
       "object_fit": null,
       "object_position": null,
       "order": null,
       "overflow": null,
       "overflow_x": null,
       "overflow_y": null,
       "padding": null,
       "right": null,
       "top": null,
       "visibility": null,
       "width": null
      }
     },
     "8d42ecd429424145bbac69853bb33cef": {
      "model_module": "@jupyter-widgets/base",
      "model_module_version": "1.2.0",
      "model_name": "LayoutModel",
      "state": {
       "_model_module": "@jupyter-widgets/base",
       "_model_module_version": "1.2.0",
       "_model_name": "LayoutModel",
       "_view_count": null,
       "_view_module": "@jupyter-widgets/base",
       "_view_module_version": "1.2.0",
       "_view_name": "LayoutView",
       "align_content": null,
       "align_items": null,
       "align_self": null,
       "border": null,
       "bottom": null,
       "display": null,
       "flex": null,
       "flex_flow": null,
       "grid_area": null,
       "grid_auto_columns": null,
       "grid_auto_flow": null,
       "grid_auto_rows": null,
       "grid_column": null,
       "grid_gap": null,
       "grid_row": null,
       "grid_template_areas": null,
       "grid_template_columns": null,
       "grid_template_rows": null,
       "height": null,
       "justify_content": null,
       "justify_items": null,
       "left": null,
       "margin": null,
       "max_height": null,
       "max_width": null,
       "min_height": null,
       "min_width": null,
       "object_fit": null,
       "object_position": null,
       "order": null,
       "overflow": null,
       "overflow_x": null,
       "overflow_y": null,
       "padding": null,
       "right": null,
       "top": null,
       "visibility": null,
       "width": null
      }
     },
     "908b62a0436349c691ab2c66c8a6a19e": {
      "model_module": "@jupyter-widgets/controls",
      "model_module_version": "1.5.0",
      "model_name": "DescriptionStyleModel",
      "state": {
       "_model_module": "@jupyter-widgets/controls",
       "_model_module_version": "1.5.0",
       "_model_name": "DescriptionStyleModel",
       "_view_count": null,
       "_view_module": "@jupyter-widgets/base",
       "_view_module_version": "1.2.0",
       "_view_name": "StyleView",
       "description_width": ""
      }
     },
     "925d2725c1f64eebbfcd0a56e067cf7b": {
      "model_module": "@jupyter-widgets/controls",
      "model_module_version": "1.5.0",
      "model_name": "DescriptionStyleModel",
      "state": {
       "_model_module": "@jupyter-widgets/controls",
       "_model_module_version": "1.5.0",
       "_model_name": "DescriptionStyleModel",
       "_view_count": null,
       "_view_module": "@jupyter-widgets/base",
       "_view_module_version": "1.2.0",
       "_view_name": "StyleView",
       "description_width": ""
      }
     },
     "a29e89765055433281f0414ae723ac59": {
      "model_module": "@jupyter-widgets/controls",
      "model_module_version": "1.5.0",
      "model_name": "FloatProgressModel",
      "state": {
       "_dom_classes": [],
       "_model_module": "@jupyter-widgets/controls",
       "_model_module_version": "1.5.0",
       "_model_name": "FloatProgressModel",
       "_view_count": null,
       "_view_module": "@jupyter-widgets/controls",
       "_view_module_version": "1.5.0",
       "_view_name": "ProgressView",
       "bar_style": "success",
       "description": "",
       "description_tooltip": null,
       "layout": "IPY_MODEL_f23c5150832f4be0969238f1e5a50dad",
       "max": 125,
       "min": 0,
       "orientation": "horizontal",
       "style": "IPY_MODEL_6d0f243a4101498e9c225aa2cf2515ef",
       "value": 125
      }
     },
     "ab263bbfadd64b6193dd47d53467d228": {
      "model_module": "@jupyter-widgets/controls",
      "model_module_version": "1.5.0",
      "model_name": "ProgressStyleModel",
      "state": {
       "_model_module": "@jupyter-widgets/controls",
       "_model_module_version": "1.5.0",
       "_model_name": "ProgressStyleModel",
       "_view_count": null,
       "_view_module": "@jupyter-widgets/base",
       "_view_module_version": "1.2.0",
       "_view_name": "StyleView",
       "bar_color": null,
       "description_width": ""
      }
     },
     "ab947ffa765a4d5f8e38805fa0d0e38f": {
      "model_module": "@jupyter-widgets/controls",
      "model_module_version": "1.5.0",
      "model_name": "FloatProgressModel",
      "state": {
       "_dom_classes": [],
       "_model_module": "@jupyter-widgets/controls",
       "_model_module_version": "1.5.0",
       "_model_name": "FloatProgressModel",
       "_view_count": null,
       "_view_module": "@jupyter-widgets/controls",
       "_view_module_version": "1.5.0",
       "_view_name": "ProgressView",
       "bar_style": "success",
       "description": "",
       "description_tooltip": null,
       "layout": "IPY_MODEL_8cc89b3f486f496bad73ef9bb256f83f",
       "max": 333429493,
       "min": 0,
       "orientation": "horizontal",
       "style": "IPY_MODEL_ab263bbfadd64b6193dd47d53467d228",
       "value": 333429493
      }
     },
     "ae6d736fb3714183b4d7821083f20da6": {
      "model_module": "@jupyter-widgets/controls",
      "model_module_version": "1.5.0",
      "model_name": "HTMLModel",
      "state": {
       "_dom_classes": [],
       "_model_module": "@jupyter-widgets/controls",
       "_model_module_version": "1.5.0",
       "_model_name": "HTMLModel",
       "_view_count": null,
       "_view_module": "@jupyter-widgets/controls",
       "_view_module_version": "1.5.0",
       "_view_name": "HTMLView",
       "description": "",
       "description_tooltip": null,
       "layout": "IPY_MODEL_4a83eed894744050a3635bf4862184b1",
       "placeholder": "​",
       "style": "IPY_MODEL_908b62a0436349c691ab2c66c8a6a19e",
       "value": " 333M/333M [00:01&lt;00:00, 333MB/s]"
      }
     },
     "ba24bab812d8404c8729ff05a775e833": {
      "model_module": "@jupyter-widgets/controls",
      "model_module_version": "1.5.0",
      "model_name": "DescriptionStyleModel",
      "state": {
       "_model_module": "@jupyter-widgets/controls",
       "_model_module_version": "1.5.0",
       "_model_name": "DescriptionStyleModel",
       "_view_count": null,
       "_view_module": "@jupyter-widgets/base",
       "_view_module_version": "1.2.0",
       "_view_name": "StyleView",
       "description_width": ""
      }
     },
     "bdca1a65b31d456c9eb4fe82c34b1054": {
      "model_module": "@jupyter-widgets/controls",
      "model_module_version": "1.5.0",
      "model_name": "HTMLModel",
      "state": {
       "_dom_classes": [],
       "_model_module": "@jupyter-widgets/controls",
       "_model_module_version": "1.5.0",
       "_model_name": "HTMLModel",
       "_view_count": null,
       "_view_module": "@jupyter-widgets/controls",
       "_view_module_version": "1.5.0",
       "_view_name": "HTMLView",
       "description": "",
       "description_tooltip": null,
       "layout": "IPY_MODEL_2216b879ebbc45cfbe2c5db772492cc0",
       "placeholder": "​",
       "style": "IPY_MODEL_ba24bab812d8404c8729ff05a775e833",
       "value": "tokenizer_config.json: 100%"
      }
     },
     "c7161ab9a7b7448c8dd466d5dec8c58e": {
      "model_module": "@jupyter-widgets/base",
      "model_module_version": "1.2.0",
      "model_name": "LayoutModel",
      "state": {
       "_model_module": "@jupyter-widgets/base",
       "_model_module_version": "1.2.0",
       "_model_name": "LayoutModel",
       "_view_count": null,
       "_view_module": "@jupyter-widgets/base",
       "_view_module_version": "1.2.0",
       "_view_name": "LayoutView",
       "align_content": null,
       "align_items": null,
       "align_self": null,
       "border": null,
       "bottom": null,
       "display": null,
       "flex": null,
       "flex_flow": null,
       "grid_area": null,
       "grid_auto_columns": null,
       "grid_auto_flow": null,
       "grid_auto_rows": null,
       "grid_column": null,
       "grid_gap": null,
       "grid_row": null,
       "grid_template_areas": null,
       "grid_template_columns": null,
       "grid_template_rows": null,
       "height": null,
       "justify_content": null,
       "justify_items": null,
       "left": null,
       "margin": null,
       "max_height": null,
       "max_width": null,
       "min_height": null,
       "min_width": null,
       "object_fit": null,
       "object_position": null,
       "order": null,
       "overflow": null,
       "overflow_x": null,
       "overflow_y": null,
       "padding": null,
       "right": null,
       "top": null,
       "visibility": null,
       "width": null
      }
     },
     "c9591aa74a964b1089c446eea3ae44b3": {
      "model_module": "@jupyter-widgets/controls",
      "model_module_version": "1.5.0",
      "model_name": "DescriptionStyleModel",
      "state": {
       "_model_module": "@jupyter-widgets/controls",
       "_model_module_version": "1.5.0",
       "_model_name": "DescriptionStyleModel",
       "_view_count": null,
       "_view_module": "@jupyter-widgets/base",
       "_view_module_version": "1.2.0",
       "_view_name": "StyleView",
       "description_width": ""
      }
     },
     "cafc12991c714ab7a52ae37a3bcaf272": {
      "model_module": "@jupyter-widgets/controls",
      "model_module_version": "1.5.0",
      "model_name": "HBoxModel",
      "state": {
       "_dom_classes": [],
       "_model_module": "@jupyter-widgets/controls",
       "_model_module_version": "1.5.0",
       "_model_name": "HBoxModel",
       "_view_count": null,
       "_view_module": "@jupyter-widgets/controls",
       "_view_module_version": "1.5.0",
       "_view_name": "HBoxView",
       "box_style": "",
       "children": [
        "IPY_MODEL_e78d5b5ef10c405f9ed4d4fa127a5e29",
        "IPY_MODEL_36d3ef8d011846569f6d2b19d8a81837",
        "IPY_MODEL_5f2ea3a627bf49cb81ee8d83ef33fa0c"
       ],
       "layout": "IPY_MODEL_632eb35e21bf42a08fdc6491dc777888"
      }
     },
     "d5922c1acc284cbaa7440965a8887107": {
      "model_module": "@jupyter-widgets/base",
      "model_module_version": "1.2.0",
      "model_name": "LayoutModel",
      "state": {
       "_model_module": "@jupyter-widgets/base",
       "_model_module_version": "1.2.0",
       "_model_name": "LayoutModel",
       "_view_count": null,
       "_view_module": "@jupyter-widgets/base",
       "_view_module_version": "1.2.0",
       "_view_name": "LayoutView",
       "align_content": null,
       "align_items": null,
       "align_self": null,
       "border": null,
       "bottom": null,
       "display": null,
       "flex": null,
       "flex_flow": null,
       "grid_area": null,
       "grid_auto_columns": null,
       "grid_auto_flow": null,
       "grid_auto_rows": null,
       "grid_column": null,
       "grid_gap": null,
       "grid_row": null,
       "grid_template_areas": null,
       "grid_template_columns": null,
       "grid_template_rows": null,
       "height": null,
       "justify_content": null,
       "justify_items": null,
       "left": null,
       "margin": null,
       "max_height": null,
       "max_width": null,
       "min_height": null,
       "min_width": null,
       "object_fit": null,
       "object_position": null,
       "order": null,
       "overflow": null,
       "overflow_x": null,
       "overflow_y": null,
       "padding": null,
       "right": null,
       "top": null,
       "visibility": null,
       "width": null
      }
     },
     "d8d227a4fec84c8295b48bdfa1b6e129": {
      "model_module": "@jupyter-widgets/controls",
      "model_module_version": "1.5.0",
      "model_name": "DescriptionStyleModel",
      "state": {
       "_model_module": "@jupyter-widgets/controls",
       "_model_module_version": "1.5.0",
       "_model_name": "DescriptionStyleModel",
       "_view_count": null,
       "_view_module": "@jupyter-widgets/base",
       "_view_module_version": "1.2.0",
       "_view_name": "StyleView",
       "description_width": ""
      }
     },
     "db9c3b673e0d4dabb3136ecb7db078f4": {
      "model_module": "@jupyter-widgets/controls",
      "model_module_version": "1.5.0",
      "model_name": "ProgressStyleModel",
      "state": {
       "_model_module": "@jupyter-widgets/controls",
       "_model_module_version": "1.5.0",
       "_model_name": "ProgressStyleModel",
       "_view_count": null,
       "_view_module": "@jupyter-widgets/base",
       "_view_module_version": "1.2.0",
       "_view_name": "StyleView",
       "bar_color": null,
       "description_width": ""
      }
     },
     "e78d5b5ef10c405f9ed4d4fa127a5e29": {
      "model_module": "@jupyter-widgets/controls",
      "model_module_version": "1.5.0",
      "model_name": "HTMLModel",
      "state": {
       "_dom_classes": [],
       "_model_module": "@jupyter-widgets/controls",
       "_model_module_version": "1.5.0",
       "_model_name": "HTMLModel",
       "_view_count": null,
       "_view_module": "@jupyter-widgets/controls",
       "_view_module_version": "1.5.0",
       "_view_name": "HTMLView",
       "description": "",
       "description_tooltip": null,
       "layout": "IPY_MODEL_36a7713833cf4becaa864f6e3a4c4f05",
       "placeholder": "​",
       "style": "IPY_MODEL_c9591aa74a964b1089c446eea3ae44b3",
       "value": "vocab.txt: 100%"
      }
     },
     "ea45afb5d82e442b90931e82bb245bf1": {
      "model_module": "@jupyter-widgets/base",
      "model_module_version": "1.2.0",
      "model_name": "LayoutModel",
      "state": {
       "_model_module": "@jupyter-widgets/base",
       "_model_module_version": "1.2.0",
       "_model_name": "LayoutModel",
       "_view_count": null,
       "_view_module": "@jupyter-widgets/base",
       "_view_module_version": "1.2.0",
       "_view_name": "LayoutView",
       "align_content": null,
       "align_items": null,
       "align_self": null,
       "border": null,
       "bottom": null,
       "display": null,
       "flex": null,
       "flex_flow": null,
       "grid_area": null,
       "grid_auto_columns": null,
       "grid_auto_flow": null,
       "grid_auto_rows": null,
       "grid_column": null,
       "grid_gap": null,
       "grid_row": null,
       "grid_template_areas": null,
       "grid_template_columns": null,
       "grid_template_rows": null,
       "height": null,
       "justify_content": null,
       "justify_items": null,
       "left": null,
       "margin": null,
       "max_height": null,
       "max_width": null,
       "min_height": null,
       "min_width": null,
       "object_fit": null,
       "object_position": null,
       "order": null,
       "overflow": null,
       "overflow_x": null,
       "overflow_y": null,
       "padding": null,
       "right": null,
       "top": null,
       "visibility": null,
       "width": null
      }
     },
     "f19edf37b7f94a9f879d2364d4b801f1": {
      "model_module": "@jupyter-widgets/base",
      "model_module_version": "1.2.0",
      "model_name": "LayoutModel",
      "state": {
       "_model_module": "@jupyter-widgets/base",
       "_model_module_version": "1.2.0",
       "_model_name": "LayoutModel",
       "_view_count": null,
       "_view_module": "@jupyter-widgets/base",
       "_view_module_version": "1.2.0",
       "_view_name": "LayoutView",
       "align_content": null,
       "align_items": null,
       "align_self": null,
       "border": null,
       "bottom": null,
       "display": null,
       "flex": null,
       "flex_flow": null,
       "grid_area": null,
       "grid_auto_columns": null,
       "grid_auto_flow": null,
       "grid_auto_rows": null,
       "grid_column": null,
       "grid_gap": null,
       "grid_row": null,
       "grid_template_areas": null,
       "grid_template_columns": null,
       "grid_template_rows": null,
       "height": null,
       "justify_content": null,
       "justify_items": null,
       "left": null,
       "margin": null,
       "max_height": null,
       "max_width": null,
       "min_height": null,
       "min_width": null,
       "object_fit": null,
       "object_position": null,
       "order": null,
       "overflow": null,
       "overflow_x": null,
       "overflow_y": null,
       "padding": null,
       "right": null,
       "top": null,
       "visibility": null,
       "width": null
      }
     },
     "f23c5150832f4be0969238f1e5a50dad": {
      "model_module": "@jupyter-widgets/base",
      "model_module_version": "1.2.0",
      "model_name": "LayoutModel",
      "state": {
       "_model_module": "@jupyter-widgets/base",
       "_model_module_version": "1.2.0",
       "_model_name": "LayoutModel",
       "_view_count": null,
       "_view_module": "@jupyter-widgets/base",
       "_view_module_version": "1.2.0",
       "_view_name": "LayoutView",
       "align_content": null,
       "align_items": null,
       "align_self": null,
       "border": null,
       "bottom": null,
       "display": null,
       "flex": null,
       "flex_flow": null,
       "grid_area": null,
       "grid_auto_columns": null,
       "grid_auto_flow": null,
       "grid_auto_rows": null,
       "grid_column": null,
       "grid_gap": null,
       "grid_row": null,
       "grid_template_areas": null,
       "grid_template_columns": null,
       "grid_template_rows": null,
       "height": null,
       "justify_content": null,
       "justify_items": null,
       "left": null,
       "margin": null,
       "max_height": null,
       "max_width": null,
       "min_height": null,
       "min_width": null,
       "object_fit": null,
       "object_position": null,
       "order": null,
       "overflow": null,
       "overflow_x": null,
       "overflow_y": null,
       "padding": null,
       "right": null,
       "top": null,
       "visibility": null,
       "width": null
      }
     },
     "f304c8b0733745acb04b020b0ffbed91": {
      "model_module": "@jupyter-widgets/controls",
      "model_module_version": "1.5.0",
      "model_name": "DescriptionStyleModel",
      "state": {
       "_model_module": "@jupyter-widgets/controls",
       "_model_module_version": "1.5.0",
       "_model_name": "DescriptionStyleModel",
       "_view_count": null,
       "_view_module": "@jupyter-widgets/base",
       "_view_module_version": "1.2.0",
       "_view_name": "StyleView",
       "description_width": ""
      }
     },
     "fc842bc5ce6b43a0bb2a0f964c5a5cea": {
      "model_module": "@jupyter-widgets/controls",
      "model_module_version": "1.5.0",
      "model_name": "HBoxModel",
      "state": {
       "_dom_classes": [],
       "_model_module": "@jupyter-widgets/controls",
       "_model_module_version": "1.5.0",
       "_model_name": "HBoxModel",
       "_view_count": null,
       "_view_module": "@jupyter-widgets/controls",
       "_view_module_version": "1.5.0",
       "_view_name": "HBoxView",
       "box_style": "",
       "children": [
        "IPY_MODEL_bdca1a65b31d456c9eb4fe82c34b1054",
        "IPY_MODEL_47934d0255a343b69c8fa731a5f05071",
        "IPY_MODEL_81b46ba7d0a74f17b9eb154c500ad284"
       ],
       "layout": "IPY_MODEL_54d55aa40e154fbeabaee4696359ad44"
      }
     }
    },
    "version_major": 2,
    "version_minor": 0
   }
  }
 },
 "nbformat": 4,
 "nbformat_minor": 5
}
