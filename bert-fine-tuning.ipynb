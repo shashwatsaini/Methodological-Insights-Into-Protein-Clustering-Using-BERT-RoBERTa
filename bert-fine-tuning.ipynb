{
 "cells": [
  {
   "cell_type": "code",
   "execution_count": null,
   "id": "cd7252d8",
   "metadata": {
    "_cell_guid": "b1076dfc-b9ad-4769-8c92-a6c4dae69d19",
    "_uuid": "8f2839f25d086af736a60e9eeb907d3b93b6e0e5",
    "papermill": {
     "duration": 5.434907,
     "end_time": "2024-02-06T14:41:02.839814",
     "exception": false,
     "start_time": "2024-02-06T14:40:57.404907",
     "status": "completed"
    },
    "tags": []
   },
   "outputs": [],
   "source": [
    "import numpy as np # For mathematical operations\n",
    "import pandas as pd # For tabular data structures\n",
    "import os"
   ]
  },
  {
   "cell_type": "code",
   "execution_count": null,
   "id": "bdbe71b9",
   "metadata": {
    "papermill": {
     "duration": 0.021937,
     "end_time": "2024-02-06T14:41:02.873366",
     "exception": false,
     "start_time": "2024-02-06T14:41:02.851429",
     "status": "completed"
    },
    "tags": []
   },
   "outputs": [],
   "source": [
    "# Creating directories\n",
    "model_mlm_dir = '/working/mlm_model'\n",
    "padded_states_dir = '/working/padded_states'\n",
    "hidden_states_dir = '/working/hidden_states'\n",
    "model_dir = '/working/model'\n",
    "tokenizer_dir = '/working/tokenizer_dir'\n",
    "txt_files_dir = '/working/sequence_files'\n",
    "\n",
    "if not os.path.exists(txt_files_dir):\n",
    "    os.makedirs(txt_files_dir)\n",
    "\n",
    "if not os.path.exists(tokenizer_dir):\n",
    "    os.makedirs(tokenizer_dir)\n",
    "\n",
    "if not os.path.exists(model_dir):\n",
    "    os.makedirs(model_dir)\n",
    "\n",
    "if not os.path.exists(hidden_states_dir):\n",
    "    os.makedirs(hidden_states_dir)\n",
    "    \n",
    "if not os.path.exists(padded_states_dir):\n",
    "    os.makedirs(padded_states_dir)\n",
    "\n",
    "if not os.path.exists(model_mlm_dir):\n",
    "    os.makedirs(model_mlm_dir)"
   ]
  },
  {
   "cell_type": "code",
   "execution_count": null,
   "id": "8fbcb496",
   "metadata": {
    "papermill": {
     "duration": 0.019677,
     "end_time": "2024-02-06T14:41:02.932461",
     "exception": false,
     "start_time": "2024-02-06T14:41:02.912784",
     "status": "completed"
    },
    "tags": []
   },
   "outputs": [],
   "source": [
    "# Defining variables\n",
    "max_position_embeddings = 2048 # For bert tokenizer and model\n",
    "max_sequence_length = 2000 # Cannot exceed max_position_embeddings\n",
    "min_sequence_length = 400\n",
    "num_sequence = 4000\n",
    "vocab_size = 50265\n",
    "gene_ontology_unique = -1 # Will be assigned later\n",
    "gene_ontology_filter_threshold = 50 # Model will only take proteins with more than n common gene ontology ids\n",
    "\n",
    "from collections import defaultdict\n",
    "def def_value():\n",
    "    return 0\n",
    "gene_ontology_counts = defaultdict(def_value) # Default dictionary for gene ontology ids\n",
    "filtered_gene_ontology_counts = defaultdict(def_value) # Default dictionary after gene ontology ids have been filtered"
   ]
  },
  {
   "cell_type": "code",
   "execution_count": null,
   "id": "e9bf7e1a",
   "metadata": {
    "papermill": {
     "duration": 43.28748,
     "end_time": "2024-02-06T14:41:46.231091",
     "exception": false,
     "start_time": "2024-02-06T14:41:02.943611",
     "status": "completed"
    },
    "tags": []
   },
   "outputs": [],
   "source": [
    "uniprot = pd.read_csv('/data.csv')"
   ]
  },
  {
   "cell_type": "markdown",
   "id": "8febda16",
   "metadata": {
    "papermill": {
     "duration": 0.011147,
     "end_time": "2024-02-06T14:41:46.253892",
     "exception": false,
     "start_time": "2024-02-06T14:41:46.242745",
     "status": "completed"
    },
    "tags": []
   },
   "source": [
    "Filtering data:"
   ]
  },
  {
   "cell_type": "code",
   "execution_count": null,
   "id": "bc723245",
   "metadata": {
    "papermill": {
     "duration": 0.824064,
     "end_time": "2024-02-06T14:41:47.089166",
     "exception": false,
     "start_time": "2024-02-06T14:41:46.265102",
     "status": "completed"
    },
    "tags": []
   },
   "outputs": [],
   "source": [
    "# Filtering out specific columns\n",
    "uniprot = uniprot[['Sequence', 'Length', 'Organism', 'Gene Ontology IDs']]\n",
    "# Filtering out proteins associated with humans, and with a specific sequence length\n",
    "uniprot = uniprot[(uniprot['Organism'] == 'Homo sapiens (Human)') & (uniprot['Length'] < max_sequence_length) & (uniprot['Length'] > min_sequence_length)]\n",
    "# Picking first n proteins\n",
    "uniprot = uniprot.dropna()\n",
    "uniprot = uniprot.head(num_sequence)\n",
    "uniprot = uniprot.reset_index(drop=True)"
   ]
  },
  {
   "cell_type": "markdown",
   "id": "4ea5e20c",
   "metadata": {
    "papermill": {
     "duration": 0.011323,
     "end_time": "2024-02-06T14:41:47.112468",
     "exception": false,
     "start_time": "2024-02-06T14:41:47.101145",
     "status": "completed"
    },
    "tags": []
   },
   "source": [
    "Preprocessing Gene Ontology IDs for fine-tuning:"
   ]
  },
  {
   "cell_type": "code",
   "execution_count": null,
   "id": "8e61e45b",
   "metadata": {
    "papermill": {
     "duration": 0.024392,
     "end_time": "2024-02-06T14:41:47.148128",
     "exception": false,
     "start_time": "2024-02-06T14:41:47.123736",
     "status": "completed"
    },
    "tags": []
   },
   "outputs": [],
   "source": [
    "def preprocess_gene_ontology(id):\n",
    "    ids = id.split(';')\n",
    "    gene_ontology_id = 0\n",
    "    found = False\n",
    "    \n",
    "    for gene_ontology_id in ids:\n",
    "        if gene_ontology_id in gene_ontology_counts.keys():\n",
    "            found = True\n",
    "            break\n",
    "            \n",
    "    if not found:\n",
    "        gene_ontology_id = ids[0]\n",
    "        \n",
    "    gene_ontology_counts[gene_ontology_id] += 1\n",
    "    return gene_ontology_id"
   ]
  },
  {
   "cell_type": "code",
   "execution_count": null,
   "id": "b26cd8ee",
   "metadata": {
    "papermill": {
     "duration": 0.035091,
     "end_time": "2024-02-06T14:41:47.197590",
     "exception": false,
     "start_time": "2024-02-06T14:41:47.162499",
     "status": "completed"
    },
    "tags": []
   },
   "outputs": [],
   "source": [
    "uniprot['Gene_ontology_id'] = uniprot['Gene Ontology IDs'].apply(lambda id: preprocess_gene_ontology(id))\n",
    "gene_ontology_unique = len(gene_ontology_counts.values())\n",
    "print('Number of unique Gene Ontology IDs: {}'.format(gene_ontology_unique))"
   ]
  },
  {
   "cell_type": "code",
   "execution_count": null,
   "id": "231ddef1",
   "metadata": {
    "papermill": {
     "duration": 0.032455,
     "end_time": "2024-02-06T14:41:47.242670",
     "exception": false,
     "start_time": "2024-02-06T14:41:47.210215",
     "status": "completed"
    },
    "tags": []
   },
   "outputs": [],
   "source": [
    "uniprot"
   ]
  },
  {
   "cell_type": "code",
   "execution_count": null,
   "id": "b7123d71",
   "metadata": {
    "papermill": {
     "duration": 0.023439,
     "end_time": "2024-02-06T14:41:47.282866",
     "exception": false,
     "start_time": "2024-02-06T14:41:47.259427",
     "status": "completed"
    },
    "tags": []
   },
   "outputs": [],
   "source": [
    "def filter_by_gene_ontology_counts(df, gene_ontology_filter_threshold):\n",
    "    \n",
    "    count = 0\n",
    "    \n",
    "    for i in range(df.shape[0]):\n",
    "        if(gene_ontology_counts[df.at[i, 'Gene_ontology_id']] > gene_ontology_filter_threshold):\n",
    "            if df.at[i, 'Gene_ontology_id'] in filtered_gene_ontology_counts.keys():\n",
    "                filtered_gene_ontology_counts[df.at[i, 'Gene_ontology_id']] += 1\n",
    "            else:\n",
    "                filtered_gene_ontology_counts[df.at[i, 'Gene_ontology_id']] = 1\n",
    "            count += 1\n",
    "            continue\n",
    "        else:\n",
    "            df = df.drop(i)\n",
    "    \n",
    "    print('Number of Proteins after Gene Ontology Filtering: {}'.format(count))\n",
    "    \n",
    "    return df"
   ]
  },
  {
   "cell_type": "code",
   "execution_count": null,
   "id": "7cba828e",
   "metadata": {
    "papermill": {
     "duration": 1.897942,
     "end_time": "2024-02-06T14:41:49.192721",
     "exception": false,
     "start_time": "2024-02-06T14:41:47.294779",
     "status": "completed"
    },
    "tags": []
   },
   "outputs": [],
   "source": [
    "uniprot = filter_by_gene_ontology_counts(uniprot, gene_ontology_filter_threshold)"
   ]
  },
  {
   "cell_type": "code",
   "execution_count": null,
   "id": "1d5ea631",
   "metadata": {
    "papermill": {
     "duration": 0.061566,
     "end_time": "2024-02-06T14:41:49.266903",
     "exception": false,
     "start_time": "2024-02-06T14:41:49.205337",
     "status": "completed"
    },
    "tags": []
   },
   "outputs": [],
   "source": [
    "print('Filtered Gene Ontology Dictionary:{}'.format(filtered_gene_ontology_counts.items()))"
   ]
  },
  {
   "cell_type": "code",
   "execution_count": null,
   "id": "8cfe085a",
   "metadata": {
    "papermill": {
     "duration": 0.028299,
     "end_time": "2024-02-06T14:41:49.307509",
     "exception": false,
     "start_time": "2024-02-06T14:41:49.279210",
     "status": "completed"
    },
    "tags": []
   },
   "outputs": [],
   "source": [
    "uniprot"
   ]
  },
  {
   "cell_type": "code",
   "execution_count": null,
   "id": "3a51a161",
   "metadata": {
    "papermill": {
     "duration": 0.020153,
     "end_time": "2024-02-06T14:41:49.340930",
     "exception": false,
     "start_time": "2024-02-06T14:41:49.320777",
     "status": "completed"
    },
    "tags": []
   },
   "outputs": [],
   "source": [
    "# To add white spaces between all tokens in the sequence\n",
    "def preprocess_sequence(df):\n",
    "    for index, row in df.iterrows():\n",
    "        tokens = list(row['Sequence'])\n",
    "        df.at[index, 'Sequence'] = str(tokens[0] + \" \".join(tokens[1:-1]) + \" \" + tokens[-1])\n",
    "    return df"
   ]
  },
  {
   "cell_type": "code",
   "execution_count": null,
   "id": "ab8fc0db",
   "metadata": {
    "papermill": {
     "duration": 0.144183,
     "end_time": "2024-02-06T14:41:49.497652",
     "exception": false,
     "start_time": "2024-02-06T14:41:49.353469",
     "status": "completed"
    },
    "tags": []
   },
   "outputs": [],
   "source": [
    "uniprot = preprocess_sequence(uniprot)"
   ]
  },
  {
   "cell_type": "code",
   "execution_count": null,
   "id": "2ac36775",
   "metadata": {
    "papermill": {
     "duration": 0.02514,
     "end_time": "2024-02-06T14:41:49.535832",
     "exception": false,
     "start_time": "2024-02-06T14:41:49.510692",
     "status": "completed"
    },
    "tags": []
   },
   "outputs": [],
   "source": [
    "uniprot.head()"
   ]
  },
  {
   "cell_type": "code",
   "execution_count": null,
   "id": "cfd3e025",
   "metadata": {
    "papermill": {
     "duration": 0.707322,
     "end_time": "2024-02-06T14:41:50.257404",
     "exception": false,
     "start_time": "2024-02-06T14:41:49.550082",
     "status": "completed"
    },
    "tags": []
   },
   "outputs": [],
   "source": [
    "from sklearn.preprocessing import OrdinalEncoder\n",
    "\n",
    "gene_ontology_encoder = OrdinalEncoder()\n",
    "uniprot['Gene_ontology_id_encoded'] = gene_ontology_encoder.fit_transform(np.array(uniprot['Gene_ontology_id']).reshape(-1,1))"
   ]
  },
  {
   "cell_type": "code",
   "execution_count": null,
   "id": "f7d43adf",
   "metadata": {
    "papermill": {
     "duration": 0.030798,
     "end_time": "2024-02-06T14:41:50.301781",
     "exception": false,
     "start_time": "2024-02-06T14:41:50.270983",
     "status": "completed"
    },
    "tags": []
   },
   "outputs": [],
   "source": [
    "uniprot"
   ]
  },
  {
   "cell_type": "code",
   "execution_count": null,
   "id": "94c49408",
   "metadata": {
    "papermill": {
     "duration": 0.022445,
     "end_time": "2024-02-06T14:41:50.337675",
     "exception": false,
     "start_time": "2024-02-06T14:41:50.315230",
     "status": "completed"
    },
    "tags": []
   },
   "outputs": [],
   "source": [
    "preds = uniprot['Gene_ontology_id_encoded']\n",
    "\n",
    "# 20% for testing:\n",
    "train = uniprot.head(int(num_sequence * 0.8))\n",
    "train.reset_index(drop=True, inplace=True)\n",
    "train_y = preds.head(int(num_sequence * 0.8))\n",
    "train_y.reset_index(drop=True, inplace=True)\n",
    "\n",
    "test = uniprot.tail(int(num_sequence * 0.2))\n",
    "test.reset_index(drop=True, inplace=True)\n",
    "test_y = preds.tail(int(num_sequence * 0.2))\n",
    "test_y.reset_index(drop=True, inplace=True)"
   ]
  },
  {
   "cell_type": "code",
   "execution_count": null,
   "id": "aeccee8c",
   "metadata": {
    "papermill": {
     "duration": 0.029154,
     "end_time": "2024-02-06T14:41:50.380227",
     "exception": false,
     "start_time": "2024-02-06T14:41:50.351073",
     "status": "completed"
    },
    "tags": []
   },
   "outputs": [],
   "source": [
    "train"
   ]
  },
  {
   "cell_type": "code",
   "execution_count": null,
   "id": "19025fd1",
   "metadata": {
    "papermill": {
     "duration": 0.023213,
     "end_time": "2024-02-06T14:41:50.417387",
     "exception": false,
     "start_time": "2024-02-06T14:41:50.394174",
     "status": "completed"
    },
    "tags": []
   },
   "outputs": [],
   "source": [
    "train_y"
   ]
  },
  {
   "cell_type": "code",
   "execution_count": null,
   "id": "a31a4f56",
   "metadata": {
    "papermill": {
     "duration": 0.021282,
     "end_time": "2024-02-06T14:41:50.452648",
     "exception": false,
     "start_time": "2024-02-06T14:41:50.431366",
     "status": "completed"
    },
    "tags": []
   },
   "outputs": [],
   "source": [
    "train = train.reset_index(drop=True)\n",
    "test = test.reset_index(drop=True)"
   ]
  },
  {
   "cell_type": "markdown",
   "id": "a0334ff7",
   "metadata": {
    "papermill": {
     "duration": 0.014076,
     "end_time": "2024-02-06T14:41:50.480787",
     "exception": false,
     "start_time": "2024-02-06T14:41:50.466711",
     "status": "completed"
    },
    "tags": []
   },
   "source": [
    "Initializing the language model from the already pre-trained on MLML model"
   ]
  },
  {
   "cell_type": "code",
   "execution_count": null,
   "id": "a47f6962",
   "metadata": {
    "papermill": {
     "duration": 8.361592,
     "end_time": "2024-02-06T14:41:58.856791",
     "exception": false,
     "start_time": "2024-02-06T14:41:50.495199",
     "status": "completed"
    },
    "tags": []
   },
   "outputs": [],
   "source": [
    "import torch\n",
    "from transformers import BertConfig\n",
    "from transformers import AutoModelForSequenceClassification, AutoTokenizer\n",
    "\n",
    "# Load the configuration from the file\n",
    "config = BertConfig(\n",
    "    vocab_size=vocab_size,\n",
    "    max_position_embeddings=2048,\n",
    "    num_attention_heads=12,\n",
    "    num_hidden_layers=6,\n",
    "    type_vocab_size=1,\n",
    "    num_labels = gene_ontology_unique\n",
    ")\n",
    "\n",
    "# Load the model for sequence classification\n",
    "mlm_model = '' # Add pre-trained MLM model here\n",
    "model = AutoModelForSequenceClassification.from_pretrained(mlm_model, config=config, ignore_mismatched_sizes=True)"
   ]
  },
  {
   "cell_type": "markdown",
   "id": "2fcae6c2",
   "metadata": {
    "papermill": {
     "duration": 0.015507,
     "end_time": "2024-02-06T14:41:58.888400",
     "exception": false,
     "start_time": "2024-02-06T14:41:58.872893",
     "status": "completed"
    },
    "tags": []
   },
   "source": [
    "Initializing the tokenizer from the previous configuration:"
   ]
  },
  {
   "cell_type": "code",
   "execution_count": null,
   "id": "ec211a08",
   "metadata": {
    "papermill": {
     "duration": 3.647472,
     "end_time": "2024-02-06T14:42:02.552052",
     "exception": false,
     "start_time": "2024-02-06T14:41:58.904580",
     "status": "completed"
    },
    "tags": []
   },
   "outputs": [],
   "source": [
    "from transformers import AutoTokenizer\n",
    "\n",
    "tokenizer = AutoTokenizer.from_pretrained('bert-base-uncased', \n",
    "    max_len=max_sequence_length,\n",
    "    truncation=True,\n",
    "    padding='max_length',\n",
    "    return_tensors='pt',\n",
    "    )"
   ]
  },
  {
   "cell_type": "markdown",
   "id": "da364a55",
   "metadata": {
    "papermill": {
     "duration": 0.01563,
     "end_time": "2024-02-06T14:42:02.583156",
     "exception": false,
     "start_time": "2024-02-06T14:42:02.567526",
     "status": "completed"
    },
    "tags": []
   },
   "source": [
    "Building the training dataset, and tokenizing sequences:"
   ]
  },
  {
   "cell_type": "code",
   "execution_count": null,
   "id": "c3b6109a",
   "metadata": {
    "papermill": {
     "duration": 4.343314,
     "end_time": "2024-02-06T14:42:06.942101",
     "exception": false,
     "start_time": "2024-02-06T14:42:02.598787",
     "status": "completed"
    },
    "tags": []
   },
   "outputs": [],
   "source": [
    "import torch\n",
    "from torch.utils.data import Dataset, DataLoader\n",
    "\n",
    "class CustomDataset(Dataset):\n",
    "    def __init__(self, df, tokenizer):\n",
    "        \n",
    "        self.examples = []\n",
    "        \n",
    "        for example, label in zip(df['Sequence'].values, df['Gene_ontology_id_encoded'].values):\n",
    "            # Tokenizing:\n",
    "            x = tokenizer.encode_plus(example, max_length=512, truncation=True, padding='max_length', return_tensors='pt')\n",
    "            self.examples.append({'input_ids': x['input_ids'].squeeze(),\n",
    "                                  'attention_mask': x['attention_mask'].squeeze(),\n",
    "                                  'labels': torch.tensor(label, dtype=torch.long)})\n",
    "\n",
    "    def __len__(self):\n",
    "        return len(self.examples)\n",
    "\n",
    "    def __getitem__(self, i):\n",
    "        return self.examples[i]\n",
    "      \n",
    "# Create the train dataset\n",
    "train_dataset = CustomDataset(train, tokenizer)\n",
    "test_dataset = CustomDataset(test, tokenizer)\n",
    "\n",
    "train_dataloader = DataLoader(train_dataset, batch_size=2, shuffle=True)\n",
    "test_dataloader = DataLoader(test_dataset, batch_size=2, shuffle=False)"
   ]
  },
  {
   "cell_type": "markdown",
   "id": "b46a06df",
   "metadata": {
    "papermill": {
     "duration": 0.015093,
     "end_time": "2024-02-06T14:42:06.972873",
     "exception": false,
     "start_time": "2024-02-06T14:42:06.957780",
     "status": "completed"
    },
    "tags": []
   },
   "source": [
    "Training:"
   ]
  },
  {
   "cell_type": "code",
   "execution_count": null,
   "id": "c8847268",
   "metadata": {
    "papermill": {
     "duration": 0.022059,
     "end_time": "2024-02-06T14:42:07.009839",
     "exception": false,
     "start_time": "2024-02-06T14:42:06.987780",
     "status": "completed"
    },
    "tags": []
   },
   "outputs": [],
   "source": [
    "# Defining parameters:\n",
    "TRAIN_EPOCHS = 200\n",
    "TRAIN_BATCH_SIZE = 2\n",
    "VALID_BATCH_SIZE = 2\n",
    "WEIGHT_DECAY = 0.01"
   ]
  },
  {
   "cell_type": "code",
   "execution_count": null,
   "id": "9064336e",
   "metadata": {
    "papermill": {
     "duration": 9.813475,
     "end_time": "2024-02-06T14:42:16.875040",
     "exception": false,
     "start_time": "2024-02-06T14:42:07.061565",
     "status": "completed"
    },
    "tags": []
   },
   "outputs": [],
   "source": [
    "from transformers import TrainingArguments, Trainer\n",
    "\n",
    "args = TrainingArguments(\n",
    "    output_dir=model_dir,\n",
    "    evaluation_strategy = \"epoch\",\n",
    "    save_strategy = \"epoch\",\n",
    "    learning_rate=2e-5,\n",
    "    per_device_train_batch_size=TRAIN_BATCH_SIZE,\n",
    "    per_device_eval_batch_size=VALID_BATCH_SIZE,\n",
    "    num_train_epochs=TRAIN_EPOCHS,\n",
    "    weight_decay=WEIGHT_DECAY,\n",
    "    save_total_limit=1,\n",
    "    push_to_hub=False,\n",
    ")"
   ]
  },
  {
   "cell_type": "code",
   "execution_count": null,
   "id": "d977956d",
   "metadata": {
    "papermill": {
     "duration": 0.024285,
     "end_time": "2024-02-06T14:42:16.915453",
     "exception": false,
     "start_time": "2024-02-06T14:42:16.891168",
     "status": "completed"
    },
    "tags": []
   },
   "outputs": [],
   "source": [
    "from sklearn.metrics import accuracy_score\n",
    "def compute_metrics(p):\n",
    "    predictions, labels = p.predictions, p.label_ids\n",
    "    predictions = np.argmax(predictions, axis=1)\n",
    "    \n",
    "    # Calculate accuracy\n",
    "    accuracy = accuracy_score(labels, predictions)\n",
    "\n",
    "    return {\"accuracy\": accuracy}"
   ]
  },
  {
   "cell_type": "code",
   "execution_count": null,
   "id": "d5e954bc",
   "metadata": {
    "papermill": {
     "duration": 0.770892,
     "end_time": "2024-02-06T14:42:17.702056",
     "exception": false,
     "start_time": "2024-02-06T14:42:16.931164",
     "status": "completed"
    },
    "tags": []
   },
   "outputs": [],
   "source": [
    "trainer = Trainer(\n",
    "    model,\n",
    "    args,\n",
    "    train_dataset=train_dataset,\n",
    "    eval_dataset=test_dataset,\n",
    "    tokenizer=tokenizer,\n",
    "    compute_metrics=compute_metrics\n",
    ")"
   ]
  },
  {
   "cell_type": "code",
   "execution_count": null,
   "id": "67804820",
   "metadata": {
    "papermill": {
     "duration": 9977.014816,
     "end_time": "2024-02-06T17:28:34.733223",
     "exception": false,
     "start_time": "2024-02-06T14:42:17.718407",
     "status": "completed"
    },
    "tags": []
   },
   "outputs": [],
   "source": [
    "import wandb\n",
    "key = \"0\" # Add wandb key here\n",
    "wandb.login(key=key)\n",
    "trainer.train()"
   ]
  },
  {
   "cell_type": "code",
   "execution_count": null,
   "id": "d253890a",
   "metadata": {
    "papermill": {
     "duration": 0.649478,
     "end_time": "2024-02-06T17:28:35.400830",
     "exception": false,
     "start_time": "2024-02-06T17:28:34.751352",
     "status": "completed"
    },
    "tags": []
   },
   "outputs": [],
   "source": [
    "# Save the model\n",
    "model.save_pretrained(model_dir)"
   ]
  },
  {
   "cell_type": "markdown",
   "id": "a9bead22",
   "metadata": {
    "papermill": {
     "duration": 0.018726,
     "end_time": "2024-02-06T17:28:35.437867",
     "exception": false,
     "start_time": "2024-02-06T17:28:35.419141",
     "status": "completed"
    },
    "tags": []
   },
   "source": [
    "Predicting, and evaluating on test dataset:"
   ]
  },
  {
   "cell_type": "code",
   "execution_count": null,
   "id": "d556bb90",
   "metadata": {
    "papermill": {
     "duration": 0.027648,
     "end_time": "2024-02-06T17:28:35.483462",
     "exception": false,
     "start_time": "2024-02-06T17:28:35.455814",
     "status": "completed"
    },
    "tags": []
   },
   "outputs": [],
   "source": [
    "def predict(test_dataloader, max_sequence_length, model):\n",
    "    \n",
    "    device = 'cuda'\n",
    "    predicted_labels = []\n",
    "    \n",
    "    with torch.no_grad():\n",
    "        \n",
    "        total_correct = 0\n",
    "        total_labels = 0\n",
    "        \n",
    "        for batch in test_dataloader:\n",
    "            input_ids = batch['input_ids'].to(device)\n",
    "            attention_mask = batch['attention_mask'].to(device)\n",
    "            labels = batch['labels'].to(device)\n",
    "\n",
    "            outputs = model(input_ids=input_ids, attention_mask=attention_mask, labels=labels)\n",
    "            logits = outputs.logits\n",
    "\n",
    "            _, predicted_class = torch.max(logits, 1)\n",
    "            total_correct += (predicted_class == labels).sum().item()\n",
    "            total_labels += len(labels)\n",
    "            \n",
    "            predicted_labels.extend(predicted_class.cpu().numpy())\n",
    "\n",
    "    return total_correct / total_labels, predicted_labels"
   ]
  },
  {
   "cell_type": "code",
   "execution_count": null,
   "id": "85201601",
   "metadata": {
    "papermill": {
     "duration": 7.758715,
     "end_time": "2024-02-06T17:28:43.260036",
     "exception": false,
     "start_time": "2024-02-06T17:28:35.501321",
     "status": "completed"
    },
    "tags": []
   },
   "outputs": [],
   "source": [
    "accuracy, test['Predicted_gene_ontology'] = predict(test_dataloader, max_sequence_length, model)"
   ]
  },
  {
   "cell_type": "code",
   "execution_count": null,
   "id": "824839cc",
   "metadata": {
    "papermill": {
     "duration": 0.026432,
     "end_time": "2024-02-06T17:28:43.306267",
     "exception": false,
     "start_time": "2024-02-06T17:28:43.279835",
     "status": "completed"
    },
    "tags": []
   },
   "outputs": [],
   "source": [
    "print('Accuracy on Test Dataset: {}'.format(accuracy))"
   ]
  },
  {
   "cell_type": "code",
   "execution_count": null,
   "id": "f2cce4f5",
   "metadata": {
    "papermill": {
     "duration": 0.037412,
     "end_time": "2024-02-06T17:28:43.361722",
     "exception": false,
     "start_time": "2024-02-06T17:28:43.324310",
     "status": "completed"
    },
    "tags": []
   },
   "outputs": [],
   "source": [
    "test.head(20)"
   ]
  },
  {
   "cell_type": "code",
   "execution_count": null,
   "id": "e717a3c3",
   "metadata": {
    "papermill": {
     "duration": 0.099611,
     "end_time": "2024-02-06T17:28:43.480571",
     "exception": false,
     "start_time": "2024-02-06T17:28:43.380960",
     "status": "completed"
    },
    "tags": []
   },
   "outputs": [],
   "source": [
    "test.to_csv('/working/test.csv')"
   ]
  }
 ],
 "metadata": {
  "kaggle": {
   "accelerator": "gpu",
   "dataSources": [
    {
     "datasetId": 2391538,
     "sourceId": 4036668,
     "sourceType": "datasetVersion"
    },
    {
     "sourceId": 156699896,
     "sourceType": "kernelVersion"
    }
   ],
   "dockerImageVersionId": 30616,
   "isGpuEnabled": true,
   "isInternetEnabled": true,
   "language": "python",
   "sourceType": "notebook"
  },
  "kernelspec": {
   "display_name": "Python 3 (ipykernel)",
   "language": "python",
   "name": "python3"
  },
  "language_info": {
   "codemirror_mode": {
    "name": "ipython",
    "version": 3
   },
   "file_extension": ".py",
   "mimetype": "text/x-python",
   "name": "python",
   "nbconvert_exporter": "python",
   "pygments_lexer": "ipython3",
   "version": "3.10.12"
  },
  "papermill": {
   "default_parameters": {},
   "duration": 10072.129142,
   "end_time": "2024-02-06T17:28:46.246969",
   "environment_variables": {},
   "exception": null,
   "input_path": "__notebook__.ipynb",
   "output_path": "__notebook__.ipynb",
   "parameters": {},
   "start_time": "2024-02-06T14:40:54.117827",
   "version": "2.4.0"
  },
  "widgets": {
   "application/vnd.jupyter.widget-state+json": {
    "state": {
     "0033ac5a2cae4bae8ff5e845cd1cdb1f": {
      "model_module": "@jupyter-widgets/base",
      "model_module_version": "1.2.0",
      "model_name": "LayoutModel",
      "state": {
       "_model_module": "@jupyter-widgets/base",
       "_model_module_version": "1.2.0",
       "_model_name": "LayoutModel",
       "_view_count": null,
       "_view_module": "@jupyter-widgets/base",
       "_view_module_version": "1.2.0",
       "_view_name": "LayoutView",
       "align_content": null,
       "align_items": null,
       "align_self": null,
       "border": null,
       "bottom": null,
       "display": null,
       "flex": null,
       "flex_flow": null,
       "grid_area": null,
       "grid_auto_columns": null,
       "grid_auto_flow": null,
       "grid_auto_rows": null,
       "grid_column": null,
       "grid_gap": null,
       "grid_row": null,
       "grid_template_areas": null,
       "grid_template_columns": null,
       "grid_template_rows": null,
       "height": null,
       "justify_content": null,
       "justify_items": null,
       "left": null,
       "margin": null,
       "max_height": null,
       "max_width": null,
       "min_height": null,
       "min_width": null,
       "object_fit": null,
       "object_position": null,
       "order": null,
       "overflow": null,
       "overflow_x": null,
       "overflow_y": null,
       "padding": null,
       "right": null,
       "top": null,
       "visibility": null,
       "width": null
      }
     },
     "0ff0072a125a409fa3e1ee031bf8d87d": {
      "model_module": "@jupyter-widgets/controls",
      "model_module_version": "1.5.0",
      "model_name": "HBoxModel",
      "state": {
       "_dom_classes": [],
       "_model_module": "@jupyter-widgets/controls",
       "_model_module_version": "1.5.0",
       "_model_name": "HBoxModel",
       "_view_count": null,
       "_view_module": "@jupyter-widgets/controls",
       "_view_module_version": "1.5.0",
       "_view_name": "HBoxView",
       "box_style": "",
       "children": [
        "IPY_MODEL_7c5cc99ea3a74986aee465fa8a84b162",
        "IPY_MODEL_a3f2e6345b3142ac99e42adbe7adec0e",
        "IPY_MODEL_eb04b47ea91140ec8d1cbc189bd9cc24"
       ],
       "layout": "IPY_MODEL_16996199bfeb411ca7cd7fbee0150f43"
      }
     },
     "13ed8a45bc9349b285a9868f4efbc67f": {
      "model_module": "@jupyter-widgets/controls",
      "model_module_version": "1.5.0",
      "model_name": "HBoxModel",
      "state": {
       "_dom_classes": [],
       "_model_module": "@jupyter-widgets/controls",
       "_model_module_version": "1.5.0",
       "_model_name": "HBoxModel",
       "_view_count": null,
       "_view_module": "@jupyter-widgets/controls",
       "_view_module_version": "1.5.0",
       "_view_name": "HBoxView",
       "box_style": "",
       "children": [
        "IPY_MODEL_21daeebc36bb4093aca956a311753b40",
        "IPY_MODEL_24f694e03fa94d34912a451f1fe130dc",
        "IPY_MODEL_2dcf44126ef54749803e303c632dcb43"
       ],
       "layout": "IPY_MODEL_cfd9d71d444e484eb83f36846d623f2d"
      }
     },
     "16996199bfeb411ca7cd7fbee0150f43": {
      "model_module": "@jupyter-widgets/base",
      "model_module_version": "1.2.0",
      "model_name": "LayoutModel",
      "state": {
       "_model_module": "@jupyter-widgets/base",
       "_model_module_version": "1.2.0",
       "_model_name": "LayoutModel",
       "_view_count": null,
       "_view_module": "@jupyter-widgets/base",
       "_view_module_version": "1.2.0",
       "_view_name": "LayoutView",
       "align_content": null,
       "align_items": null,
       "align_self": null,
       "border": null,
       "bottom": null,
       "display": null,
       "flex": null,
       "flex_flow": null,
       "grid_area": null,
       "grid_auto_columns": null,
       "grid_auto_flow": null,
       "grid_auto_rows": null,
       "grid_column": null,
       "grid_gap": null,
       "grid_row": null,
       "grid_template_areas": null,
       "grid_template_columns": null,
       "grid_template_rows": null,
       "height": null,
       "justify_content": null,
       "justify_items": null,
       "left": null,
       "margin": null,
       "max_height": null,
       "max_width": null,
       "min_height": null,
       "min_width": null,
       "object_fit": null,
       "object_position": null,
       "order": null,
       "overflow": null,
       "overflow_x": null,
       "overflow_y": null,
       "padding": null,
       "right": null,
       "top": null,
       "visibility": null,
       "width": null
      }
     },
     "1b642c6df75f4e64960f2eeef29db4a6": {
      "model_module": "@jupyter-widgets/controls",
      "model_module_version": "1.5.0",
      "model_name": "ProgressStyleModel",
      "state": {
       "_model_module": "@jupyter-widgets/controls",
       "_model_module_version": "1.5.0",
       "_model_name": "ProgressStyleModel",
       "_view_count": null,
       "_view_module": "@jupyter-widgets/base",
       "_view_module_version": "1.2.0",
       "_view_name": "StyleView",
       "bar_color": null,
       "description_width": ""
      }
     },
     "1ccf35afd14e4ef6a4c8b662bdffc9d0": {
      "model_module": "@jupyter-widgets/base",
      "model_module_version": "1.2.0",
      "model_name": "LayoutModel",
      "state": {
       "_model_module": "@jupyter-widgets/base",
       "_model_module_version": "1.2.0",
       "_model_name": "LayoutModel",
       "_view_count": null,
       "_view_module": "@jupyter-widgets/base",
       "_view_module_version": "1.2.0",
       "_view_name": "LayoutView",
       "align_content": null,
       "align_items": null,
       "align_self": null,
       "border": null,
       "bottom": null,
       "display": null,
       "flex": null,
       "flex_flow": null,
       "grid_area": null,
       "grid_auto_columns": null,
       "grid_auto_flow": null,
       "grid_auto_rows": null,
       "grid_column": null,
       "grid_gap": null,
       "grid_row": null,
       "grid_template_areas": null,
       "grid_template_columns": null,
       "grid_template_rows": null,
       "height": null,
       "justify_content": null,
       "justify_items": null,
       "left": null,
       "margin": null,
       "max_height": null,
       "max_width": null,
       "min_height": null,
       "min_width": null,
       "object_fit": null,
       "object_position": null,
       "order": null,
       "overflow": null,
       "overflow_x": null,
       "overflow_y": null,
       "padding": null,
       "right": null,
       "top": null,
       "visibility": null,
       "width": null
      }
     },
     "1d202f2e05bf4767a777e71d19d882c9": {
      "model_module": "@jupyter-widgets/controls",
      "model_module_version": "1.5.0",
      "model_name": "DescriptionStyleModel",
      "state": {
       "_model_module": "@jupyter-widgets/controls",
       "_model_module_version": "1.5.0",
       "_model_name": "DescriptionStyleModel",
       "_view_count": null,
       "_view_module": "@jupyter-widgets/base",
       "_view_module_version": "1.2.0",
       "_view_name": "StyleView",
       "description_width": ""
      }
     },
     "21daeebc36bb4093aca956a311753b40": {
      "model_module": "@jupyter-widgets/controls",
      "model_module_version": "1.5.0",
      "model_name": "HTMLModel",
      "state": {
       "_dom_classes": [],
       "_model_module": "@jupyter-widgets/controls",
       "_model_module_version": "1.5.0",
       "_model_name": "HTMLModel",
       "_view_count": null,
       "_view_module": "@jupyter-widgets/controls",
       "_view_module_version": "1.5.0",
       "_view_name": "HTMLView",
       "description": "",
       "description_tooltip": null,
       "layout": "IPY_MODEL_d425e35637ca49eea8aa16f7818bb20e",
       "placeholder": "​",
       "style": "IPY_MODEL_40355c0cce8f4f1b930ece4637fef07e",
       "value": "vocab.txt: 100%"
      }
     },
     "24f694e03fa94d34912a451f1fe130dc": {
      "model_module": "@jupyter-widgets/controls",
      "model_module_version": "1.5.0",
      "model_name": "FloatProgressModel",
      "state": {
       "_dom_classes": [],
       "_model_module": "@jupyter-widgets/controls",
       "_model_module_version": "1.5.0",
       "_model_name": "FloatProgressModel",
       "_view_count": null,
       "_view_module": "@jupyter-widgets/controls",
       "_view_module_version": "1.5.0",
       "_view_name": "ProgressView",
       "bar_style": "success",
       "description": "",
       "description_tooltip": null,
       "layout": "IPY_MODEL_6967c61adec642d39c22c0c2a37760ab",
       "max": 231508,
       "min": 0,
       "orientation": "horizontal",
       "style": "IPY_MODEL_ebcd4bebb8e14e028288dab7d160adff",
       "value": 231508
      }
     },
     "2dcf44126ef54749803e303c632dcb43": {
      "model_module": "@jupyter-widgets/controls",
      "model_module_version": "1.5.0",
      "model_name": "HTMLModel",
      "state": {
       "_dom_classes": [],
       "_model_module": "@jupyter-widgets/controls",
       "_model_module_version": "1.5.0",
       "_model_name": "HTMLModel",
       "_view_count": null,
       "_view_module": "@jupyter-widgets/controls",
       "_view_module_version": "1.5.0",
       "_view_name": "HTMLView",
       "description": "",
       "description_tooltip": null,
       "layout": "IPY_MODEL_9eb805e1f47f48f0997648aebf0c7d86",
       "placeholder": "​",
       "style": "IPY_MODEL_f31a4e5b62e04ffbb6254b7c43bcdbff",
       "value": " 232k/232k [00:00&lt;00:00, 584kB/s]"
      }
     },
     "2f4e7d44d22a41c0b9caf770de0a17ab": {
      "model_module": "@jupyter-widgets/controls",
      "model_module_version": "1.5.0",
      "model_name": "HBoxModel",
      "state": {
       "_dom_classes": [],
       "_model_module": "@jupyter-widgets/controls",
       "_model_module_version": "1.5.0",
       "_model_name": "HBoxModel",
       "_view_count": null,
       "_view_module": "@jupyter-widgets/controls",
       "_view_module_version": "1.5.0",
       "_view_name": "HBoxView",
       "box_style": "",
       "children": [
        "IPY_MODEL_e6dbbacb0cf9439c966ffd99cb578000",
        "IPY_MODEL_adc4eade7d8e49a0985d346ce7b45db4",
        "IPY_MODEL_a3b2fbe12dcf417c938f0a134d03e62d"
       ],
       "layout": "IPY_MODEL_bcccdf4a0a474389ad591713ee1fa001"
      }
     },
     "361d8a9e2ca14498882076f600aad11d": {
      "model_module": "@jupyter-widgets/controls",
      "model_module_version": "1.5.0",
      "model_name": "DescriptionStyleModel",
      "state": {
       "_model_module": "@jupyter-widgets/controls",
       "_model_module_version": "1.5.0",
       "_model_name": "DescriptionStyleModel",
       "_view_count": null,
       "_view_module": "@jupyter-widgets/base",
       "_view_module_version": "1.2.0",
       "_view_name": "StyleView",
       "description_width": ""
      }
     },
     "3ed799c8c476465891195d63f16c0207": {
      "model_module": "@jupyter-widgets/base",
      "model_module_version": "1.2.0",
      "model_name": "LayoutModel",
      "state": {
       "_model_module": "@jupyter-widgets/base",
       "_model_module_version": "1.2.0",
       "_model_name": "LayoutModel",
       "_view_count": null,
       "_view_module": "@jupyter-widgets/base",
       "_view_module_version": "1.2.0",
       "_view_name": "LayoutView",
       "align_content": null,
       "align_items": null,
       "align_self": null,
       "border": null,
       "bottom": null,
       "display": null,
       "flex": null,
       "flex_flow": null,
       "grid_area": null,
       "grid_auto_columns": null,
       "grid_auto_flow": null,
       "grid_auto_rows": null,
       "grid_column": null,
       "grid_gap": null,
       "grid_row": null,
       "grid_template_areas": null,
       "grid_template_columns": null,
       "grid_template_rows": null,
       "height": null,
       "justify_content": null,
       "justify_items": null,
       "left": null,
       "margin": null,
       "max_height": null,
       "max_width": null,
       "min_height": null,
       "min_width": null,
       "object_fit": null,
       "object_position": null,
       "order": null,
       "overflow": null,
       "overflow_x": null,
       "overflow_y": null,
       "padding": null,
       "right": null,
       "top": null,
       "visibility": null,
       "width": null
      }
     },
     "40355c0cce8f4f1b930ece4637fef07e": {
      "model_module": "@jupyter-widgets/controls",
      "model_module_version": "1.5.0",
      "model_name": "DescriptionStyleModel",
      "state": {
       "_model_module": "@jupyter-widgets/controls",
       "_model_module_version": "1.5.0",
       "_model_name": "DescriptionStyleModel",
       "_view_count": null,
       "_view_module": "@jupyter-widgets/base",
       "_view_module_version": "1.2.0",
       "_view_name": "StyleView",
       "description_width": ""
      }
     },
     "4bec8b70b94042869f6a54c7bbb58cd3": {
      "model_module": "@jupyter-widgets/controls",
      "model_module_version": "1.5.0",
      "model_name": "DescriptionStyleModel",
      "state": {
       "_model_module": "@jupyter-widgets/controls",
       "_model_module_version": "1.5.0",
       "_model_name": "DescriptionStyleModel",
       "_view_count": null,
       "_view_module": "@jupyter-widgets/base",
       "_view_module_version": "1.2.0",
       "_view_name": "StyleView",
       "description_width": ""
      }
     },
     "4e370e53ebcc4798a8310b89abea4cdd": {
      "model_module": "@jupyter-widgets/controls",
      "model_module_version": "1.5.0",
      "model_name": "DescriptionStyleModel",
      "state": {
       "_model_module": "@jupyter-widgets/controls",
       "_model_module_version": "1.5.0",
       "_model_name": "DescriptionStyleModel",
       "_view_count": null,
       "_view_module": "@jupyter-widgets/base",
       "_view_module_version": "1.2.0",
       "_view_name": "StyleView",
       "description_width": ""
      }
     },
     "6782e715af3444ec92f09a3b4a7385f3": {
      "model_module": "@jupyter-widgets/controls",
      "model_module_version": "1.5.0",
      "model_name": "HBoxModel",
      "state": {
       "_dom_classes": [],
       "_model_module": "@jupyter-widgets/controls",
       "_model_module_version": "1.5.0",
       "_model_name": "HBoxModel",
       "_view_count": null,
       "_view_module": "@jupyter-widgets/controls",
       "_view_module_version": "1.5.0",
       "_view_name": "HBoxView",
       "box_style": "",
       "children": [
        "IPY_MODEL_7b7105ff6715449e9a51887025fedcef",
        "IPY_MODEL_ed8c7327553e4e3e884d4317b259d360",
        "IPY_MODEL_cdb7d043ddf341bdb0fd116bad1d8604"
       ],
       "layout": "IPY_MODEL_6f8d4aadbdd6414db9b4c7825a29d3e6"
      }
     },
     "6967c61adec642d39c22c0c2a37760ab": {
      "model_module": "@jupyter-widgets/base",
      "model_module_version": "1.2.0",
      "model_name": "LayoutModel",
      "state": {
       "_model_module": "@jupyter-widgets/base",
       "_model_module_version": "1.2.0",
       "_model_name": "LayoutModel",
       "_view_count": null,
       "_view_module": "@jupyter-widgets/base",
       "_view_module_version": "1.2.0",
       "_view_name": "LayoutView",
       "align_content": null,
       "align_items": null,
       "align_self": null,
       "border": null,
       "bottom": null,
       "display": null,
       "flex": null,
       "flex_flow": null,
       "grid_area": null,
       "grid_auto_columns": null,
       "grid_auto_flow": null,
       "grid_auto_rows": null,
       "grid_column": null,
       "grid_gap": null,
       "grid_row": null,
       "grid_template_areas": null,
       "grid_template_columns": null,
       "grid_template_rows": null,
       "height": null,
       "justify_content": null,
       "justify_items": null,
       "left": null,
       "margin": null,
       "max_height": null,
       "max_width": null,
       "min_height": null,
       "min_width": null,
       "object_fit": null,
       "object_position": null,
       "order": null,
       "overflow": null,
       "overflow_x": null,
       "overflow_y": null,
       "padding": null,
       "right": null,
       "top": null,
       "visibility": null,
       "width": null
      }
     },
     "6be582f17af64ab18e52302d87ff4aa9": {
      "model_module": "@jupyter-widgets/controls",
      "model_module_version": "1.5.0",
      "model_name": "DescriptionStyleModel",
      "state": {
       "_model_module": "@jupyter-widgets/controls",
       "_model_module_version": "1.5.0",
       "_model_name": "DescriptionStyleModel",
       "_view_count": null,
       "_view_module": "@jupyter-widgets/base",
       "_view_module_version": "1.2.0",
       "_view_name": "StyleView",
       "description_width": ""
      }
     },
     "6f8d4aadbdd6414db9b4c7825a29d3e6": {
      "model_module": "@jupyter-widgets/base",
      "model_module_version": "1.2.0",
      "model_name": "LayoutModel",
      "state": {
       "_model_module": "@jupyter-widgets/base",
       "_model_module_version": "1.2.0",
       "_model_name": "LayoutModel",
       "_view_count": null,
       "_view_module": "@jupyter-widgets/base",
       "_view_module_version": "1.2.0",
       "_view_name": "LayoutView",
       "align_content": null,
       "align_items": null,
       "align_self": null,
       "border": null,
       "bottom": null,
       "display": null,
       "flex": null,
       "flex_flow": null,
       "grid_area": null,
       "grid_auto_columns": null,
       "grid_auto_flow": null,
       "grid_auto_rows": null,
       "grid_column": null,
       "grid_gap": null,
       "grid_row": null,
       "grid_template_areas": null,
       "grid_template_columns": null,
       "grid_template_rows": null,
       "height": null,
       "justify_content": null,
       "justify_items": null,
       "left": null,
       "margin": null,
       "max_height": null,
       "max_width": null,
       "min_height": null,
       "min_width": null,
       "object_fit": null,
       "object_position": null,
       "order": null,
       "overflow": null,
       "overflow_x": null,
       "overflow_y": null,
       "padding": null,
       "right": null,
       "top": null,
       "visibility": null,
       "width": null
      }
     },
     "7b7105ff6715449e9a51887025fedcef": {
      "model_module": "@jupyter-widgets/controls",
      "model_module_version": "1.5.0",
      "model_name": "HTMLModel",
      "state": {
       "_dom_classes": [],
       "_model_module": "@jupyter-widgets/controls",
       "_model_module_version": "1.5.0",
       "_model_name": "HTMLModel",
       "_view_count": null,
       "_view_module": "@jupyter-widgets/controls",
       "_view_module_version": "1.5.0",
       "_view_name": "HTMLView",
       "description": "",
       "description_tooltip": null,
       "layout": "IPY_MODEL_9b836e51bf934095bb0e6fcdc457c50f",
       "placeholder": "​",
       "style": "IPY_MODEL_6be582f17af64ab18e52302d87ff4aa9",
       "value": "tokenizer.json: 100%"
      }
     },
     "7c5cc99ea3a74986aee465fa8a84b162": {
      "model_module": "@jupyter-widgets/controls",
      "model_module_version": "1.5.0",
      "model_name": "HTMLModel",
      "state": {
       "_dom_classes": [],
       "_model_module": "@jupyter-widgets/controls",
       "_model_module_version": "1.5.0",
       "_model_name": "HTMLModel",
       "_view_count": null,
       "_view_module": "@jupyter-widgets/controls",
       "_view_module_version": "1.5.0",
       "_view_name": "HTMLView",
       "description": "",
       "description_tooltip": null,
       "layout": "IPY_MODEL_bc1b374dcf6641fd8495190d716f3e8a",
       "placeholder": "​",
       "style": "IPY_MODEL_1d202f2e05bf4767a777e71d19d882c9",
       "value": "tokenizer_config.json: 100%"
      }
     },
     "89f5b311721943adb2e7d85c80b19602": {
      "model_module": "@jupyter-widgets/controls",
      "model_module_version": "1.5.0",
      "model_name": "ProgressStyleModel",
      "state": {
       "_model_module": "@jupyter-widgets/controls",
       "_model_module_version": "1.5.0",
       "_model_name": "ProgressStyleModel",
       "_view_count": null,
       "_view_module": "@jupyter-widgets/base",
       "_view_module_version": "1.2.0",
       "_view_name": "StyleView",
       "bar_color": null,
       "description_width": ""
      }
     },
     "9afe0d13a1954f22bbf5efacef0bec03": {
      "model_module": "@jupyter-widgets/controls",
      "model_module_version": "1.5.0",
      "model_name": "ProgressStyleModel",
      "state": {
       "_model_module": "@jupyter-widgets/controls",
       "_model_module_version": "1.5.0",
       "_model_name": "ProgressStyleModel",
       "_view_count": null,
       "_view_module": "@jupyter-widgets/base",
       "_view_module_version": "1.2.0",
       "_view_name": "StyleView",
       "bar_color": null,
       "description_width": ""
      }
     },
     "9b836e51bf934095bb0e6fcdc457c50f": {
      "model_module": "@jupyter-widgets/base",
      "model_module_version": "1.2.0",
      "model_name": "LayoutModel",
      "state": {
       "_model_module": "@jupyter-widgets/base",
       "_model_module_version": "1.2.0",
       "_model_name": "LayoutModel",
       "_view_count": null,
       "_view_module": "@jupyter-widgets/base",
       "_view_module_version": "1.2.0",
       "_view_name": "LayoutView",
       "align_content": null,
       "align_items": null,
       "align_self": null,
       "border": null,
       "bottom": null,
       "display": null,
       "flex": null,
       "flex_flow": null,
       "grid_area": null,
       "grid_auto_columns": null,
       "grid_auto_flow": null,
       "grid_auto_rows": null,
       "grid_column": null,
       "grid_gap": null,
       "grid_row": null,
       "grid_template_areas": null,
       "grid_template_columns": null,
       "grid_template_rows": null,
       "height": null,
       "justify_content": null,
       "justify_items": null,
       "left": null,
       "margin": null,
       "max_height": null,
       "max_width": null,
       "min_height": null,
       "min_width": null,
       "object_fit": null,
       "object_position": null,
       "order": null,
       "overflow": null,
       "overflow_x": null,
       "overflow_y": null,
       "padding": null,
       "right": null,
       "top": null,
       "visibility": null,
       "width": null
      }
     },
     "9eb805e1f47f48f0997648aebf0c7d86": {
      "model_module": "@jupyter-widgets/base",
      "model_module_version": "1.2.0",
      "model_name": "LayoutModel",
      "state": {
       "_model_module": "@jupyter-widgets/base",
       "_model_module_version": "1.2.0",
       "_model_name": "LayoutModel",
       "_view_count": null,
       "_view_module": "@jupyter-widgets/base",
       "_view_module_version": "1.2.0",
       "_view_name": "LayoutView",
       "align_content": null,
       "align_items": null,
       "align_self": null,
       "border": null,
       "bottom": null,
       "display": null,
       "flex": null,
       "flex_flow": null,
       "grid_area": null,
       "grid_auto_columns": null,
       "grid_auto_flow": null,
       "grid_auto_rows": null,
       "grid_column": null,
       "grid_gap": null,
       "grid_row": null,
       "grid_template_areas": null,
       "grid_template_columns": null,
       "grid_template_rows": null,
       "height": null,
       "justify_content": null,
       "justify_items": null,
       "left": null,
       "margin": null,
       "max_height": null,
       "max_width": null,
       "min_height": null,
       "min_width": null,
       "object_fit": null,
       "object_position": null,
       "order": null,
       "overflow": null,
       "overflow_x": null,
       "overflow_y": null,
       "padding": null,
       "right": null,
       "top": null,
       "visibility": null,
       "width": null
      }
     },
     "a35fb5b5938e4b7c96d136ad61e75ecf": {
      "model_module": "@jupyter-widgets/base",
      "model_module_version": "1.2.0",
      "model_name": "LayoutModel",
      "state": {
       "_model_module": "@jupyter-widgets/base",
       "_model_module_version": "1.2.0",
       "_model_name": "LayoutModel",
       "_view_count": null,
       "_view_module": "@jupyter-widgets/base",
       "_view_module_version": "1.2.0",
       "_view_name": "LayoutView",
       "align_content": null,
       "align_items": null,
       "align_self": null,
       "border": null,
       "bottom": null,
       "display": null,
       "flex": null,
       "flex_flow": null,
       "grid_area": null,
       "grid_auto_columns": null,
       "grid_auto_flow": null,
       "grid_auto_rows": null,
       "grid_column": null,
       "grid_gap": null,
       "grid_row": null,
       "grid_template_areas": null,
       "grid_template_columns": null,
       "grid_template_rows": null,
       "height": null,
       "justify_content": null,
       "justify_items": null,
       "left": null,
       "margin": null,
       "max_height": null,
       "max_width": null,
       "min_height": null,
       "min_width": null,
       "object_fit": null,
       "object_position": null,
       "order": null,
       "overflow": null,
       "overflow_x": null,
       "overflow_y": null,
       "padding": null,
       "right": null,
       "top": null,
       "visibility": null,
       "width": null
      }
     },
     "a3b2fbe12dcf417c938f0a134d03e62d": {
      "model_module": "@jupyter-widgets/controls",
      "model_module_version": "1.5.0",
      "model_name": "HTMLModel",
      "state": {
       "_dom_classes": [],
       "_model_module": "@jupyter-widgets/controls",
       "_model_module_version": "1.5.0",
       "_model_name": "HTMLModel",
       "_view_count": null,
       "_view_module": "@jupyter-widgets/controls",
       "_view_module_version": "1.5.0",
       "_view_name": "HTMLView",
       "description": "",
       "description_tooltip": null,
       "layout": "IPY_MODEL_0033ac5a2cae4bae8ff5e845cd1cdb1f",
       "placeholder": "​",
       "style": "IPY_MODEL_a639bd371444436a80cdfdc1d09bb7e8",
       "value": " 570/570 [00:00&lt;00:00, 48.5kB/s]"
      }
     },
     "a3f2e6345b3142ac99e42adbe7adec0e": {
      "model_module": "@jupyter-widgets/controls",
      "model_module_version": "1.5.0",
      "model_name": "FloatProgressModel",
      "state": {
       "_dom_classes": [],
       "_model_module": "@jupyter-widgets/controls",
       "_model_module_version": "1.5.0",
       "_model_name": "FloatProgressModel",
       "_view_count": null,
       "_view_module": "@jupyter-widgets/controls",
       "_view_module_version": "1.5.0",
       "_view_name": "ProgressView",
       "bar_style": "success",
       "description": "",
       "description_tooltip": null,
       "layout": "IPY_MODEL_a35fb5b5938e4b7c96d136ad61e75ecf",
       "max": 28,
       "min": 0,
       "orientation": "horizontal",
       "style": "IPY_MODEL_1b642c6df75f4e64960f2eeef29db4a6",
       "value": 28
      }
     },
     "a639bd371444436a80cdfdc1d09bb7e8": {
      "model_module": "@jupyter-widgets/controls",
      "model_module_version": "1.5.0",
      "model_name": "DescriptionStyleModel",
      "state": {
       "_model_module": "@jupyter-widgets/controls",
       "_model_module_version": "1.5.0",
       "_model_name": "DescriptionStyleModel",
       "_view_count": null,
       "_view_module": "@jupyter-widgets/base",
       "_view_module_version": "1.2.0",
       "_view_name": "StyleView",
       "description_width": ""
      }
     },
     "adc4eade7d8e49a0985d346ce7b45db4": {
      "model_module": "@jupyter-widgets/controls",
      "model_module_version": "1.5.0",
      "model_name": "FloatProgressModel",
      "state": {
       "_dom_classes": [],
       "_model_module": "@jupyter-widgets/controls",
       "_model_module_version": "1.5.0",
       "_model_name": "FloatProgressModel",
       "_view_count": null,
       "_view_module": "@jupyter-widgets/controls",
       "_view_module_version": "1.5.0",
       "_view_name": "ProgressView",
       "bar_style": "success",
       "description": "",
       "description_tooltip": null,
       "layout": "IPY_MODEL_cb76265a7c484ed6b66b6a90a2f54835",
       "max": 570,
       "min": 0,
       "orientation": "horizontal",
       "style": "IPY_MODEL_9afe0d13a1954f22bbf5efacef0bec03",
       "value": 570
      }
     },
     "b7532cdcfac4463c89843a62013cdc95": {
      "model_module": "@jupyter-widgets/base",
      "model_module_version": "1.2.0",
      "model_name": "LayoutModel",
      "state": {
       "_model_module": "@jupyter-widgets/base",
       "_model_module_version": "1.2.0",
       "_model_name": "LayoutModel",
       "_view_count": null,
       "_view_module": "@jupyter-widgets/base",
       "_view_module_version": "1.2.0",
       "_view_name": "LayoutView",
       "align_content": null,
       "align_items": null,
       "align_self": null,
       "border": null,
       "bottom": null,
       "display": null,
       "flex": null,
       "flex_flow": null,
       "grid_area": null,
       "grid_auto_columns": null,
       "grid_auto_flow": null,
       "grid_auto_rows": null,
       "grid_column": null,
       "grid_gap": null,
       "grid_row": null,
       "grid_template_areas": null,
       "grid_template_columns": null,
       "grid_template_rows": null,
       "height": null,
       "justify_content": null,
       "justify_items": null,
       "left": null,
       "margin": null,
       "max_height": null,
       "max_width": null,
       "min_height": null,
       "min_width": null,
       "object_fit": null,
       "object_position": null,
       "order": null,
       "overflow": null,
       "overflow_x": null,
       "overflow_y": null,
       "padding": null,
       "right": null,
       "top": null,
       "visibility": null,
       "width": null
      }
     },
     "bc1b374dcf6641fd8495190d716f3e8a": {
      "model_module": "@jupyter-widgets/base",
      "model_module_version": "1.2.0",
      "model_name": "LayoutModel",
      "state": {
       "_model_module": "@jupyter-widgets/base",
       "_model_module_version": "1.2.0",
       "_model_name": "LayoutModel",
       "_view_count": null,
       "_view_module": "@jupyter-widgets/base",
       "_view_module_version": "1.2.0",
       "_view_name": "LayoutView",
       "align_content": null,
       "align_items": null,
       "align_self": null,
       "border": null,
       "bottom": null,
       "display": null,
       "flex": null,
       "flex_flow": null,
       "grid_area": null,
       "grid_auto_columns": null,
       "grid_auto_flow": null,
       "grid_auto_rows": null,
       "grid_column": null,
       "grid_gap": null,
       "grid_row": null,
       "grid_template_areas": null,
       "grid_template_columns": null,
       "grid_template_rows": null,
       "height": null,
       "justify_content": null,
       "justify_items": null,
       "left": null,
       "margin": null,
       "max_height": null,
       "max_width": null,
       "min_height": null,
       "min_width": null,
       "object_fit": null,
       "object_position": null,
       "order": null,
       "overflow": null,
       "overflow_x": null,
       "overflow_y": null,
       "padding": null,
       "right": null,
       "top": null,
       "visibility": null,
       "width": null
      }
     },
     "bcccdf4a0a474389ad591713ee1fa001": {
      "model_module": "@jupyter-widgets/base",
      "model_module_version": "1.2.0",
      "model_name": "LayoutModel",
      "state": {
       "_model_module": "@jupyter-widgets/base",
       "_model_module_version": "1.2.0",
       "_model_name": "LayoutModel",
       "_view_count": null,
       "_view_module": "@jupyter-widgets/base",
       "_view_module_version": "1.2.0",
       "_view_name": "LayoutView",
       "align_content": null,
       "align_items": null,
       "align_self": null,
       "border": null,
       "bottom": null,
       "display": null,
       "flex": null,
       "flex_flow": null,
       "grid_area": null,
       "grid_auto_columns": null,
       "grid_auto_flow": null,
       "grid_auto_rows": null,
       "grid_column": null,
       "grid_gap": null,
       "grid_row": null,
       "grid_template_areas": null,
       "grid_template_columns": null,
       "grid_template_rows": null,
       "height": null,
       "justify_content": null,
       "justify_items": null,
       "left": null,
       "margin": null,
       "max_height": null,
       "max_width": null,
       "min_height": null,
       "min_width": null,
       "object_fit": null,
       "object_position": null,
       "order": null,
       "overflow": null,
       "overflow_x": null,
       "overflow_y": null,
       "padding": null,
       "right": null,
       "top": null,
       "visibility": null,
       "width": null
      }
     },
     "c55668b98e574bc7a78961ca837cda65": {
      "model_module": "@jupyter-widgets/base",
      "model_module_version": "1.2.0",
      "model_name": "LayoutModel",
      "state": {
       "_model_module": "@jupyter-widgets/base",
       "_model_module_version": "1.2.0",
       "_model_name": "LayoutModel",
       "_view_count": null,
       "_view_module": "@jupyter-widgets/base",
       "_view_module_version": "1.2.0",
       "_view_name": "LayoutView",
       "align_content": null,
       "align_items": null,
       "align_self": null,
       "border": null,
       "bottom": null,
       "display": null,
       "flex": null,
       "flex_flow": null,
       "grid_area": null,
       "grid_auto_columns": null,
       "grid_auto_flow": null,
       "grid_auto_rows": null,
       "grid_column": null,
       "grid_gap": null,
       "grid_row": null,
       "grid_template_areas": null,
       "grid_template_columns": null,
       "grid_template_rows": null,
       "height": null,
       "justify_content": null,
       "justify_items": null,
       "left": null,
       "margin": null,
       "max_height": null,
       "max_width": null,
       "min_height": null,
       "min_width": null,
       "object_fit": null,
       "object_position": null,
       "order": null,
       "overflow": null,
       "overflow_x": null,
       "overflow_y": null,
       "padding": null,
       "right": null,
       "top": null,
       "visibility": null,
       "width": null
      }
     },
     "cb76265a7c484ed6b66b6a90a2f54835": {
      "model_module": "@jupyter-widgets/base",
      "model_module_version": "1.2.0",
      "model_name": "LayoutModel",
      "state": {
       "_model_module": "@jupyter-widgets/base",
       "_model_module_version": "1.2.0",
       "_model_name": "LayoutModel",
       "_view_count": null,
       "_view_module": "@jupyter-widgets/base",
       "_view_module_version": "1.2.0",
       "_view_name": "LayoutView",
       "align_content": null,
       "align_items": null,
       "align_self": null,
       "border": null,
       "bottom": null,
       "display": null,
       "flex": null,
       "flex_flow": null,
       "grid_area": null,
       "grid_auto_columns": null,
       "grid_auto_flow": null,
       "grid_auto_rows": null,
       "grid_column": null,
       "grid_gap": null,
       "grid_row": null,
       "grid_template_areas": null,
       "grid_template_columns": null,
       "grid_template_rows": null,
       "height": null,
       "justify_content": null,
       "justify_items": null,
       "left": null,
       "margin": null,
       "max_height": null,
       "max_width": null,
       "min_height": null,
       "min_width": null,
       "object_fit": null,
       "object_position": null,
       "order": null,
       "overflow": null,
       "overflow_x": null,
       "overflow_y": null,
       "padding": null,
       "right": null,
       "top": null,
       "visibility": null,
       "width": null
      }
     },
     "cdb7d043ddf341bdb0fd116bad1d8604": {
      "model_module": "@jupyter-widgets/controls",
      "model_module_version": "1.5.0",
      "model_name": "HTMLModel",
      "state": {
       "_dom_classes": [],
       "_model_module": "@jupyter-widgets/controls",
       "_model_module_version": "1.5.0",
       "_model_name": "HTMLModel",
       "_view_count": null,
       "_view_module": "@jupyter-widgets/controls",
       "_view_module_version": "1.5.0",
       "_view_name": "HTMLView",
       "description": "",
       "description_tooltip": null,
       "layout": "IPY_MODEL_c55668b98e574bc7a78961ca837cda65",
       "placeholder": "​",
       "style": "IPY_MODEL_361d8a9e2ca14498882076f600aad11d",
       "value": " 466k/466k [00:00&lt;00:00, 783kB/s]"
      }
     },
     "cfd9d71d444e484eb83f36846d623f2d": {
      "model_module": "@jupyter-widgets/base",
      "model_module_version": "1.2.0",
      "model_name": "LayoutModel",
      "state": {
       "_model_module": "@jupyter-widgets/base",
       "_model_module_version": "1.2.0",
       "_model_name": "LayoutModel",
       "_view_count": null,
       "_view_module": "@jupyter-widgets/base",
       "_view_module_version": "1.2.0",
       "_view_name": "LayoutView",
       "align_content": null,
       "align_items": null,
       "align_self": null,
       "border": null,
       "bottom": null,
       "display": null,
       "flex": null,
       "flex_flow": null,
       "grid_area": null,
       "grid_auto_columns": null,
       "grid_auto_flow": null,
       "grid_auto_rows": null,
       "grid_column": null,
       "grid_gap": null,
       "grid_row": null,
       "grid_template_areas": null,
       "grid_template_columns": null,
       "grid_template_rows": null,
       "height": null,
       "justify_content": null,
       "justify_items": null,
       "left": null,
       "margin": null,
       "max_height": null,
       "max_width": null,
       "min_height": null,
       "min_width": null,
       "object_fit": null,
       "object_position": null,
       "order": null,
       "overflow": null,
       "overflow_x": null,
       "overflow_y": null,
       "padding": null,
       "right": null,
       "top": null,
       "visibility": null,
       "width": null
      }
     },
     "d425e35637ca49eea8aa16f7818bb20e": {
      "model_module": "@jupyter-widgets/base",
      "model_module_version": "1.2.0",
      "model_name": "LayoutModel",
      "state": {
       "_model_module": "@jupyter-widgets/base",
       "_model_module_version": "1.2.0",
       "_model_name": "LayoutModel",
       "_view_count": null,
       "_view_module": "@jupyter-widgets/base",
       "_view_module_version": "1.2.0",
       "_view_name": "LayoutView",
       "align_content": null,
       "align_items": null,
       "align_self": null,
       "border": null,
       "bottom": null,
       "display": null,
       "flex": null,
       "flex_flow": null,
       "grid_area": null,
       "grid_auto_columns": null,
       "grid_auto_flow": null,
       "grid_auto_rows": null,
       "grid_column": null,
       "grid_gap": null,
       "grid_row": null,
       "grid_template_areas": null,
       "grid_template_columns": null,
       "grid_template_rows": null,
       "height": null,
       "justify_content": null,
       "justify_items": null,
       "left": null,
       "margin": null,
       "max_height": null,
       "max_width": null,
       "min_height": null,
       "min_width": null,
       "object_fit": null,
       "object_position": null,
       "order": null,
       "overflow": null,
       "overflow_x": null,
       "overflow_y": null,
       "padding": null,
       "right": null,
       "top": null,
       "visibility": null,
       "width": null
      }
     },
     "e6dbbacb0cf9439c966ffd99cb578000": {
      "model_module": "@jupyter-widgets/controls",
      "model_module_version": "1.5.0",
      "model_name": "HTMLModel",
      "state": {
       "_dom_classes": [],
       "_model_module": "@jupyter-widgets/controls",
       "_model_module_version": "1.5.0",
       "_model_name": "HTMLModel",
       "_view_count": null,
       "_view_module": "@jupyter-widgets/controls",
       "_view_module_version": "1.5.0",
       "_view_name": "HTMLView",
       "description": "",
       "description_tooltip": null,
       "layout": "IPY_MODEL_1ccf35afd14e4ef6a4c8b662bdffc9d0",
       "placeholder": "​",
       "style": "IPY_MODEL_4bec8b70b94042869f6a54c7bbb58cd3",
       "value": "config.json: 100%"
      }
     },
     "eb04b47ea91140ec8d1cbc189bd9cc24": {
      "model_module": "@jupyter-widgets/controls",
      "model_module_version": "1.5.0",
      "model_name": "HTMLModel",
      "state": {
       "_dom_classes": [],
       "_model_module": "@jupyter-widgets/controls",
       "_model_module_version": "1.5.0",
       "_model_name": "HTMLModel",
       "_view_count": null,
       "_view_module": "@jupyter-widgets/controls",
       "_view_module_version": "1.5.0",
       "_view_name": "HTMLView",
       "description": "",
       "description_tooltip": null,
       "layout": "IPY_MODEL_b7532cdcfac4463c89843a62013cdc95",
       "placeholder": "​",
       "style": "IPY_MODEL_4e370e53ebcc4798a8310b89abea4cdd",
       "value": " 28.0/28.0 [00:00&lt;00:00, 2.36kB/s]"
      }
     },
     "ebcd4bebb8e14e028288dab7d160adff": {
      "model_module": "@jupyter-widgets/controls",
      "model_module_version": "1.5.0",
      "model_name": "ProgressStyleModel",
      "state": {
       "_model_module": "@jupyter-widgets/controls",
       "_model_module_version": "1.5.0",
       "_model_name": "ProgressStyleModel",
       "_view_count": null,
       "_view_module": "@jupyter-widgets/base",
       "_view_module_version": "1.2.0",
       "_view_name": "StyleView",
       "bar_color": null,
       "description_width": ""
      }
     },
     "ed8c7327553e4e3e884d4317b259d360": {
      "model_module": "@jupyter-widgets/controls",
      "model_module_version": "1.5.0",
      "model_name": "FloatProgressModel",
      "state": {
       "_dom_classes": [],
       "_model_module": "@jupyter-widgets/controls",
       "_model_module_version": "1.5.0",
       "_model_name": "FloatProgressModel",
       "_view_count": null,
       "_view_module": "@jupyter-widgets/controls",
       "_view_module_version": "1.5.0",
       "_view_name": "ProgressView",
       "bar_style": "success",
       "description": "",
       "description_tooltip": null,
       "layout": "IPY_MODEL_3ed799c8c476465891195d63f16c0207",
       "max": 466062,
       "min": 0,
       "orientation": "horizontal",
       "style": "IPY_MODEL_89f5b311721943adb2e7d85c80b19602",
       "value": 466062
      }
     },
     "f31a4e5b62e04ffbb6254b7c43bcdbff": {
      "model_module": "@jupyter-widgets/controls",
      "model_module_version": "1.5.0",
      "model_name": "DescriptionStyleModel",
      "state": {
       "_model_module": "@jupyter-widgets/controls",
       "_model_module_version": "1.5.0",
       "_model_name": "DescriptionStyleModel",
       "_view_count": null,
       "_view_module": "@jupyter-widgets/base",
       "_view_module_version": "1.2.0",
       "_view_name": "StyleView",
       "description_width": ""
      }
     }
    },
    "version_major": 2,
    "version_minor": 0
   }
  }
 },
 "nbformat": 4,
 "nbformat_minor": 5
}
